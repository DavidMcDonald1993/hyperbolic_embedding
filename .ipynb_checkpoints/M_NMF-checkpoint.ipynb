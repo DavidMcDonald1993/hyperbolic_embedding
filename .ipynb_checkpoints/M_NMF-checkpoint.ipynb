{
 "cells": [
  {
   "cell_type": "code",
   "execution_count": 15,
   "metadata": {
    "collapsed": false
   },
   "outputs": [
    {
     "ename": "ImportError",
     "evalue": "No module named networkx",
     "output_type": "error",
     "traceback": [
      "\u001b[0;31m---------------------------------------------------------------------------\u001b[0m",
      "\u001b[0;31mImportError\u001b[0m                               Traceback (most recent call last)",
      "\u001b[0;32m<ipython-input-15-6b952873945c>\u001b[0m in \u001b[0;36m<module>\u001b[0;34m()\u001b[0m\n\u001b[0;32m----> 1\u001b[0;31m \u001b[0;32mimport\u001b[0m \u001b[0mnetworkx\u001b[0m\u001b[0;34m\u001b[0m\u001b[0m\n\u001b[0m",
      "\u001b[0;31mImportError\u001b[0m: No module named networkx"
     ]
    }
   ],
   "source": [
    "import networkx"
   ]
  },
  {
   "cell_type": "code",
   "execution_count": 13,
   "metadata": {
    "collapsed": false
   },
   "outputs": [
    {
     "ename": "ImportError",
     "evalue": "cannot import name release",
     "output_type": "error",
     "traceback": [
      "\u001b[0;31m---------------------------------------------------------------------------\u001b[0m",
      "\u001b[0;31mImportError\u001b[0m                               Traceback (most recent call last)",
      "\u001b[0;32m<ipython-input-13-5b21cb09b86b>\u001b[0m in \u001b[0;36m<module>\u001b[0;34m()\u001b[0m\n\u001b[1;32m      2\u001b[0m \u001b[0;34m\u001b[0m\u001b[0m\n\u001b[1;32m      3\u001b[0m \u001b[0;32mimport\u001b[0m \u001b[0mnumpy\u001b[0m \u001b[0;32mas\u001b[0m \u001b[0mnp\u001b[0m\u001b[0;34m\u001b[0m\u001b[0m\n\u001b[0;32m----> 4\u001b[0;31m \u001b[0;32mimport\u001b[0m \u001b[0mnetworkx\u001b[0m \u001b[0;32mas\u001b[0m \u001b[0mnx\u001b[0m\u001b[0;34m\u001b[0m\u001b[0m\n\u001b[0m\u001b[1;32m      5\u001b[0m \u001b[0;34m\u001b[0m\u001b[0m\n\u001b[1;32m      6\u001b[0m \u001b[0;32mfrom\u001b[0m \u001b[0msklearn\u001b[0m\u001b[0;34m.\u001b[0m\u001b[0mmetrics\u001b[0m \u001b[0;32mimport\u001b[0m \u001b[0mpairwise_distances\u001b[0m\u001b[0;34m\u001b[0m\u001b[0m\n",
      "\u001b[0;32m/home/david/miniconda2/lib/python2.7/site-packages/networkx/__init__.py\u001b[0m in \u001b[0;36m<module>\u001b[0;34m()\u001b[0m\n\u001b[1;32m     41\u001b[0m \u001b[0;34m\u001b[0m\u001b[0m\n\u001b[1;32m     42\u001b[0m \u001b[0;31m# Release data\u001b[0m\u001b[0;34m\u001b[0m\u001b[0;34m\u001b[0m\u001b[0m\n\u001b[0;32m---> 43\u001b[0;31m \u001b[0;32mfrom\u001b[0m \u001b[0mnetworkx\u001b[0m \u001b[0;32mimport\u001b[0m \u001b[0mrelease\u001b[0m\u001b[0;34m\u001b[0m\u001b[0m\n\u001b[0m\u001b[1;32m     44\u001b[0m \u001b[0;34m\u001b[0m\u001b[0m\n\u001b[1;32m     45\u001b[0m \u001b[0m__author__\u001b[0m \u001b[0;34m=\u001b[0m \u001b[0;34m'%s <%s>\\n%s <%s>\\n%s <%s>'\u001b[0m \u001b[0;34m%\u001b[0m\u001b[0;31m \u001b[0m\u001b[0;31m\\\u001b[0m\u001b[0;34m\u001b[0m\u001b[0m\n",
      "\u001b[0;31mImportError\u001b[0m: cannot import name release"
     ]
    }
   ],
   "source": [
    "from __future__ import division\n",
    "\n",
    "import numpy as np\n",
    "import networkx as nx\n",
    "\n",
    "from sklearn.metrics import pairwise_distances"
   ]
  },
  {
   "cell_type": "code",
   "execution_count": 2,
   "metadata": {
    "collapsed": false
   },
   "outputs": [
    {
     "name": "stdout",
     "output_type": "stream",
     "text": [
      "dolphins_labelled.gml\r\n",
      "embedded_ccsb.gml\r\n",
      "embedded_collins.gml\r\n",
      "embedded_dolphin.gml\r\n",
      "embedded_florentine_families.gml\r\n",
      "embedded_football.gml\r\n",
      "embedded_hi_ii_14.gml\r\n",
      "embedded_ito_core.gml\r\n",
      "embedded_karate.gml\r\n",
      "embedded_lc_multiple.gml\r\n",
      "embedded_network_69.gml\r\n",
      "embedded_polbooks.gml\r\n",
      "embedded_pollbooks.gml\r\n",
      "embedded_yeast_reactome.gml\r\n",
      "embedded_yeast_uetz.gml\r\n",
      "embedded_yeast_uetz_rel.gml\r\n",
      "embedded_yeast_uetz_wang.gml\r\n",
      "embedded_yeast_union.gml\r\n",
      "embedded_yeast_union_rel.gml\r\n",
      "football.gml\r\n",
      "polbooks.gml\r\n"
     ]
    }
   ],
   "source": [
    "!ls | grep gml"
   ]
  },
  {
   "cell_type": "code",
   "execution_count": 5,
   "metadata": {
    "collapsed": false
   },
   "outputs": [
    {
     "ename": "NetworkXError",
     "evalue": "edge #44 (3--84) is duplicated",
     "output_type": "error",
     "traceback": [
      "\u001b[0;31m---------------------------------------------------------------------------\u001b[0m",
      "\u001b[0;31mNetworkXError\u001b[0m                             Traceback (most recent call last)",
      "\u001b[0;32m<ipython-input-5-d978ba5dd85b>\u001b[0m in \u001b[0;36m<module>\u001b[0;34m()\u001b[0m\n\u001b[1;32m      1\u001b[0m \u001b[0;31m# start with karate club graph\u001b[0m\u001b[0;34m\u001b[0m\u001b[0;34m\u001b[0m\u001b[0m\n\u001b[1;32m      2\u001b[0m \u001b[0;31m# G = nx.karate_club_graph()\u001b[0m\u001b[0;34m\u001b[0m\u001b[0;34m\u001b[0m\u001b[0m\n\u001b[0;32m----> 3\u001b[0;31m \u001b[0mG\u001b[0m \u001b[0;34m=\u001b[0m \u001b[0mnx\u001b[0m\u001b[0;34m.\u001b[0m\u001b[0mread_gml\u001b[0m\u001b[0;34m(\u001b[0m\u001b[0;34m\"embedded_football.gml\"\u001b[0m\u001b[0;34m)\u001b[0m\u001b[0;34m\u001b[0m\u001b[0m\n\u001b[0m\u001b[1;32m      4\u001b[0m \u001b[0;31m# G = nx.read_edgelist(\"reactome_edgelist.txt\")\u001b[0m\u001b[0;34m\u001b[0m\u001b[0;34m\u001b[0m\u001b[0m\n\u001b[1;32m      5\u001b[0m \u001b[0mG\u001b[0m \u001b[0;34m=\u001b[0m \u001b[0mmax\u001b[0m\u001b[0;34m(\u001b[0m\u001b[0mnx\u001b[0m\u001b[0;34m.\u001b[0m\u001b[0mconnected_component_subgraphs\u001b[0m\u001b[0;34m(\u001b[0m\u001b[0mG\u001b[0m\u001b[0;34m)\u001b[0m\u001b[0;34m,\u001b[0m \u001b[0mkey\u001b[0m\u001b[0;34m=\u001b[0m\u001b[0mlen\u001b[0m\u001b[0;34m)\u001b[0m\u001b[0;34m\u001b[0m\u001b[0m\n",
      "\u001b[0;32m<decorator-gen-349>\u001b[0m in \u001b[0;36mread_gml\u001b[0;34m(path, label, destringizer)\u001b[0m\n",
      "\u001b[0;32m/home/david/miniconda2/lib/python2.7/site-packages/networkx/utils/decorators.pyc\u001b[0m in \u001b[0;36m_open_file\u001b[0;34m(func, *args, **kwargs)\u001b[0m\n\u001b[1;32m    218\u001b[0m         \u001b[0;31m# Finally, we call the original function, making sure to close the fobj.\u001b[0m\u001b[0;34m\u001b[0m\u001b[0;34m\u001b[0m\u001b[0m\n\u001b[1;32m    219\u001b[0m         \u001b[0;32mtry\u001b[0m\u001b[0;34m:\u001b[0m\u001b[0;34m\u001b[0m\u001b[0m\n\u001b[0;32m--> 220\u001b[0;31m             \u001b[0mresult\u001b[0m \u001b[0;34m=\u001b[0m \u001b[0mfunc\u001b[0m\u001b[0;34m(\u001b[0m\u001b[0;34m*\u001b[0m\u001b[0mnew_args\u001b[0m\u001b[0;34m,\u001b[0m \u001b[0;34m**\u001b[0m\u001b[0mkwargs\u001b[0m\u001b[0;34m)\u001b[0m\u001b[0;34m\u001b[0m\u001b[0m\n\u001b[0m\u001b[1;32m    221\u001b[0m         \u001b[0;32mfinally\u001b[0m\u001b[0;34m:\u001b[0m\u001b[0;34m\u001b[0m\u001b[0m\n\u001b[1;32m    222\u001b[0m             \u001b[0;32mif\u001b[0m \u001b[0mclose_fobj\u001b[0m\u001b[0;34m:\u001b[0m\u001b[0;34m\u001b[0m\u001b[0m\n",
      "\u001b[0;32m/home/david/miniconda2/lib/python2.7/site-packages/networkx/readwrite/gml.pyc\u001b[0m in \u001b[0;36mread_gml\u001b[0;34m(path, label, destringizer)\u001b[0m\n\u001b[1;32m    208\u001b[0m             \u001b[0;32myield\u001b[0m \u001b[0mline\u001b[0m\u001b[0;34m\u001b[0m\u001b[0m\n\u001b[1;32m    209\u001b[0m \u001b[0;34m\u001b[0m\u001b[0m\n\u001b[0;32m--> 210\u001b[0;31m     \u001b[0mG\u001b[0m \u001b[0;34m=\u001b[0m \u001b[0mparse_gml_lines\u001b[0m\u001b[0;34m(\u001b[0m\u001b[0mfilter_lines\u001b[0m\u001b[0;34m(\u001b[0m\u001b[0mpath\u001b[0m\u001b[0;34m)\u001b[0m\u001b[0;34m,\u001b[0m \u001b[0mlabel\u001b[0m\u001b[0;34m,\u001b[0m \u001b[0mdestringizer\u001b[0m\u001b[0;34m)\u001b[0m\u001b[0;34m\u001b[0m\u001b[0m\n\u001b[0m\u001b[1;32m    211\u001b[0m     \u001b[0;32mreturn\u001b[0m \u001b[0mG\u001b[0m\u001b[0;34m\u001b[0m\u001b[0m\n\u001b[1;32m    212\u001b[0m \u001b[0;34m\u001b[0m\u001b[0m\n",
      "\u001b[0;32m/home/david/miniconda2/lib/python2.7/site-packages/networkx/readwrite/gml.pyc\u001b[0m in \u001b[0;36mparse_gml_lines\u001b[0;34m(lines, label, destringizer)\u001b[0m\n\u001b[1;32m    430\u001b[0m                 raise nx.NetworkXError(\n\u001b[1;32m    431\u001b[0m                     \u001b[0;34m'edge #%d (%r%s%r) is duplicated'\u001b[0m \u001b[0;34m%\u001b[0m\u001b[0;34m\u001b[0m\u001b[0m\n\u001b[0;32m--> 432\u001b[0;31m                     (i, source, '->' if directed else '--', target))\n\u001b[0m\u001b[1;32m    433\u001b[0m         \u001b[0;32melse\u001b[0m\u001b[0;34m:\u001b[0m\u001b[0;34m\u001b[0m\u001b[0m\n\u001b[1;32m    434\u001b[0m             \u001b[0mkey\u001b[0m \u001b[0;34m=\u001b[0m \u001b[0medge\u001b[0m\u001b[0;34m.\u001b[0m\u001b[0mpop\u001b[0m\u001b[0;34m(\u001b[0m\u001b[0;34m'key'\u001b[0m\u001b[0;34m,\u001b[0m \u001b[0mNone\u001b[0m\u001b[0;34m)\u001b[0m\u001b[0;34m\u001b[0m\u001b[0m\n",
      "\u001b[0;31mNetworkXError\u001b[0m: edge #44 (3--84) is duplicated"
     ]
    }
   ],
   "source": [
    "# start with karate club graph\n",
    "# G = nx.karate_club_graph()\n",
    "G = nx.read_gml(\"embedded_football.gml\")\n",
    "# G = nx.read_edgelist(\"reactome_edgelist.txt\")\n",
    "G = max(nx.connected_component_subgraphs(G), key=len)"
   ]
  },
  {
   "cell_type": "code",
   "execution_count": 4,
   "metadata": {
    "collapsed": true
   },
   "outputs": [],
   "source": [
    "# parameters \n",
    "eta = 5\n",
    "alpha = 1\n",
    "beta = 1\n",
    "lam = 1e8\n",
    "\n",
    "eps = 1e-8\n",
    "\n",
    "# dimension of embedding\n",
    "m = 2\n",
    "\n",
    "# number of communities\n",
    "k = 2"
   ]
  },
  {
   "cell_type": "code",
   "execution_count": 5,
   "metadata": {
    "collapsed": false
   },
   "outputs": [],
   "source": [
    "# a priori information about network\n",
    "\n",
    "# number of nodes\n",
    "N = nx.number_of_nodes(G)\n",
    "\n",
    "# number of edges\n",
    "e = nx.number_of_edges(G)\n",
    "\n",
    "# adjacency matrix\n",
    "A = np.array(nx.adjacency_matrix(G).todense())\n",
    "\n",
    "# node degrees\n",
    "degrees = nx.degree(G).values()\n",
    "\n",
    "# first order similarity\n",
    "S1 = A\n",
    "\n",
    "#second order similarity\n",
    "S2 = 1 - pairwise_distances(A, metric=\"cosine\")\n",
    "\n",
    "# similarity matrix \n",
    "S = S1 + eta * S2\n",
    "\n",
    "# modularity matrix\n",
    "B1 = np.array([[(degrees[i] * degrees[j]) / (2 * e) for j in range(N)] for i in range(N)])\n",
    "B = A - B1"
   ]
  },
  {
   "cell_type": "code",
   "execution_count": 6,
   "metadata": {
    "collapsed": false
   },
   "outputs": [],
   "source": [
    "# initialise matrices \n",
    "\n",
    "w = 1\n",
    "\n",
    "# basis matrix\n",
    "M = np.random.rand(N, m) * w\n",
    "\n",
    "# representation matrix\n",
    "U = np.random.rand(N, m) * w\n",
    "\n",
    "# community membership matrix\n",
    "H = np.random.rand(N, k) * w\n",
    "\n",
    "# community representation matrix \n",
    "C = np.random.rand(k, m) * w"
   ]
  },
  {
   "cell_type": "code",
   "execution_count": 7,
   "metadata": {
    "collapsed": false
   },
   "outputs": [],
   "source": [
    "# parameter updates\n",
    "\n",
    "num_iter = 1000\n",
    "\n",
    "similarities = np.zeros(num_iter)\n",
    "communities = np.zeros(num_iter)\n",
    "modularities = np.zeros(num_iter)\n",
    "scores = np.zeros(num_iter)\n",
    "\n",
    "for i in range(num_iter):\n",
    "    \n",
    "    # update M\n",
    "    M = M * np.dot(S, U) / (np.dot(np.dot(M, U.T), U) + eps)\n",
    "    \n",
    "    if np.any(M < 0):\n",
    "        print \"M is negative\"\n",
    "        break\n",
    "    \n",
    "    if np.isnan(M).any():\n",
    "        print \"M IS NAN\"\n",
    "        break\n",
    "    \n",
    "    # update U\n",
    "    U = U * np.transpose( (np.dot(M.T, S) + alpha * np.dot(C.T, H.T)) / \\\n",
    "                 (np.dot( (np.dot(M.T, M) + alpha * (np.dot(C.T, C))), U.T) + eps) )\n",
    "    \n",
    "    if np.any(U < 0):\n",
    "        print \"U is negative\"\n",
    "#         U[U < 0] = 0 \n",
    "        break\n",
    "    \n",
    "    if np.isnan(U).any():\n",
    "        print \"U IS NAN\"\n",
    "        break\n",
    "        \n",
    "    # update C\n",
    "    C = C * np.dot(H.T, U) / (np.dot(np.dot(C, U.T), U) + eps)\n",
    "    \n",
    "    if np.any(C < 0):\n",
    "        print \"C is negative\"\n",
    "        break\n",
    "    \n",
    "    if np.isnan(C).any():\n",
    "        print \"C IS NAN\"\n",
    "        break\n",
    "    \n",
    "    # update H\n",
    "    delta = 2 * beta * np.dot(B1, H) * np.dot(B1, H) + 16 * lam * np.dot(np.dot(H, H.T), H) * \\\n",
    "            (2 * beta * np.dot(A, H) + 2 * alpha * np.dot(U, C.T) + (4 * lam - 2 * alpha) * H)\n",
    "    \n",
    "    if np.any(delta) < 0:\n",
    "        print \"delta is negative\"\n",
    "        break\n",
    "    \n",
    "    if np.isnan(delta).any():\n",
    "        print \"delta IS NAN\"\n",
    "        break\n",
    "        \n",
    "    if np.isinf(delta).any():\n",
    "        print \"delta is inf\"\n",
    "        break\n",
    "        \n",
    "    # before square root    \n",
    "    h = (-2 * beta * np.dot(B1, H) + np.sqrt(delta)) / \\\n",
    "                    (8 * lam * np.dot(np.dot(H, H.T), H) + eps)\n",
    "        \n",
    "    if np.any(h < 0):\n",
    "#         print \"negative before square root\"\n",
    "        h[h < 0] = 0\n",
    "#         print delta\n",
    "#         print \n",
    "#         print -2 * beta * B1.dot(H)\n",
    "#         print \n",
    "#         print -2 * beta * np.dot(B1, H) + np.sqrt(delta)\n",
    "#         break\n",
    "    \n",
    "    H = H * np.sqrt(h)\n",
    "    \n",
    "    if np.any(H < 0):\n",
    "        print \"H is negative\"\n",
    "        break\n",
    "    \n",
    "    if np.isnan(H).any():\n",
    "        print \"H IS NAN\"\n",
    "        break\n",
    "        \n",
    "#     print np.linalg.norm(M)\n",
    "#     print np.linalg.norm(U)\n",
    "#     print np.linalg.norm(C)\n",
    "#     print np.linalg.norm(H)\n",
    "    \n",
    "    # estimate quality of embedding\n",
    "#     print \"iteration={}\".format(i)\n",
    "\n",
    "    similarity = np.linalg.norm(S - np.dot(M, U.T), ord=\"fro\") ** 2\n",
    "    similarities[i] = similarity\n",
    "#     print \"similarity={}\".format(similarity)\n",
    "\n",
    "    community = alpha * np.linalg.norm(H - np.dot(U, C.T), ord=\"fro\") ** 2\n",
    "    communities[i] = community\n",
    "#     print \"community={}\".format(community)\n",
    "\n",
    "    Q = - beta * np.trace(np.dot(np.dot(H.T, B), H))\n",
    "    modularities[i] = Q\n",
    "#     print \"modularity={}\".format(Q)\n",
    "\n",
    "    f = similarity + community + Q    \n",
    "    scores[i] = f\n",
    "#     print \"f={}\".format(f)\n",
    "#     print\n",
    "\n",
    "    "
   ]
  },
  {
   "cell_type": "code",
   "execution_count": 8,
   "metadata": {
    "collapsed": true
   },
   "outputs": [],
   "source": [
    "%matplotlib inline\n",
    "import matplotlib.pyplot as plt"
   ]
  },
  {
   "cell_type": "code",
   "execution_count": 9,
   "metadata": {
    "collapsed": false
   },
   "outputs": [
    {
     "name": "stdout",
     "output_type": "stream",
     "text": [
      "2051.10809593\n",
      "676.08770963\n"
     ]
    }
   ],
   "source": [
    "print scores[0]\n",
    "print scores[-1]"
   ]
  },
  {
   "cell_type": "code",
   "execution_count": 10,
   "metadata": {
    "collapsed": false
   },
   "outputs": [
    {
     "data": {
      "text/plain": [
       "[<matplotlib.lines.Line2D at 0x7f5f696e7f50>]"
      ]
     },
     "execution_count": 10,
     "metadata": {},
     "output_type": "execute_result"
    },
    {
     "data": {
      "image/png": "[encoded data removed]",
      "text/plain": [
       "<matplotlib.figure.Figure at 0x7f5f697474d0>"
      ]
     },
     "metadata": {},
     "output_type": "display_data"
    }
   ],
   "source": [
    "plt.plot(range(num_iter), similarities)\n",
    "plt.plot(range(num_iter), communities)\n",
    "plt.plot(range(num_iter), modularities)\n",
    "plt.plot(range(num_iter), scores)"
   ]
  },
  {
   "cell_type": "code",
   "execution_count": 11,
   "metadata": {
    "collapsed": false,
    "scrolled": false
   },
   "outputs": [
    {
     "data": {
      "text/plain": [
       "<matplotlib.collections.PathCollection at 0x7f5f695e5b90>"
      ]
     },
     "execution_count": 11,
     "metadata": {},
     "output_type": "execute_result"
    },
    {
     "data": {
      "image/png": "[encoded data removed]",
      "text/plain": [
       "<matplotlib.figure.Figure at 0x7f5f70067b50>"
      ]
     },
     "metadata": {},
     "output_type": "display_data"
    }
   ],
   "source": [
    "fig, ax = plt.subplots(figsize=(15, 15))\n",
    "\n",
    "nodes = np.array(G.nodes())\n",
    "\n",
    "# for x, y, n in zip(U[:,0], U[:,1], G.nodes()):\n",
    "#     ax.annotate(n, xy = (x, y), xytext=(x, y))\n",
    "# for n1, n2 in G.edges():\n",
    "#     i, = np.where(nodes == n1)\n",
    "#     j, = np.where(nodes == n2)\n",
    "#     ax.plot(U[(i, j), 0], U[(i, j), 1], c=\"k\")\n",
    "\n",
    "ax.scatter(U[:,0], U[:,1])    "
   ]
  },
  {
   "cell_type": "code",
   "execution_count": 12,
   "metadata": {
    "collapsed": true
   },
   "outputs": [],
   "source": [
    "D = pairwise_distances(U)"
   ]
  },
  {
   "cell_type": "code",
   "execution_count": 13,
   "metadata": {
    "collapsed": false
   },
   "outputs": [
    {
     "data": {
      "text/plain": [
       "array([ 5.        ,  3.91666667,  2.97642354,  3.55155182,  2.44337567,\n",
       "        2.25      ,  2.25      ,  2.875     ,  1.55901699,  0.88388348,\n",
       "        2.44337567,  1.        ,  1.88388348,  2.67705098,  0.        ,\n",
       "        0.        ,  1.76776695,  1.88388348,  0.        ,  1.72168784,\n",
       "        0.        ,  1.88388348,  0.        ,  0.        ,  0.72168784,\n",
       "        0.72168784,  0.        ,  0.625     ,  1.44337567,  0.        ,\n",
       "        1.25      ,  1.        ,  1.08253175,  1.21267813])"
      ]
     },
     "execution_count": 13,
     "metadata": {},
     "output_type": "execute_result"
    }
   ],
   "source": [
    "S[0]"
   ]
  },
  {
   "cell_type": "code",
   "execution_count": 14,
   "metadata": {
    "collapsed": false
   },
   "outputs": [
    {
     "data": {
      "text/plain": [
       "array([ 0.        ,  0.04223751,  0.41203964,  0.09349125,  0.21824522,\n",
       "        0.26994694,  0.27000779,  0.2249144 ,  1.14220926,  1.32069546,\n",
       "        0.21797945,  0.09865147,  0.08360153,  0.56585585,  1.85424326,\n",
       "        1.85424452,  0.85589897,  0.19594399,  1.85417702,  0.61878111,\n",
       "        1.85415092,  0.19611506,  1.85445065,  1.62693936,  1.14050997,\n",
       "        1.17538271,  1.50453165,  1.30221514,  1.2738606 ,  1.66855965,\n",
       "        1.3779699 ,  1.15625388,  1.41420837,  1.37545808])"
      ]
     },
     "execution_count": 14,
     "metadata": {},
     "output_type": "execute_result"
    }
   ],
   "source": [
    "D[0]"
   ]
  },
  {
   "cell_type": "code",
   "execution_count": 15,
   "metadata": {
    "collapsed": false
   },
   "outputs": [
    {
     "data": {
      "text/plain": [
       "<matplotlib.collections.PathCollection at 0x7f5f69509a50>"
      ]
     },
     "execution_count": 15,
     "metadata": {},
     "output_type": "execute_result"
    },
    {
     "data": {
      "image/png": "[encoded data removed]",
      "text/plain": [
       "<matplotlib.figure.Figure at 0x7f5f690c75d0>"
      ]
     },
     "metadata": {},
     "output_type": "display_data"
    }
   ],
   "source": [
    "plt.scatter(S[0], D[0])"
   ]
  },
  {
   "cell_type": "code",
   "execution_count": 24,
   "metadata": {
    "collapsed": false
   },
   "outputs": [
    {
     "data": {
      "text/plain": [
       "array([-0.85358755, -0.73049744, -0.57887232, -0.7997853 , -0.82925674,\n",
       "       -0.81419565, -0.81417911, -0.84075199, -0.72183654, -0.69268793,\n",
       "       -0.82922454, -0.83478869, -0.85458527, -0.70078879, -0.92923639,\n",
       "       -0.92923656, -0.64619675, -0.84664971, -0.92922469, -0.54050292,\n",
       "       -0.92921896, -0.84668363, -0.92925532, -0.91142713, -0.71184828,\n",
       "       -0.75874653, -0.83149813, -0.78163991, -0.76128336, -0.92763322,\n",
       "       -0.66568573, -0.62335286, -0.84846859, -0.79018237])"
      ]
     },
     "execution_count": 24,
     "metadata": {},
     "output_type": "execute_result"
    }
   ],
   "source": [
    "from scipy.stats import pearsonr\n",
    "\n",
    "np.array([pearsonr(S[i], D[i])[0] for i in range(len(S))])"
   ]
  },
  {
   "cell_type": "code",
   "execution_count": 16,
   "metadata": {
    "collapsed": false
   },
   "outputs": [],
   "source": [
    "from sklearn.cluster import KMeans"
   ]
  },
  {
   "cell_type": "code",
   "execution_count": 17,
   "metadata": {
    "collapsed": true
   },
   "outputs": [],
   "source": [
    "kmeans = KMeans(n_clusters=2, max_iter=10000)"
   ]
  },
  {
   "cell_type": "code",
   "execution_count": 18,
   "metadata": {
    "collapsed": false
   },
   "outputs": [
    {
     "data": {
      "text/plain": [
       "KMeans(algorithm='auto', copy_x=True, init='k-means++', max_iter=10000,\n",
       "    n_clusters=2, n_init=10, n_jobs=1, precompute_distances='auto',\n",
       "    random_state=None, tol=0.0001, verbose=0)"
      ]
     },
     "execution_count": 18,
     "metadata": {},
     "output_type": "execute_result"
    }
   ],
   "source": [
    "kmeans.fit(U)"
   ]
  },
  {
   "cell_type": "code",
   "execution_count": 19,
   "metadata": {
    "collapsed": false
   },
   "outputs": [],
   "source": [
    "kmeans_pred = kmeans.predict(U)"
   ]
  },
  {
   "cell_type": "code",
   "execution_count": 20,
   "metadata": {
    "collapsed": false
   },
   "outputs": [],
   "source": [
    "true_labels = nx.get_node_attributes(G, \"club\").values()"
   ]
  },
  {
   "cell_type": "code",
   "execution_count": 21,
   "metadata": {
    "collapsed": true
   },
   "outputs": [],
   "source": [
    "from sklearn.metrics import normalized_mutual_info_score"
   ]
  },
  {
   "cell_type": "code",
   "execution_count": 22,
   "metadata": {
    "collapsed": false
   },
   "outputs": [
    {
     "data": {
      "text/plain": [
       "0.83717011721869428"
      ]
     },
     "execution_count": 22,
     "metadata": {},
     "output_type": "execute_result"
    }
   ],
   "source": [
    "normalized_mutual_info_score(true_labels, kmeans_pred)"
   ]
  },
  {
   "cell_type": "code",
   "execution_count": 23,
   "metadata": {
    "collapsed": true
   },
   "outputs": [],
   "source": [
    "from sklearn.manifold import SpectralEmbedding"
   ]
  },
  {
   "cell_type": "code",
   "execution_count": 24,
   "metadata": {
    "collapsed": true
   },
   "outputs": [],
   "source": [
    "sp = SpectralEmbedding(n_components=2)"
   ]
  },
  {
   "cell_type": "code",
   "execution_count": 25,
   "metadata": {
    "collapsed": true
   },
   "outputs": [],
   "source": [
    "G = nx.read_edgelist(\"Uetz_screen.txt\")\n",
    "G = max(nx.connected_component_subgraphs(G), key=len)\n",
    "A = nx.adjacency_matrix(G)"
   ]
  },
  {
   "cell_type": "code",
   "execution_count": null,
   "metadata": {
    "collapsed": true
   },
   "outputs": [],
   "source": []
  }
 ],
 "metadata": {
  "anaconda-cloud": {},
  "kernelspec": {
   "display_name": "Python [default]",
   "language": "python",
   "name": "python2"
  }
 },
 "nbformat": 4,
 "nbformat_minor": 2
}
