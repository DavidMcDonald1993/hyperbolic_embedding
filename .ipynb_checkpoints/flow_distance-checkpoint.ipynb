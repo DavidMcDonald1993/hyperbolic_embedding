{
 "cells": [
  {
   "cell_type": "code",
   "execution_count": 1,
   "metadata": {
    "collapsed": true
   },
   "outputs": [],
   "source": [
    "%matplotlib inline\n",
    "\n",
    "import numpy as np\n",
    "import networkx as nx\n",
    "import matplotlib.pyplot as plt"
   ]
  },
  {
   "cell_type": "code",
   "execution_count": 92,
   "metadata": {
    "collapsed": false
   },
   "outputs": [],
   "source": [
    "biogrid_edgelist = np.genfromtxt(\"BIOGRID-ORGANISM-Saccharomyces_cerevisiae_S288c-3.4.149.tab2.txt\", skip_header=True,\n",
    "                                usecols=(1,2))"
   ]
  },
  {
   "cell_type": "code",
   "execution_count": 94,
   "metadata": {
    "collapsed": false
   },
   "outputs": [
    {
     "data": {
      "text/plain": [
       "(681098, 2)"
      ]
     },
     "execution_count": 94,
     "metadata": {},
     "output_type": "execute_result"
    }
   ],
   "source": [
    "biogrid_edgelist.shape"
   ]
  },
  {
   "cell_type": "code",
   "execution_count": 65,
   "metadata": {
    "collapsed": false
   },
   "outputs": [],
   "source": [
    "G = nx.karate_club_graph()\n",
    "# G = nx.read_gml(\"embedded_football.gml\")\n",
    "# G = nx.read_gml(\"embedded_yeast_union.gml\")\n",
    "# assignments = np.array(nx.get_node_attributes(G, \"value\").values())"
   ]
  },
  {
   "cell_type": "code",
   "execution_count": 66,
   "metadata": {
    "collapsed": true
   },
   "outputs": [],
   "source": [
    "N = nx.number_of_nodes(G)"
   ]
  },
  {
   "cell_type": "code",
   "execution_count": 110,
   "metadata": {
    "collapsed": false
   },
   "outputs": [],
   "source": [
    "A = np.array(nx.adjacency_matrix(G).todense())\n",
    "D = np.diag(A.sum(axis=0))"
   ]
  },
  {
   "cell_type": "code",
   "execution_count": 112,
   "metadata": {
    "collapsed": true
   },
   "outputs": [],
   "source": [
    "pi = A.sum(axis=0, dtype=np.float32)/A.sum()"
   ]
  },
  {
   "cell_type": "code",
   "execution_count": 69,
   "metadata": {
    "collapsed": false
   },
   "outputs": [],
   "source": [
    "# P = np.ones(N) / N\n",
    "P = np.append(np.ones(1), np.zeros(N - 1))"
   ]
  },
  {
   "cell_type": "code",
   "execution_count": 113,
   "metadata": {
    "collapsed": false
   },
   "outputs": [],
   "source": [
    "W = A.dot(np.diag(1./D.diagonal()))\n",
    "W = 0.5 * np.identity(N) + 0.5 * W"
   ]
  },
  {
   "cell_type": "code",
   "execution_count": 114,
   "metadata": {
    "collapsed": false
   },
   "outputs": [
    {
     "data": {
      "text/plain": [
       "array([[ 0.5,  0. ,  0. , ...,  0. ,  0. ,  0. ],\n",
       "       [ 0. ,  0.5,  0. , ...,  0. ,  0. ,  0. ],\n",
       "       [ 0. ,  0. ,  0.5, ...,  0. ,  0. ,  0. ],\n",
       "       ..., \n",
       "       [ 0. ,  0. ,  0. , ...,  0.5,  0. ,  0. ],\n",
       "       [ 0. ,  0. ,  0. , ...,  0. ,  0.5,  0. ],\n",
       "       [ 0. ,  0. ,  0. , ...,  0. ,  0. ,  0.5]])"
      ]
     },
     "execution_count": 114,
     "metadata": {},
     "output_type": "execute_result"
    }
   ],
   "source": [
    "W"
   ]
  },
  {
   "cell_type": "code",
   "execution_count": 109,
   "metadata": {
    "collapsed": false
   },
   "outputs": [
    {
     "data": {
      "text/plain": [
       "array([ 1.,  1.,  1., ...,  1.,  1.,  1.])"
      ]
     },
     "execution_count": 109,
     "metadata": {},
     "output_type": "execute_result"
    }
   ],
   "source": [
    "W.sum(axis=0)"
   ]
  },
  {
   "cell_type": "code",
   "execution_count": 95,
   "metadata": {
    "collapsed": true
   },
   "outputs": [],
   "source": [
    "dist = np.linalg.matrix_power(W, 3).dot(P)"
   ]
  },
  {
   "cell_type": "code",
   "execution_count": 103,
   "metadata": {
    "collapsed": false
   },
   "outputs": [
    {
     "data": {
      "text/plain": [
       "[u'YLR268W',\n",
       " u'YNL219C',\n",
       " u'YDR479C',\n",
       " u'YPL094C',\n",
       " u'YGL225W',\n",
       " u'YIR038C',\n",
       " u'YPR159CA',\n",
       " u'YIR033W',\n",
       " u'YML055W']"
      ]
     },
     "execution_count": 103,
     "metadata": {},
     "output_type": "execute_result"
    }
   ],
   "source": [
    "[G.node[i][\"label\"] for i in np.where(dist>0.01)[0]]"
   ]
  },
  {
   "cell_type": "code",
   "execution_count": 60,
   "metadata": {
    "collapsed": true
   },
   "outputs": [],
   "source": [
    "com_prob = {k: 0 for k in np.unique(assignments)}"
   ]
  },
  {
   "cell_type": "code",
   "execution_count": 61,
   "metadata": {
    "collapsed": false
   },
   "outputs": [],
   "source": [
    "for c, p in zip(assignments, dist):\n",
    "    com_prob[c] += p"
   ]
  },
  {
   "cell_type": "code",
   "execution_count": 62,
   "metadata": {
    "collapsed": false
   },
   "outputs": [
    {
     "data": {
      "text/plain": [
       "{0: 0.078733766233765365,\n",
       " 1: 0.069805194805194037,\n",
       " 2: 0.10064935064934952,\n",
       " 3: 0.10714285714285599,\n",
       " 4: 0.086850649350648415,\n",
       " 5: 0.03733766233766192,\n",
       " 6: 0.11120129870129745,\n",
       " 7: 0.071428571428570634,\n",
       " 8: 0.089285714285713275,\n",
       " 9: 0.10551948051947939,\n",
       " 10: 0.052759740259739681,\n",
       " 11: 0.089285714285713288}"
      ]
     },
     "execution_count": 62,
     "metadata": {},
     "output_type": "execute_result"
    }
   ],
   "source": [
    "com_prob"
   ]
  },
  {
   "cell_type": "code",
   "execution_count": 63,
   "metadata": {
    "collapsed": true
   },
   "outputs": [],
   "source": [
    "S = np.diag(1./np.sqrt(D.diagonal())).dot(A).dot(np.diag(1./np.sqrt(D.diagonal())))"
   ]
  },
  {
   "cell_type": "code",
   "execution_count": 84,
   "metadata": {
    "collapsed": false
   },
   "outputs": [],
   "source": [
    "l, U = np.linalg.eigh(S)"
   ]
  },
  {
   "cell_type": "code",
   "execution_count": 85,
   "metadata": {
    "collapsed": false
   },
   "outputs": [],
   "source": [
    "l = l[::-1]\n",
    "U = U[:,::-1]"
   ]
  },
  {
   "cell_type": "code",
   "execution_count": 90,
   "metadata": {
    "collapsed": false
   },
   "outputs": [
    {
     "data": {
      "text/plain": [
       "array([  1.00000000e+00,   8.67727671e-01,   7.12951015e-01,\n",
       "         6.12686767e-01,   3.87769460e-01,   3.51007053e-01,\n",
       "         2.92791798e-01,   2.60042011e-01,   2.29089383e-01,\n",
       "         1.77057148e-01,   1.35167055e-01,   9.31839984e-02,\n",
       "         1.08609375e-16,   8.75487675e-17,   6.50535192e-17,\n",
       "         4.01138156e-17,   2.20102858e-17,   3.09000445e-19,\n",
       "        -2.48691287e-17,  -3.79906342e-17,  -6.61881905e-17,\n",
       "        -1.55429990e-16,  -1.05380839e-01,  -1.59299956e-01,\n",
       "        -2.68023547e-01,  -3.51778259e-01,  -3.93104541e-01,\n",
       "        -4.16915851e-01,  -4.48579382e-01,  -4.97030113e-01,\n",
       "        -5.69506603e-01,  -5.83333333e-01,  -6.11909588e-01,\n",
       "        -7.14611347e-01])"
      ]
     },
     "execution_count": 90,
     "metadata": {},
     "output_type": "execute_result"
    }
   ],
   "source": [
    "l"
   ]
  },
  {
   "cell_type": "code",
   "execution_count": 86,
   "metadata": {
    "collapsed": false
   },
   "outputs": [
    {
     "data": {
      "text/plain": [
       "array([ 0.1025641 ,  0.05769231,  0.06410257,  0.03846154,  0.01923077,\n",
       "        0.02564103,  0.02564103,  0.02564103,  0.03205128,  0.01282051,\n",
       "        0.01923077,  0.00641026,  0.01282051,  0.03205128,  0.01282051,\n",
       "        0.01282051,  0.01282051,  0.01282051,  0.01282051,  0.01923077,\n",
       "        0.01282051,  0.01282051,  0.01282051,  0.03205128,  0.01923077,\n",
       "        0.01923077,  0.01282051,  0.02564103,  0.01923077,  0.02564103,\n",
       "        0.02564103,  0.03846154,  0.07692308,  0.10897436], dtype=float32)"
      ]
     },
     "execution_count": 86,
     "metadata": {},
     "output_type": "execute_result"
    }
   ],
   "source": [
    "pi"
   ]
  },
  {
   "cell_type": "code",
   "execution_count": 87,
   "metadata": {
    "collapsed": false
   },
   "outputs": [
    {
     "data": {
      "text/plain": [
       "array([-0.32025631, -0.24019223, -0.25318484, -0.19611614, -0.13867505,\n",
       "       -0.16012815, -0.16012815, -0.16012815, -0.17902872, -0.1132277 ,\n",
       "       -0.13867505, -0.08006408, -0.1132277 , -0.17902872, -0.1132277 ,\n",
       "       -0.1132277 , -0.1132277 , -0.1132277 , -0.1132277 , -0.13867505,\n",
       "       -0.1132277 , -0.1132277 , -0.1132277 , -0.17902872, -0.13867505,\n",
       "       -0.13867505, -0.1132277 , -0.16012815, -0.13867505, -0.16012815,\n",
       "       -0.16012815, -0.19611614, -0.2773501 , -0.33011265])"
      ]
     },
     "execution_count": 87,
     "metadata": {},
     "output_type": "execute_result"
    }
   ],
   "source": [
    "U[:,0]"
   ]
  },
  {
   "cell_type": "code",
   "execution_count": null,
   "metadata": {
    "collapsed": true
   },
   "outputs": [],
   "source": []
  }
 ],
 "metadata": {
  "anaconda-cloud": {},
  "kernelspec": {
   "display_name": "Python [default]",
   "language": "python",
   "name": "python2"
  },
  "language_info": {
   "codemirror_mode": {
    "name": "ipython",
    "version": 2
   },
   "file_extension": ".py",
   "mimetype": "text/x-python",
   "name": "python",
   "nbconvert_exporter": "python",
   "pygments_lexer": "ipython2",
   "version": "2.7.13"
  }
 },
 "nbformat": 4,
 "nbformat_minor": 2
}
