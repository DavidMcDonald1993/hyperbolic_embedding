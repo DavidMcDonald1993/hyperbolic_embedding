{
 "cells": [
  {
   "cell_type": "code",
   "execution_count": 1,
   "metadata": {
    "collapsed": true
   },
   "outputs": [],
   "source": [
    "%matplotlib inline\n",
    "import matplotlib.pyplot as plt\n",
    "\n",
    "import numpy as np\n",
    "import networkx as nx\n",
    "import pandas as pd\n",
    "\n",
    "from sys import stdout\n",
    "\n",
    "from functools import partial\n",
    "from multiprocessing import Pool"
   ]
  },
  {
   "cell_type": "code",
   "execution_count": 17,
   "metadata": {
    "collapsed": true
   },
   "outputs": [],
   "source": [
    "def hyperbolic_distance(x, y):\n",
    "    delta_theta = np.pi - abs(np.pi - abs(x[1] - y[1]))\n",
    "    d = np.cosh(x[0]) * np.cosh(y[0]) - np.sinh(x[0]) * np.sinh(y[0]) * np.cos(delta_theta)\n",
    "    return np.arccosh(d)"
   ]
  },
  {
   "cell_type": "code",
   "execution_count": 18,
   "metadata": {
    "collapsed": true
   },
   "outputs": [],
   "source": [
    "def polar2cartesian(x):\n",
    "    return np.array([x[0] * np.cos(x[1]), x[0] * np.sin(x[1])])\n",
    "def cartesian2polar(y):\n",
    "    return np.array([np.sqrt(x[0]**2 + x[1]**2), np.arctan2(x[1], x[0])])"
   ]
  },
  {
   "cell_type": "code",
   "execution_count": 19,
   "metadata": {
    "collapsed": true
   },
   "outputs": [],
   "source": [
    "x = np.array([5, 0.2])\n",
    "y = np.array([7, 1.4])"
   ]
  },
  {
   "cell_type": "code",
   "execution_count": 22,
   "metadata": {},
   "outputs": [
    {
     "data": {
      "text/plain": [
       "array([ 4.90033289,  0.99334665])"
      ]
     },
     "execution_count": 22,
     "metadata": {},
     "output_type": "execute_result"
    }
   ],
   "source": [
    "polar2cartesian(x)"
   ]
  },
  {
   "cell_type": "code",
   "execution_count": 23,
   "metadata": {},
   "outputs": [
    {
     "data": {
      "text/plain": [
       "array([ 1.18977   ,  6.89814811])"
      ]
     },
     "execution_count": 23,
     "metadata": {},
     "output_type": "execute_result"
    }
   ],
   "source": [
    "polar2cartesian(y)"
   ]
  },
  {
   "cell_type": "code",
   "execution_count": 24,
   "metadata": {
    "collapsed": true
   },
   "outputs": [],
   "source": [
    "m = cartesian2polar((polar2cartesian(x) + polar2cartesian(y)) / 2)"
   ]
  },
  {
   "cell_type": "code",
   "execution_count": 25,
   "metadata": {},
   "outputs": [
    {
     "data": {
      "text/plain": [
       "array([ 5.0039984 ,  0.03997869])"
      ]
     },
     "execution_count": 25,
     "metadata": {},
     "output_type": "execute_result"
    }
   ],
   "source": [
    "m"
   ]
  },
  {
   "cell_type": "code",
   "execution_count": 13,
   "metadata": {},
   "outputs": [
    {
     "data": {
      "text/plain": [
       "1.5005647819295462"
      ]
     },
     "execution_count": 13,
     "metadata": {},
     "output_type": "execute_result"
    }
   ],
   "source": [
    "hyperbolic_distance(x, y)"
   ]
  },
  {
   "cell_type": "code",
   "execution_count": 14,
   "metadata": {},
   "outputs": [
    {
     "data": {
      "text/plain": [
       "4.9742803786851626"
      ]
     },
     "execution_count": 14,
     "metadata": {},
     "output_type": "execute_result"
    }
   ],
   "source": [
    "hyperbolic_distance(x, m)"
   ]
  },
  {
   "cell_type": "code",
   "execution_count": 15,
   "metadata": {},
   "outputs": [
    {
     "data": {
      "text/plain": [
       "4.5982540656578861"
      ]
     },
     "execution_count": 15,
     "metadata": {},
     "output_type": "execute_result"
    }
   ],
   "source": [
    "hyperbolic_distance(y, m)"
   ]
  },
  {
   "cell_type": "code",
   "execution_count": 16,
   "metadata": {},
   "outputs": [
    {
     "data": {
      "text/plain": [
       "array([ 0.03997869,  5.0039984 ])"
      ]
     },
     "execution_count": 16,
     "metadata": {},
     "output_type": "execute_result"
    }
   ],
   "source": [
    "m"
   ]
  },
  {
   "cell_type": "code",
   "execution_count": 2,
   "metadata": {
    "collapsed": true
   },
   "outputs": [],
   "source": [
    "# G = nx.read_edgelist(\"email-Eu-core.txt.gz\")\n",
    "G = nx.read_gml(\"ps_graph.gml\")\n",
    "# G = nx.read_gml(\"as-22july06.gml\")"
   ]
  },
  {
   "cell_type": "code",
   "execution_count": 3,
   "metadata": {
    "collapsed": true
   },
   "outputs": [],
   "source": [
    "# community_df = pd.read_csv(\"email-Eu-core-department-labels.txt.gz\", sep=\" \", index_col=0)\n",
    "# community_df.columns = [\"community\"]\n",
    "# community_df.index = [str(i) for i in community_df.index]\n",
    "# community_dict = community_df[\"community\"].to_dict()"
   ]
  },
  {
   "cell_type": "code",
   "execution_count": 4,
   "metadata": {
    "collapsed": true
   },
   "outputs": [],
   "source": [
    "# nx.set_node_attributes(G, \"community\", community_dict)"
   ]
  },
  {
   "cell_type": "code",
   "execution_count": 5,
   "metadata": {
    "collapsed": true
   },
   "outputs": [],
   "source": [
    "# nodes_to_keep = []\n",
    "# for n, d in G.nodes(data=True):\n",
    "    \n",
    "#     if \"community\" in d:\n",
    "#         nodes_to_keep.append(n)\n",
    "        \n",
    "# G = G.subgraph(nodes_to_keep)"
   ]
  },
  {
   "cell_type": "code",
   "execution_count": 6,
   "metadata": {
    "collapsed": true
   },
   "outputs": [],
   "source": [
    "G = max(nx.connected_component_subgraphs(G), key=len)\n",
    "\n",
    "N = nx.number_of_nodes(G)\n",
    "\n",
    "degrees = nx.degree(G)\n",
    "\n",
    "sorted_nodes = np.array([int(n) for n in degrees.keys()])\n",
    "sorted_nodes.sort()\n",
    "\n",
    "degrees = nx.degree(G)\n",
    "\n",
    "# sort keys into integer order\n",
    "sorted_nodes = np.array([int(n) for n in degrees.keys()])\n",
    "sorted_nodes.sort()\n",
    "\n",
    "# construct array of degrees in integer order of nodes\n",
    "degrees = np.array([degrees[int(n)] for n in sorted_nodes])\n",
    "degree_sort = degrees.argsort()[::-1]\n",
    "\n",
    "# when did each node appaear in the network (i)\n",
    "order_of_appearance = np.array([np.where(degree_sort==n)[0][0] + 1 for n in sorted_nodes])\n",
    "\n",
    "polar_df = pd.read_csv(\"polar_coords.txt\", delimiter=\"\\t\")\n",
    "polar_coords = polar_df.values\n",
    "polar_coords = polar_coords[order_of_appearance-1]\n",
    "# true_coords = {n: {\"r\" : x[0], \"theta\" : x[1]} for n, x in zip(sorted_nodes, polar_coords)}\n",
    "R_true = polar_coords[:,0]\n",
    "thetas_true = polar_coords[:,1]"
   ]
  },
  {
   "cell_type": "code",
   "execution_count": 12,
   "metadata": {
    "collapsed": true
   },
   "outputs": [],
   "source": [
    "# number of attributes \n",
    "K = 100"
   ]
  },
  {
   "cell_type": "code",
   "execution_count": 13,
   "metadata": {
    "collapsed": true
   },
   "outputs": [],
   "source": [
    "# communities = [G.node[str(n)][\"community\"] for n in sorted_nodes]"
   ]
  },
  {
   "cell_type": "code",
   "execution_count": 15,
   "metadata": {
    "collapsed": true
   },
   "outputs": [],
   "source": [
    "# number of communities\n",
    "C = 100"
   ]
  },
  {
   "cell_type": "code",
   "execution_count": 16,
   "metadata": {
    "collapsed": true
   },
   "outputs": [],
   "source": [
    "clip_value = 1e-6"
   ]
  },
  {
   "cell_type": "code",
   "execution_count": 17,
   "metadata": {
    "collapsed": true
   },
   "outputs": [],
   "source": [
    "# artificially create binary attributes from radial coordinates\n",
    "X = np.zeros((N, K))\n",
    "\n",
    "for i, theta in enumerate(thetas_true):\n",
    "    \n",
    "    id = int(theta * K / (2 * np.pi))\n",
    "# for i, community in enumerate(communities):\n",
    "    \n",
    "#     id = int(community * K / float(C))\n",
    "    \n",
    "    p = np.array([np.exp(-(id-x)**2 / (2 * (10.0)**2) ) for x in range(K)])\n",
    "    \n",
    "    r = np.random.rand(K)\n",
    "    \n",
    "    X[i][r < p] = 1\n",
    "    \n",
    "# clip X\n",
    "X = np.clip(X, a_min=clip_value, a_max=1-clip_value)\n",
    "\n",
    "# observed adjacancy matrix\n",
    "A = np.array(nx.adjacency_matrix(G).todense())\n",
    "# add self edges\n",
    "# A = A + np.identity(N) \n",
    "# clip A\n",
    "A = np.clip(A, a_min=clip_value, a_max=1-clip_value)"
   ]
  },
  {
   "cell_type": "code",
   "execution_count": 18,
   "metadata": {
    "collapsed": true
   },
   "outputs": [],
   "source": [
    "# import powerlaw\n",
    "\n",
    "# result = powerlaw.Fit(degrees)\n",
    "# gamma = result.alpha"
   ]
  },
  {
   "cell_type": "code",
   "execution_count": 19,
   "metadata": {
    "collapsed": true
   },
   "outputs": [],
   "source": [
    "# gamma = min(gamma, 3)"
   ]
  },
  {
   "cell_type": "code",
   "execution_count": 19,
   "metadata": {
    "collapsed": true
   },
   "outputs": [],
   "source": [
    "# PS model parameters -- to estimate in real world network\n",
    "m = degrees.mean() / 2\n",
    "T = 0.1\n",
    "gamma = 2.3\n",
    "beta = 1. / (gamma - 1)"
   ]
  },
  {
   "cell_type": "code",
   "execution_count": 34,
   "metadata": {
    "collapsed": true
   },
   "outputs": [],
   "source": [
    "# determine radial coordinates of nodes\n",
    "R = 2 * beta * np.log(range(1, N + 1)) + 2 * (1 - beta) * np.log(N) \n",
    "R = R[order_of_appearance - 1]"
   ]
  },
  {
   "cell_type": "code",
   "execution_count": 35,
   "metadata": {},
   "outputs": [
    {
     "data": {
      "text/plain": [
       "<matplotlib.collections.PathCollection at 0x7fadf1528290>"
      ]
     },
     "execution_count": 35,
     "metadata": {},
     "output_type": "execute_result"
    },
    {
     "data": {
      "image/png": "[encoded data removed]",
      "text/plain": [
       "<matplotlib.figure.Figure at 0x7fadf3a0dd90>"
      ]
     },
     "metadata": {},
     "output_type": "display_data"
    }
   ],
   "source": [
    "plt.scatter(order_of_appearance, R)"
   ]
  },
  {
   "cell_type": "code",
   "execution_count": 36,
   "metadata": {},
   "outputs": [
    {
     "data": {
      "text/plain": [
       "<matplotlib.collections.PathCollection at 0x7fadf14cd990>"
      ]
     },
     "execution_count": 36,
     "metadata": {},
     "output_type": "execute_result"
    },
    {
     "data": {
      "image/png": "[encoded data removed]",
      "text/plain": [
       "<matplotlib.figure.Figure at 0x7fadf1536550>"
      ]
     },
     "metadata": {},
     "output_type": "display_data"
    }
   ],
   "source": [
    "plt.scatter(R, R_true)"
   ]
  },
  {
   "cell_type": "code",
   "execution_count": 44,
   "metadata": {
    "collapsed": true
   },
   "outputs": [],
   "source": [
    "def compute_disk_radius(order_of_appearance, R):\n",
    "    I = (1 - order_of_appearance ** -(1 - beta)) / (1 - beta)\n",
    "    disk_radii =  R - 2 * np.log((2 * T * I) / (np.sin(np.pi * T) * m))\n",
    "    return disk_radii\n",
    "\n",
    "disk_radii = compute_disk_radius(order_of_appearance, R)"
   ]
  },
  {
   "cell_type": "code",
   "execution_count": 46,
   "metadata": {},
   "outputs": [
    {
     "data": {
      "text/plain": [
       "<matplotlib.collections.PathCollection at 0x7fadf12e6150>"
      ]
     },
     "execution_count": 46,
     "metadata": {},
     "output_type": "execute_result"
    },
    {
     "data": {
      "image/png": "[encoded data removed]",
      "text/plain": [
       "<matplotlib.figure.Figure at 0x7fadf142c550>"
      ]
     },
     "metadata": {},
     "output_type": "display_data"
    }
   ],
   "source": [
    "plt.scatter(order_of_appearance, disk_radii)"
   ]
  },
  {
   "cell_type": "code",
   "execution_count": 48,
   "metadata": {
    "collapsed": true
   },
   "outputs": [],
   "source": [
    "disk_radii_2d = np.array([[disk_radii[i] if order_of_appearance[i] > order_of_appearance[j] else disk_radii[j]\n",
    "                           for j in range(N)] for i in range(N)]) "
   ]
  },
  {
   "cell_type": "code",
   "execution_count": 49,
   "metadata": {
    "collapsed": true
   },
   "outputs": [],
   "source": [
    "# product of cosh radii\n",
    "cosh_prod = np.array([[np.cosh(r_1) * np.cosh(r_2) for r_2 in R] for r_1 in R])\n",
    "\n",
    "# product of sinh radii\n",
    "sinh_prod = np.array([[np.sinh(r_1) * np.sinh(r_2) for r_2 in R] for r_1 in R])"
   ]
  },
  {
   "cell_type": "code",
   "execution_count": 50,
   "metadata": {
    "collapsed": true
   },
   "outputs": [],
   "source": [
    "def sigmoid(x):\n",
    "    return 1. / (1 + np.exp(-x))\n",
    "\n",
    "def compute_thetas(F, M):\n",
    "    return F.dot(M)\n",
    "\n",
    "def compute_delta_thetas(thetas):\n",
    "    \n",
    "    return np.pi - abs(np.pi - abs(thetas - thetas[:,None]))\n",
    "\n",
    "def compute_delta_thetas_u(u, thetas):\n",
    "    \n",
    "    return np.pi - abs(np.pi - abs(thetas[u] - thetas))\n",
    "\n",
    "def compute_x(delta_thetas):\n",
    "    \n",
    "    x = cosh_prod - sinh_prod * np.cos(delta_thetas)\n",
    "    x[x < 1] = 1\n",
    "    \n",
    "    return x\n",
    "\n",
    "def compute_x_u(u, delta_thetas):\n",
    "    \n",
    "    x = cosh_prod[u] - sinh_prod[u] * np.cos(delta_thetas)\n",
    "    x[x < 1] = 1\n",
    "    \n",
    "    return x\n",
    "\n",
    "def compute_h(x):\n",
    "    \n",
    "    return np.arccosh(x)\n",
    "\n",
    "def compute_P(h):\n",
    "    \n",
    "    return sigmoid((disk_radii_2d - h) / (2 * T))\n",
    "\n",
    "def compute_P_u(u, h):\n",
    "    \n",
    "    return sigmoid((disk_radii_2d[u] - h) / (2 * T))\n",
    "\n",
    "def compute_grad_L_G_u(u, thetas, alpha):\n",
    "    # compute delta thetas\n",
    "    delta_thetas_u = compute_delta_thetas_u(u, thetas)\n",
    "    \n",
    "    # before taking arccosh\n",
    "    x_u = compute_x_u(u, delta_thetas_u)\n",
    "    # take arcosh to determine hyperbolic distance\n",
    "    h_u = compute_h(x_u)\n",
    "    # compute connection probability\n",
    "    P_u = compute_P_u(u, h_u)\n",
    "    \n",
    "    # BEGIN DETERMINING GRADIENT\n",
    "    grad_u = (1 - alpha) * (A[u] - P_u) * - 1. / (2 * T)\n",
    "    # we only wish to change the non-zero values as 1/sqrt(x**2-1) is nan otherwise\n",
    "    mask = np.arange(N) != u \n",
    "    grad_u[mask] *= 1 / np.sqrt(x_u[mask] ** 2 - 1)\n",
    "    # derivative of x\n",
    "    grad_u *= sinh_prod[u] * np.sin(delta_thetas_u)\n",
    "    # difference in thetas\n",
    "    theta_u_minus_theta_v = thetas[u] - thetas\n",
    "    # multiply gradient by product of signs for  gradient of delta theta\n",
    "    grad_u *= - np.sign(np.pi - abs(theta_u_minus_theta_v)) * - np.sign(theta_u_minus_theta_v)\n",
    "    \n",
    "    return grad_u\n",
    "\n",
    "def compute_Q(F, W):\n",
    "    \n",
    "    return np.array([[sigmoid(F[u].dot(W[k].T)) for k in range(K)] for u in range(N)])\n",
    "\n",
    "def compute_Q_u(F_u, W):\n",
    "    \n",
    "    return np.array([sigmoid(F_u.dot(W[k].T)) for k in range(K)])\n",
    "\n",
    "def compute_Q__k(F, W_k):\n",
    "    \n",
    "    return np.array([sigmoid(F[u].dot(W_k.T)) for u in range(N)])"
   ]
  },
  {
   "cell_type": "code",
   "execution_count": 52,
   "metadata": {
    "collapsed": true
   },
   "outputs": [],
   "source": [
    "def update_F_u(u, F, M, W, thetas, eta, alpha, lamb):\n",
    "    \n",
    "    # uth row of F\n",
    "    F_u = F[u]\n",
    "    \n",
    "#     old_sign = np.sign(F_u[:-1])\n",
    "        \n",
    "#     # compute delta thetas with respect to thetas[u]\n",
    "#     delta_thetas_u = compute_delta_thetas_u(u, thetas)\n",
    "#     # before taking arccosh\n",
    "#     x_u = compute_x_u(delta_thetas_u, u)\n",
    "#     # take arcosh to determine hyperbolic distance\n",
    "#     h_u = compute_h(x_u)\n",
    "#     # compute connection probability\n",
    "#     P_u = compute_P_u(h_u, u)\n",
    "    \n",
    "    \n",
    "#     # BEGIN DETERMINING GRADIENT\n",
    "#     grad = (1 - alpha) * (A[u] - P_u) * - 1. / (2 * T)\n",
    "        \n",
    "#     # we only wish to change the non-zero values as 1/sqrt(x**2-1) is nan otherwise\n",
    "#     mask = np.arange(N) != u\n",
    "#     grad[mask] *= 1 / np.sqrt(x_u[mask] ** 2 - 1)\n",
    "    \n",
    "#     # derivateive of x = coshprod - sinhprod * cos(delat_theta)\n",
    "#     grad *= sinh_prod[u] * np.sin(delta_thetas_u)\n",
    "    \n",
    "#     # difference in thetas\n",
    "#     theta_u_minus_theta_v = np.array([thetas[u] - theta_v for theta_v in thetas])\n",
    "    \n",
    "#     # multiply gradient by product of signs for  gradient of delta theta\n",
    "#     grad *= np.sign(np.pi - np.abs(theta_u_minus_theta_v)) * np.sign(theta_u_minus_theta_v)\n",
    "\n",
    "    grad = compute_grad_L_G_u(u, thetas, alpha)\n",
    "    \n",
    "    # differentiate theta with respect to F_u\n",
    "    grad_theta_u = M[:-1]\n",
    "    \n",
    "    # multiply by theta dradient with resepect to F_uc\n",
    "    grad = np.array([grad * grad_theta_u[c] for c in range(C)])\n",
    "    \n",
    "#     print grad.shape\n",
    "       \n",
    "    # mean gradient over all v\n",
    "    grad = grad.mean(axis=1)\n",
    "\n",
    "    # compute Q to determine gradient with respect to F_u\n",
    "    Q_u = compute_Q_u(F_u, W)\n",
    "    \n",
    "    # add gradient from L_X\n",
    "    grad += alpha * np.array([(X[u] - Q_u).dot(W[:,c]) for c in range(C)])\n",
    "    \n",
    "#     print u, (eta * (grad - lamb * np.sign(F_u[:-1]))).max(), (eta * (grad - lamb * np.sign(F_u[:-1]))).argmax() \n",
    "    \n",
    "    # new value of F_u\n",
    "    F_u_new = np.maximum(0, F_u[:-1] + eta * (grad - lamb * np.sign(F_u[:-1])))\n",
    "    \n",
    "    # enforce sparsity\n",
    "#     F_u_new[np.sign(F_u_new) != np.sign(F_u[:-1])] = 0\n",
    "\n",
    "    return F_u_new"
   ]
  },
  {
   "cell_type": "code",
   "execution_count": 53,
   "metadata": {
    "collapsed": true
   },
   "outputs": [],
   "source": [
    "def update_W_k(k, F, W, eta, lamb, alpha):\n",
    "    \n",
    "#     print lamb\n",
    "    \n",
    "    # kth row of W\n",
    "    W_k = W[k]\n",
    "    \n",
    "#     old_sign = np.sign(W_k)\n",
    "    \n",
    "    # kth column of Q\n",
    "    Q__k = compute_Q__k(F, W_k)\n",
    "    \n",
    "#     print W_k\n",
    "    \n",
    "    # compute gradient \n",
    "    grad = alpha * np.array([(X[:,k] - Q__k).T.dot(F[:,c])\n",
    "                             for c in range(C + 1)])\n",
    "    \n",
    "#     print np.array([alpha * (X[:,k] - Q__k).T.dot(F[:,c])\n",
    "#                              for c in range(C + 1)])\n",
    "    \n",
    "#     print np.array([- lamb * np.sign(W[k,c]) \n",
    "#                          for c in range(C + 1)])\n",
    "    \n",
    "#     print grad\n",
    "\n",
    "    W_k_new = W_k + eta * (grad - lamb * np.sign(W_k))\n",
    "    \n",
    "#     W_k_new[np.sign(W_k_new) != np.sign(W_k)] = 0\n",
    "    \n",
    "    return W_k_new\n",
    "\n",
    "def grad_theta_uc_minus_grad_theta_c(grad_theta_uc, grad_theta_c):\n",
    "    \n",
    "    return np.array([grad_theta_uc - grad_theta_vc for grad_theta_vc in grad_theta_c])\n",
    "\n",
    "def update_M_c(c, F, M, grad, eta, alpha, lamb):\n",
    "\n",
    "#     # copy gradient matrix and manipulate with respect to M_c\n",
    "#     grad = grad.copy()\n",
    "\n",
    "    # cth value of M\n",
    "    M_c = M[c]\n",
    "    \n",
    "#     old_sign = np.sign(M_c)\n",
    "    \n",
    "    # differentiate theta_u with repect to M_c\n",
    "    grad_theta_c = F[:,c]\n",
    "    \n",
    "#     helper_pool = Pool(4)\n",
    "    \n",
    "    # difference in gradients of theta for gradient of theta_u - theta_v\n",
    "#     grad_theta_uc_minus_grad_theta_vc = np.array([[grad_theta_uc - grad_theta_vc for grad_theta_vc in grad_theta_c] \n",
    "#                                               for grad_theta_uc in grad_theta_c])\n",
    "\n",
    "    grad_theta_uc_minus_grad_theta_vc = grad_theta_c - grad_theta_c[:,None]\n",
    "\n",
    "\n",
    "#     grad_theta_uc_minus_grad_theta_vc = np.array(helper_pool.map(partial(grad_theta_uc_minus_grad_theta_c, \n",
    "#                                                                   grad_theta_c=grad_theta_c), grad_theta_c))\n",
    "    \n",
    "#     helper_pool.close()\n",
    "#     helper_pool.join()\n",
    "    \n",
    "    # finally multiply by difference\n",
    "    grad_total = grad * grad_theta_uc_minus_grad_theta_vc\n",
    "    \n",
    "    # mean over all u,v\n",
    "    grad_total = grad_total.mean()\n",
    "\n",
    "    # return cth value of M minus alpha times the sum of the gradient\n",
    "    M_c_new = M[c] + eta * (grad_total - lamb * np.sign(M_c))\n",
    "    \n",
    "    # enforce sparsity\n",
    "#     M_c_new[np.sign(M_c_new) != np.sign(M_c)] = 0\n",
    "    \n",
    "    return M_c_new"
   ]
  },
  {
   "cell_type": "code",
   "execution_count": 54,
   "metadata": {
    "collapsed": true
   },
   "outputs": [],
   "source": [
    "def compute_L_G(P):\n",
    "    \n",
    "    # clip to avoid error\n",
    "    P = np.clip(P, a_min=clip_value, a_max=1-clip_value)\n",
    "    \n",
    "    return (A * np.log(P) + (1 - A) * np.log(1 - P)).mean()\n",
    "\n",
    "def compute_L_X(Q):\n",
    "    \n",
    "    # clip to avoid error\n",
    "    Q = np.clip(Q, a_min=clip_value, a_max=1-clip_value)\n",
    "    \n",
    "    return (X * np.log(Q) + (1 - X) * np.log(1 - Q)).mean()\n",
    "\n",
    "def compute_likelihood(F, M, W, lamb_F, lamb_W, lamb_M, alpha):\n",
    "    \n",
    "    # compute thetas from current value of F and M\n",
    "    thetas = compute_thetas(F, M)\n",
    "    # compute delta thetas\n",
    "    delta_thetas = compute_delta_thetas(thetas)\n",
    "    # before taking arccosh\n",
    "    x = compute_x(delta_thetas)\n",
    "    # take arcosh to determine hyperbolic distance\n",
    "    h = compute_h(x)\n",
    "    # compute connection probability\n",
    "    P = compute_P(h)\n",
    "    \n",
    "    # liklihood of G\n",
    "    L_G = compute_L_G(P)\n",
    "        \n",
    "    # compute attribute probability\n",
    "    Q = compute_Q(F, W)\n",
    "    \n",
    "    # liklihood of X\n",
    "    L_X = compute_L_X(Q)\n",
    "    \n",
    "    # l1 penalty term\n",
    "    l1 = lamb_F * np.linalg.norm(F, axis=0, ord=1).sum() + \\\n",
    "    lamb_W * np.linalg.norm(W, axis=0, ord=1).sum() + \\\n",
    "    lamb_M * np.linalg.norm(M, axis=0, ord=1).sum()\n",
    "    \n",
    "    likelihood = (1 - alpha) * L_G + alpha * L_X - l1\n",
    "    \n",
    "    return L_G, L_X, l1, likelihood"
   ]
  },
  {
   "cell_type": "code",
   "execution_count": 59,
   "metadata": {
    "collapsed": true
   },
   "outputs": [],
   "source": [
    "# number of communities\n",
    "C = 100\n",
    "\n",
    "# weight range\n",
    "w = 1e-2\n",
    "\n",
    "# community centres\n",
    "# M = np.arange(C) * 2 * np.pi / C\n",
    "M = np.random.normal(scale=w, size=(C + 1,))\n",
    "\n",
    "# initialise community memberships\n",
    "F = np.random.rand(N, C)\n",
    "# F = np.zeros((N, C))\n",
    "F = np.column_stack([F, np.ones(N)])\n",
    "\n",
    "# initialise logistic weights\n",
    "W = np.random.normal(scale=w, size=(K, C + 1))"
   ]
  },
  {
   "cell_type": "code",
   "execution_count": null,
   "metadata": {
    "scrolled": false
   },
   "outputs": [
    {
     "name": "stdout",
     "output_type": "stream",
     "text": [
      "Initially:\tL_G=-0.184520408709,\tG_X=-0.00311756824705,\tl1=87.9898866806,\tlikelihood=-88.1744070893\n",
      "epoch 306:\tL_G=-0.186061802421,\tG_X=-1.56615677099,\tl1=84.9623165661,\tlikelihood=-85.14837836867"
     ]
    }
   ],
   "source": [
    "eta = 1e-2\n",
    "\n",
    "lamb_F = 1e-20\n",
    "lamb_W = 1e-2\n",
    "lamb_M = 1e-20\n",
    "\n",
    "alpha = 0.0\n",
    "L_G, L_X, l1, likelihood = compute_likelihood(F, M, W, lamb_F, lamb_W, lamb_M, alpha)\n",
    "print \"Initially:\\tL_G={},\\tG_X={},\\tl1={},\\tlikelihood={}\".format(L_G, L_X, l1, likelihood)\n",
    "\n",
    "minibatch_size = 100\n",
    "num_processes = 4\n",
    "pool = Pool(processes=num_processes)\n",
    "\n",
    "for i in range(1000):\n",
    "    \n",
    "#     print \n",
    "    \n",
    "#     F_old = F.copy()\n",
    "    \n",
    "    node_order = np.random.permutation(N)\n",
    "    \n",
    "    for mini_batch in range(N / minibatch_size):\n",
    "        \n",
    "        idx = node_order[mini_batch * minibatch_size : (mini_batch+1) * minibatch_size]\n",
    "           \n",
    "        thetas = compute_thetas(F, M)\n",
    "\n",
    "        F_new = np.array(pool.map(partial(update_F_u, \n",
    "                                       F=F, M=M, W=W, thetas=thetas, eta=eta, alpha=alpha, lamb=lamb_F), idx))\n",
    "        F_new = np.column_stack([F_new, np.ones(minibatch_size)])\n",
    "        \n",
    "        F[idx] = F_new\n",
    "        \n",
    "    if (mini_batch+1) * minibatch_size < N:\n",
    "\n",
    "        idx = node_order[N / minibatch_size * minibatch_size : ]\n",
    "\n",
    "        thetas = compute_thetas(F, M)\n",
    "\n",
    "        F_new = np.array(pool.map(partial(update_F_u, \n",
    "                                       F=F, M=M, W=W, thetas=thetas, eta=eta, alpha=alpha, lamb=lamb_F), idx))\n",
    "        F_new = np.column_stack([F_new, np.ones(len(idx))])\n",
    "\n",
    "        F[idx] = F_new\n",
    "    \n",
    "#     print np.linalg.norm(F[:,:-1]-F_old[:,:-1])\n",
    "    \n",
    "    W_new = np.array(pool.map(partial(update_W_k, F=F, W=W, eta=eta, lamb=lamb_W, alpha=alpha), range(K)))\n",
    "    \n",
    "    W = W_new\n",
    "    \n",
    "    \n",
    "    # compute thetas from current value of F and M\n",
    "    thetas = compute_thetas(F, M)\n",
    "#     # compute delta thetas\n",
    "#     delta_thetas = compute_delta_thetas(thetas)\n",
    "    \n",
    "#     # before taking arccosh\n",
    "#     x = compute_x(delta_thetas)\n",
    "#     # take arcosh to determine hyperbolic distance\n",
    "#     h = compute_h(x)\n",
    "#     # compute connection probability\n",
    "#     P = compute_P(h)\n",
    "#     # update M\n",
    "#     # BEGIN DETERMINING GRADIENT\n",
    "#     grad = (1 - alpha) * (A - P) * - 1. / (2 * T)\n",
    "#     # we only wish to change the non-zero values as 1/sqrt(x**2-1) is nan otherwise\n",
    "#     mask = np.array([np.arange(N) != u for u in range(N)])\n",
    "#     grad[mask] *= 1 / np.sqrt(x[mask] ** 2 - 1)\n",
    "#     # derivative of x\n",
    "#     grad *= sinh_prod * np.sin(delta_thetas)\n",
    "#     # difference in thetas\n",
    "#     theta_u_minus_theta_v = np.array([[theta_u - theta_v for theta_v in thetas] for theta_u in thetas])\n",
    "#     # multiply gradient by product of signs for  gradient of delta theta\n",
    "#     grad *= np.sign(np.pi - np.abs(theta_u_minus_theta_v)) * np.sign(theta_u_minus_theta_v)\n",
    "\n",
    "    grad = np.array(pool.map(partial(compute_grad_L_G_u, thetas=thetas, alpha=alpha), range(N)))\n",
    "    \n",
    "    M_new = np.array(pool.map(partial(update_M_c, \n",
    "                                  F=F, M=M, grad=grad, eta=eta, alpha=alpha, lamb=lamb_M), range(C+1)))\n",
    "            \n",
    "    M = M_new\n",
    "    \n",
    "    L_G, L_X, l1, likelihood = compute_likelihood(F, M, W, lamb_F, lamb_W, lamb_M, alpha)\n",
    "    stdout.write( \"\\repoch {}:\\tL_G={},\\tG_X={},\\tl1={},\\tlikelihood={}\".format(i, L_G, L_X, l1, likelihood))\n",
    "    stdout.flush()\n",
    "    \n",
    "pool.close()\n",
    "pool.join()"
   ]
  },
  {
   "cell_type": "code",
   "execution_count": 135,
   "metadata": {
    "collapsed": true
   },
   "outputs": [],
   "source": [
    "# compute thetas from current value of F and M\n",
    "thetas = compute_thetas(F, M)\n",
    "# compute delta thetas\n",
    "delta_thetas = compute_delta_thetas(thetas)\n",
    "# before taking arccosh\n",
    "x = compute_x(delta_thetas)\n",
    "# take arcosh to determine hyperbolic distance\n",
    "h = compute_h(x)\n",
    "# compute connection probability\n",
    "P = compute_P(h)"
   ]
  },
  {
   "cell_type": "code",
   "execution_count": 107,
   "metadata": {
    "collapsed": true
   },
   "outputs": [],
   "source": [
    "Q = compute_Q(F, W)"
   ]
  },
  {
   "cell_type": "code",
   "execution_count": 108,
   "metadata": {
    "collapsed": true
   },
   "outputs": [],
   "source": [
    "coords = np.column_stack([R * np.cos(thetas), R * np.sin(thetas)])"
   ]
  },
  {
   "cell_type": "code",
   "execution_count": 109,
   "metadata": {},
   "outputs": [
    {
     "data": {
      "text/plain": [
       "<matplotlib.collections.PathCollection at 0x7ff345a67ad0>"
      ]
     },
     "execution_count": 109,
     "metadata": {},
     "output_type": "execute_result"
    },
    {
     "data": {
      "image/png": "[encoded data removed]",
      "text/plain": [
       "<matplotlib.figure.Figure at 0x7ff345b15310>"
      ]
     },
     "metadata": {},
     "output_type": "display_data"
    }
   ],
   "source": [
    "plt.figure(figsize=(15, 15))\n",
    "# l = N\n",
    "# for label, i, j in zip(G.nodes(), coords[:l, 0], coords[:l, 1]):\n",
    "#     plt.annotate(\n",
    "#         label,\n",
    "#         xy=(i, j), xytext=(-20, 20),\n",
    "#         textcoords='offset points', ha='right', va='bottom',\n",
    "#         bbox=dict(boxstyle='round,pad=0.5', fc='yellow', alpha=0.5),\n",
    "#         arrowprops=dict(arrowstyle = '->', connectionstyle='arc3,rad=0'))\n",
    "    \n",
    "# for label, i, j in zip(range(C), centre_coords[:, 0], centre_coords[:, 1]):\n",
    "#     plt.annotate(\n",
    "#         label,\n",
    "#         xy=(i, j), xytext=(-20, 20),\n",
    "#         textcoords='offset points', ha='right', va='bottom',\n",
    "#         bbox=dict(boxstyle='round,pad=0.5', fc='red', alpha=0.5),\n",
    "#         arrowprops=dict(arrowstyle = '->', connectionstyle='arc3,rad=0'))\n",
    "\n",
    "# nodes = np.array(G.nodes())\n",
    "# for n1, n2 in G.edges():\n",
    "#     i, = np.where(nodes == n1)\n",
    "#     j, = np.where(nodes == n2)\n",
    "#     plt.plot(coords[(i, j), 0], coords[(i, j), 1], c=\"k\", \n",
    "#              linewidth = 0.3)\n",
    "\n",
    "plt.scatter(coords[:,0], coords[:,1], c=F[:,:-1].argmax(axis=1))"
   ]
  },
  {
   "cell_type": "code",
   "execution_count": null,
   "metadata": {
    "collapsed": true
   },
   "outputs": [],
   "source": []
  }
 ],
 "metadata": {
  "kernelspec": {
   "display_name": "Python 2",
   "language": "python",
   "name": "python2"
  },
  "language_info": {
   "codemirror_mode": {
    "name": "ipython",
    "version": 2
   },
   "file_extension": ".py",
   "mimetype": "text/x-python",
   "name": "python",
   "nbconvert_exporter": "python",
   "pygments_lexer": "ipython2",
   "version": "2.7.13"
  }
 },
 "nbformat": 4,
 "nbformat_minor": 2
}
