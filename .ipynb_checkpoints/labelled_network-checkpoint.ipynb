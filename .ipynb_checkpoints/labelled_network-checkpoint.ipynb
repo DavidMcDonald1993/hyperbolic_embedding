{
 "cells": [
  {
   "cell_type": "code",
   "execution_count": 1,
   "metadata": {
    "collapsed": true
   },
   "outputs": [],
   "source": [
    "import numpy as np\n",
    "import networkx as nx\n",
    "import pandas as pd"
   ]
  },
  {
   "cell_type": "code",
   "execution_count": 27,
   "metadata": {
    "collapsed": true
   },
   "outputs": [],
   "source": [
    "G = nx.read_edgelist(\"email-Eu-core.txt.gz\")"
   ]
  },
  {
   "cell_type": "code",
   "execution_count": 28,
   "metadata": {
    "collapsed": true
   },
   "outputs": [],
   "source": [
    "# dates_df = pd.read_csv(\"cit-HepTh-dates.txt.gz\", sep=\"\\t\")\n",
    "# dates_df.columns = [\"date\"]\n",
    "# dates_df.index = [str(i) for i in dates_df.index]\n",
    "\n",
    "# dates = dates_df[\"date\"].to_dict()\n",
    "\n",
    "# dates = {k: v for k, v in dates.items() if k in G.nodes()}"
   ]
  },
  {
   "cell_type": "code",
   "execution_count": 29,
   "metadata": {
    "collapsed": true
   },
   "outputs": [],
   "source": [
    "communities = pd.read_csv(\"email-Eu-core-department-labels.txt.gz\", index_col=0, sep=\" \")\n",
    "communities.columns = [\"community\"]\n",
    "communities.index = [str(i) for i in communities.index]"
   ]
  },
  {
   "cell_type": "code",
   "execution_count": 30,
   "metadata": {},
   "outputs": [],
   "source": [
    "communities_dict = communities[\"community\"].to_dict()"
   ]
  },
  {
   "cell_type": "code",
   "execution_count": 31,
   "metadata": {},
   "outputs": [],
   "source": [
    "nx.set_node_attributes(G, \"community\", communities_dict)"
   ]
  },
  {
   "cell_type": "code",
   "execution_count": 40,
   "metadata": {
    "collapsed": true
   },
   "outputs": [],
   "source": [
    "G = max(nx.connected_component_subgraphs(G), key=len)"
   ]
  },
  {
   "cell_type": "code",
   "execution_count": 41,
   "metadata": {},
   "outputs": [
    {
     "data": {
      "text/plain": [
       "986"
      ]
     },
     "execution_count": 41,
     "metadata": {},
     "output_type": "execute_result"
    }
   ],
   "source": [
    "len(G)"
   ]
  },
  {
   "cell_type": "code",
   "execution_count": 36,
   "metadata": {},
   "outputs": [
    {
     "ename": "KeyError",
     "evalue": "'711'",
     "output_type": "error",
     "traceback": [
      "\u001b[0;31m---------------------------------------------------------------------------\u001b[0m",
      "\u001b[0;31mKeyError\u001b[0m                                  Traceback (most recent call last)",
      "\u001b[0;32m<ipython-input-36-bb3d1bfa6c34>\u001b[0m in \u001b[0;36m<module>\u001b[0;34m()\u001b[0m\n\u001b[0;32m----> 1\u001b[0;31m \u001b[0mnx\u001b[0m\u001b[0;34m.\u001b[0m\u001b[0mset_node_attributes\u001b[0m\u001b[0;34m(\u001b[0m\u001b[0mG\u001b[0m\u001b[0;34m,\u001b[0m \u001b[0;34m\"community\"\u001b[0m\u001b[0;34m,\u001b[0m \u001b[0mcommunities_dict\u001b[0m\u001b[0;34m)\u001b[0m\u001b[0;34m\u001b[0m\u001b[0m\n\u001b[0m",
      "\u001b[0;32m/home/david/miniconda2/lib/python2.7/site-packages/networkx/classes/function.pyc\u001b[0m in \u001b[0;36mset_node_attributes\u001b[0;34m(G, name, values)\u001b[0m\n\u001b[1;32m    330\u001b[0m \u001b[0;34m\u001b[0m\u001b[0m\n\u001b[1;32m    331\u001b[0m     \u001b[0;32mfor\u001b[0m \u001b[0mnode\u001b[0m\u001b[0;34m,\u001b[0m \u001b[0mvalue\u001b[0m \u001b[0;32min\u001b[0m \u001b[0mvalues\u001b[0m\u001b[0;34m.\u001b[0m\u001b[0mitems\u001b[0m\u001b[0;34m(\u001b[0m\u001b[0;34m)\u001b[0m\u001b[0;34m:\u001b[0m\u001b[0;34m\u001b[0m\u001b[0m\n\u001b[0;32m--> 332\u001b[0;31m         \u001b[0mG\u001b[0m\u001b[0;34m.\u001b[0m\u001b[0mnode\u001b[0m\u001b[0;34m[\u001b[0m\u001b[0mnode\u001b[0m\u001b[0;34m]\u001b[0m\u001b[0;34m[\u001b[0m\u001b[0mname\u001b[0m\u001b[0;34m]\u001b[0m \u001b[0;34m=\u001b[0m \u001b[0mvalue\u001b[0m\u001b[0;34m\u001b[0m\u001b[0m\n\u001b[0m\u001b[1;32m    333\u001b[0m \u001b[0;34m\u001b[0m\u001b[0m\n\u001b[1;32m    334\u001b[0m \u001b[0;34m\u001b[0m\u001b[0m\n",
      "\u001b[0;31mKeyError\u001b[0m: '711'"
     ]
    }
   ],
   "source": [
    "nx.set_node_attributes(G, \"community\", communities_dict)"
   ]
  },
  {
   "cell_type": "code",
   "execution_count": 42,
   "metadata": {},
   "outputs": [],
   "source": [
    "nodes = []\n",
    "\n",
    "for n, d in G.nodes(data=True):\n",
    "    \n",
    "    if \"community\" in d and d[\"community\"] == 1:\n",
    "        \n",
    "        nodes.append(n)"
   ]
  },
  {
   "cell_type": "code",
   "execution_count": 43,
   "metadata": {},
   "outputs": [],
   "source": [
    "H = G.subgraph(nodes)"
   ]
  },
  {
   "cell_type": "code",
   "execution_count": 44,
   "metadata": {},
   "outputs": [
    {
     "data": {
      "text/plain": [
       "5"
      ]
     },
     "execution_count": 44,
     "metadata": {},
     "output_type": "execute_result"
    }
   ],
   "source": [
    "nx.number_connected_components(H)"
   ]
  },
  {
   "cell_type": "code",
   "execution_count": 45,
   "metadata": {
    "collapsed": true
   },
   "outputs": [],
   "source": [
    "import powerlaw"
   ]
  },
  {
   "cell_type": "code",
   "execution_count": 47,
   "metadata": {
    "collapsed": true
   },
   "outputs": [],
   "source": [
    "degrees = nx.degree(G).values()"
   ]
  },
  {
   "cell_type": "code",
   "execution_count": 49,
   "metadata": {},
   "outputs": [
    {
     "name": "stderr",
     "output_type": "stream",
     "text": [
      "Calculating best minimal value for power law fit\n",
      "/home/david/miniconda2/lib/python2.7/site-packages/powerlaw.py:697: RuntimeWarning: invalid value encountered in divide\n",
      "  (Theoretical_CDF * (1 - Theoretical_CDF))\n"
     ]
    }
   ],
   "source": [
    "fit = powerlaw.Fit(degrees)"
   ]
  },
  {
   "cell_type": "code",
   "execution_count": 50,
   "metadata": {},
   "outputs": [
    {
     "data": {
      "text/plain": [
       "5.5473800707318981"
      ]
     },
     "execution_count": 50,
     "metadata": {},
     "output_type": "execute_result"
    }
   ],
   "source": [
    "fit.power_law.alpha"
   ]
  },
  {
   "cell_type": "code",
   "execution_count": 51,
   "metadata": {
    "collapsed": true
   },
   "outputs": [],
   "source": [
    "theta1 = 0\n",
    "\n",
    "theta2 = np.array([np.pi - np.abs(np.pi - np.abs(x - theta1)) for x in np.arange(0,2*np.pi, 0.01)])"
   ]
  },
  {
   "cell_type": "code",
   "execution_count": 52,
   "metadata": {},
   "outputs": [
    {
     "data": {
      "text/plain": [
       "array([ 0.        ,  0.01      ,  0.02      ,  0.03      ,  0.04      ,\n",
       "        0.05      ,  0.06      ,  0.07      ,  0.08      ,  0.09      ,\n",
       "        0.1       ,  0.11      ,  0.12      ,  0.13      ,  0.14      ,\n",
       "        0.15      ,  0.16      ,  0.17      ,  0.18      ,  0.19      ,\n",
       "        0.2       ,  0.21      ,  0.22      ,  0.23      ,  0.24      ,\n",
       "        0.25      ,  0.26      ,  0.27      ,  0.28      ,  0.29      ,\n",
       "        0.3       ,  0.31      ,  0.32      ,  0.33      ,  0.34      ,\n",
       "        0.35      ,  0.36      ,  0.37      ,  0.38      ,  0.39      ,\n",
       "        0.4       ,  0.41      ,  0.42      ,  0.43      ,  0.44      ,\n",
       "        0.45      ,  0.46      ,  0.47      ,  0.48      ,  0.49      ,\n",
       "        0.5       ,  0.51      ,  0.52      ,  0.53      ,  0.54      ,\n",
       "        0.55      ,  0.56      ,  0.57      ,  0.58      ,  0.59      ,\n",
       "        0.6       ,  0.61      ,  0.62      ,  0.63      ,  0.64      ,\n",
       "        0.65      ,  0.66      ,  0.67      ,  0.68      ,  0.69      ,\n",
       "        0.7       ,  0.71      ,  0.72      ,  0.73      ,  0.74      ,\n",
       "        0.75      ,  0.76      ,  0.77      ,  0.78      ,  0.79      ,\n",
       "        0.8       ,  0.81      ,  0.82      ,  0.83      ,  0.84      ,\n",
       "        0.85      ,  0.86      ,  0.87      ,  0.88      ,  0.89      ,\n",
       "        0.9       ,  0.91      ,  0.92      ,  0.93      ,  0.94      ,\n",
       "        0.95      ,  0.96      ,  0.97      ,  0.98      ,  0.99      ,\n",
       "        1.        ,  1.01      ,  1.02      ,  1.03      ,  1.04      ,\n",
       "        1.05      ,  1.06      ,  1.07      ,  1.08      ,  1.09      ,\n",
       "        1.1       ,  1.11      ,  1.12      ,  1.13      ,  1.14      ,\n",
       "        1.15      ,  1.16      ,  1.17      ,  1.18      ,  1.19      ,\n",
       "        1.2       ,  1.21      ,  1.22      ,  1.23      ,  1.24      ,\n",
       "        1.25      ,  1.26      ,  1.27      ,  1.28      ,  1.29      ,\n",
       "        1.3       ,  1.31      ,  1.32      ,  1.33      ,  1.34      ,\n",
       "        1.35      ,  1.36      ,  1.37      ,  1.38      ,  1.39      ,\n",
       "        1.4       ,  1.41      ,  1.42      ,  1.43      ,  1.44      ,\n",
       "        1.45      ,  1.46      ,  1.47      ,  1.48      ,  1.49      ,\n",
       "        1.5       ,  1.51      ,  1.52      ,  1.53      ,  1.54      ,\n",
       "        1.55      ,  1.56      ,  1.57      ,  1.58      ,  1.59      ,\n",
       "        1.6       ,  1.61      ,  1.62      ,  1.63      ,  1.64      ,\n",
       "        1.65      ,  1.66      ,  1.67      ,  1.68      ,  1.69      ,\n",
       "        1.7       ,  1.71      ,  1.72      ,  1.73      ,  1.74      ,\n",
       "        1.75      ,  1.76      ,  1.77      ,  1.78      ,  1.79      ,\n",
       "        1.8       ,  1.81      ,  1.82      ,  1.83      ,  1.84      ,\n",
       "        1.85      ,  1.86      ,  1.87      ,  1.88      ,  1.89      ,\n",
       "        1.9       ,  1.91      ,  1.92      ,  1.93      ,  1.94      ,\n",
       "        1.95      ,  1.96      ,  1.97      ,  1.98      ,  1.99      ,\n",
       "        2.        ,  2.01      ,  2.02      ,  2.03      ,  2.04      ,\n",
       "        2.05      ,  2.06      ,  2.07      ,  2.08      ,  2.09      ,\n",
       "        2.1       ,  2.11      ,  2.12      ,  2.13      ,  2.14      ,\n",
       "        2.15      ,  2.16      ,  2.17      ,  2.18      ,  2.19      ,\n",
       "        2.2       ,  2.21      ,  2.22      ,  2.23      ,  2.24      ,\n",
       "        2.25      ,  2.26      ,  2.27      ,  2.28      ,  2.29      ,\n",
       "        2.3       ,  2.31      ,  2.32      ,  2.33      ,  2.34      ,\n",
       "        2.35      ,  2.36      ,  2.37      ,  2.38      ,  2.39      ,\n",
       "        2.4       ,  2.41      ,  2.42      ,  2.43      ,  2.44      ,\n",
       "        2.45      ,  2.46      ,  2.47      ,  2.48      ,  2.49      ,\n",
       "        2.5       ,  2.51      ,  2.52      ,  2.53      ,  2.54      ,\n",
       "        2.55      ,  2.56      ,  2.57      ,  2.58      ,  2.59      ,\n",
       "        2.6       ,  2.61      ,  2.62      ,  2.63      ,  2.64      ,\n",
       "        2.65      ,  2.66      ,  2.67      ,  2.68      ,  2.69      ,\n",
       "        2.7       ,  2.71      ,  2.72      ,  2.73      ,  2.74      ,\n",
       "        2.75      ,  2.76      ,  2.77      ,  2.78      ,  2.79      ,\n",
       "        2.8       ,  2.81      ,  2.82      ,  2.83      ,  2.84      ,\n",
       "        2.85      ,  2.86      ,  2.87      ,  2.88      ,  2.89      ,\n",
       "        2.9       ,  2.91      ,  2.92      ,  2.93      ,  2.94      ,\n",
       "        2.95      ,  2.96      ,  2.97      ,  2.98      ,  2.99      ,\n",
       "        3.        ,  3.01      ,  3.02      ,  3.03      ,  3.04      ,\n",
       "        3.05      ,  3.06      ,  3.07      ,  3.08      ,  3.09      ,\n",
       "        3.1       ,  3.11      ,  3.12      ,  3.13      ,  3.14      ,\n",
       "        3.13318531,  3.12318531,  3.11318531,  3.10318531,  3.09318531,\n",
       "        3.08318531,  3.07318531,  3.06318531,  3.05318531,  3.04318531,\n",
       "        3.03318531,  3.02318531,  3.01318531,  3.00318531,  2.99318531,\n",
       "        2.98318531,  2.97318531,  2.96318531,  2.95318531,  2.94318531,\n",
       "        2.93318531,  2.92318531,  2.91318531,  2.90318531,  2.89318531,\n",
       "        2.88318531,  2.87318531,  2.86318531,  2.85318531,  2.84318531,\n",
       "        2.83318531,  2.82318531,  2.81318531,  2.80318531,  2.79318531,\n",
       "        2.78318531,  2.77318531,  2.76318531,  2.75318531,  2.74318531,\n",
       "        2.73318531,  2.72318531,  2.71318531,  2.70318531,  2.69318531,\n",
       "        2.68318531,  2.67318531,  2.66318531,  2.65318531,  2.64318531,\n",
       "        2.63318531,  2.62318531,  2.61318531,  2.60318531,  2.59318531,\n",
       "        2.58318531,  2.57318531,  2.56318531,  2.55318531,  2.54318531,\n",
       "        2.53318531,  2.52318531,  2.51318531,  2.50318531,  2.49318531,\n",
       "        2.48318531,  2.47318531,  2.46318531,  2.45318531,  2.44318531,\n",
       "        2.43318531,  2.42318531,  2.41318531,  2.40318531,  2.39318531,\n",
       "        2.38318531,  2.37318531,  2.36318531,  2.35318531,  2.34318531,\n",
       "        2.33318531,  2.32318531,  2.31318531,  2.30318531,  2.29318531,\n",
       "        2.28318531,  2.27318531,  2.26318531,  2.25318531,  2.24318531,\n",
       "        2.23318531,  2.22318531,  2.21318531,  2.20318531,  2.19318531,\n",
       "        2.18318531,  2.17318531,  2.16318531,  2.15318531,  2.14318531,\n",
       "        2.13318531,  2.12318531,  2.11318531,  2.10318531,  2.09318531,\n",
       "        2.08318531,  2.07318531,  2.06318531,  2.05318531,  2.04318531,\n",
       "        2.03318531,  2.02318531,  2.01318531,  2.00318531,  1.99318531,\n",
       "        1.98318531,  1.97318531,  1.96318531,  1.95318531,  1.94318531,\n",
       "        1.93318531,  1.92318531,  1.91318531,  1.90318531,  1.89318531,\n",
       "        1.88318531,  1.87318531,  1.86318531,  1.85318531,  1.84318531,\n",
       "        1.83318531,  1.82318531,  1.81318531,  1.80318531,  1.79318531,\n",
       "        1.78318531,  1.77318531,  1.76318531,  1.75318531,  1.74318531,\n",
       "        1.73318531,  1.72318531,  1.71318531,  1.70318531,  1.69318531,\n",
       "        1.68318531,  1.67318531,  1.66318531,  1.65318531,  1.64318531,\n",
       "        1.63318531,  1.62318531,  1.61318531,  1.60318531,  1.59318531,\n",
       "        1.58318531,  1.57318531,  1.56318531,  1.55318531,  1.54318531,\n",
       "        1.53318531,  1.52318531,  1.51318531,  1.50318531,  1.49318531,\n",
       "        1.48318531,  1.47318531,  1.46318531,  1.45318531,  1.44318531,\n",
       "        1.43318531,  1.42318531,  1.41318531,  1.40318531,  1.39318531,\n",
       "        1.38318531,  1.37318531,  1.36318531,  1.35318531,  1.34318531,\n",
       "        1.33318531,  1.32318531,  1.31318531,  1.30318531,  1.29318531,\n",
       "        1.28318531,  1.27318531,  1.26318531,  1.25318531,  1.24318531,\n",
       "        1.23318531,  1.22318531,  1.21318531,  1.20318531,  1.19318531,\n",
       "        1.18318531,  1.17318531,  1.16318531,  1.15318531,  1.14318531,\n",
       "        1.13318531,  1.12318531,  1.11318531,  1.10318531,  1.09318531,\n",
       "        1.08318531,  1.07318531,  1.06318531,  1.05318531,  1.04318531,\n",
       "        1.03318531,  1.02318531,  1.01318531,  1.00318531,  0.99318531,\n",
       "        0.98318531,  0.97318531,  0.96318531,  0.95318531,  0.94318531,\n",
       "        0.93318531,  0.92318531,  0.91318531,  0.90318531,  0.89318531,\n",
       "        0.88318531,  0.87318531,  0.86318531,  0.85318531,  0.84318531,\n",
       "        0.83318531,  0.82318531,  0.81318531,  0.80318531,  0.79318531,\n",
       "        0.78318531,  0.77318531,  0.76318531,  0.75318531,  0.74318531,\n",
       "        0.73318531,  0.72318531,  0.71318531,  0.70318531,  0.69318531,\n",
       "        0.68318531,  0.67318531,  0.66318531,  0.65318531,  0.64318531,\n",
       "        0.63318531,  0.62318531,  0.61318531,  0.60318531,  0.59318531,\n",
       "        0.58318531,  0.57318531,  0.56318531,  0.55318531,  0.54318531,\n",
       "        0.53318531,  0.52318531,  0.51318531,  0.50318531,  0.49318531,\n",
       "        0.48318531,  0.47318531,  0.46318531,  0.45318531,  0.44318531,\n",
       "        0.43318531,  0.42318531,  0.41318531,  0.40318531,  0.39318531,\n",
       "        0.38318531,  0.37318531,  0.36318531,  0.35318531,  0.34318531,\n",
       "        0.33318531,  0.32318531,  0.31318531,  0.30318531,  0.29318531,\n",
       "        0.28318531,  0.27318531,  0.26318531,  0.25318531,  0.24318531,\n",
       "        0.23318531,  0.22318531,  0.21318531,  0.20318531,  0.19318531,\n",
       "        0.18318531,  0.17318531,  0.16318531,  0.15318531,  0.14318531,\n",
       "        0.13318531,  0.12318531,  0.11318531,  0.10318531,  0.09318531,\n",
       "        0.08318531,  0.07318531,  0.06318531,  0.05318531,  0.04318531,\n",
       "        0.03318531,  0.02318531,  0.01318531,  0.00318531])"
      ]
     },
     "execution_count": 52,
     "metadata": {},
     "output_type": "execute_result"
    }
   ],
   "source": [
    "theta2"
   ]
  },
  {
   "cell_type": "code",
   "execution_count": 55,
   "metadata": {},
   "outputs": [],
   "source": [
    "%matplotlib inline\n",
    "import matplotlib.pyplot as plt"
   ]
  },
  {
   "cell_type": "code",
   "execution_count": 56,
   "metadata": {},
   "outputs": [
    {
     "data": {
      "text/plain": [
       "<matplotlib.collections.PathCollection at 0x7f75aaa78310>"
      ]
     },
     "execution_count": 56,
     "metadata": {},
     "output_type": "execute_result"
    },
    {
     "data": {
      "image/png": "[encoded data removed]",
      "text/plain": [
       "<matplotlib.figure.Figure at 0x7f75ab692a50>"
      ]
     },
     "metadata": {},
     "output_type": "display_data"
    }
   ],
   "source": [
    "plt.scatter(np.arange(0,2*np.pi, 0.01), theta2)"
   ]
  },
  {
   "cell_type": "code",
   "execution_count": 75,
   "metadata": {},
   "outputs": [],
   "source": [
    "N = 100\n",
    "C = 5\n",
    "\n",
    "F = np.zeros((N, C))\n",
    "for i in range(N):\n",
    "    for j in range(C):\n",
    "        if np.random.rand() < 0.1:\n",
    "            F[i, j] = np.random.rand()\n",
    "theta = np.random.rand(N)"
   ]
  },
  {
   "cell_type": "code",
   "execution_count": 76,
   "metadata": {
    "collapsed": true
   },
   "outputs": [],
   "source": [
    "t = 0"
   ]
  },
  {
   "cell_type": "code",
   "execution_count": 77,
   "metadata": {},
   "outputs": [
    {
     "data": {
      "text/plain": [
       "0.18431973276994329"
      ]
     },
     "execution_count": 77,
     "metadata": {},
     "output_type": "execute_result"
    }
   ],
   "source": [
    "theta[t]"
   ]
  },
  {
   "cell_type": "code",
   "execution_count": 78,
   "metadata": {},
   "outputs": [
    {
     "data": {
      "text/plain": [
       "0.36897420569444694"
      ]
     },
     "execution_count": 78,
     "metadata": {},
     "output_type": "execute_result"
    }
   ],
   "source": [
    "F[t].dot(np.append(F[:t], F[t+1:], axis=0).T).dot(np.append(theta[:t], theta[t+1:]))"
   ]
  },
  {
   "cell_type": "code",
   "execution_count": null,
   "metadata": {
    "collapsed": true
   },
   "outputs": [],
   "source": []
  }
 ],
 "metadata": {
  "kernelspec": {
   "display_name": "Python 2",
   "language": "python",
   "name": "python2"
  },
  "language_info": {
   "codemirror_mode": {
    "name": "ipython",
    "version": 2
   },
   "file_extension": ".py",
   "mimetype": "text/x-python",
   "name": "python",
   "nbconvert_exporter": "python",
   "pygments_lexer": "ipython2",
   "version": "2.7.13"
  }
 },
 "nbformat": 4,
 "nbformat_minor": 2
}
