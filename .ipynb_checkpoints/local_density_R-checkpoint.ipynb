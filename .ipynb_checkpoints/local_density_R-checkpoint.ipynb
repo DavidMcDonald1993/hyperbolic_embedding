{
 "cells": [
  {
   "cell_type": "code",
   "execution_count": 1,
   "metadata": {
    "collapsed": false
   },
   "outputs": [
    {
     "name": "stderr",
     "output_type": "stream",
     "text": [
      "\n",
      "Attaching package: ‘igraph’\n",
      "\n",
      "The following objects are masked from ‘package:stats’:\n",
      "\n",
      "    decompose, spectrum\n",
      "\n",
      "The following object is masked from ‘package:base’:\n",
      "\n",
      "    union\n",
      "\n",
      "Loading required package: permute\n",
      "\n",
      "Attaching package: ‘permute’\n",
      "\n",
      "The following object is masked from ‘package:igraph’:\n",
      "\n",
      "    permute\n",
      "\n",
      "Loading required package: lattice\n",
      "This is vegan 2.4-3\n",
      "\n",
      "Attaching package: ‘vegan’\n",
      "\n",
      "The following object is masked from ‘package:igraph’:\n",
      "\n",
      "    diversity\n",
      "\n"
     ]
    }
   ],
   "source": [
    "library(igraph)\n",
    "library(vegan)"
   ]
  },
  {
   "cell_type": "code",
   "execution_count": 2,
   "metadata": {
    "collapsed": false
   },
   "outputs": [],
   "source": [
    "g <- graph(\"zachary\")\n",
    "\n",
    "# edges <- read.table(\"cites.csv\")\n",
    "# g <- graph.data.frame(edges, directed = F)\n",
    "\n",
    "g_decomposed <- decompose(g)\n",
    "g <- g_decomposed[[which.max(sapply(g_decomposed, function(i) length(V(i))))]]\n",
    "g <- simplify(g)"
   ]
  },
  {
   "cell_type": "code",
   "execution_count": 3,
   "metadata": {
    "collapsed": true
   },
   "outputs": [],
   "source": [
    "# for zachary\n",
    "V(g)$name <- as.character(1:34)"
   ]
  },
  {
   "cell_type": "code",
   "execution_count": 4,
   "metadata": {
    "collapsed": false
   },
   "outputs": [],
   "source": [
    "nodes <- V(g)$name"
   ]
  },
  {
   "cell_type": "code",
   "execution_count": 5,
   "metadata": {
    "collapsed": false
   },
   "outputs": [
    {
     "data": {
      "text/html": [
       "<ol class=list-inline>\n",
       "\t<li>'1'</li>\n",
       "\t<li>'2'</li>\n",
       "\t<li>'3'</li>\n",
       "\t<li>'4'</li>\n",
       "\t<li>'5'</li>\n",
       "\t<li>'6'</li>\n",
       "\t<li>'7'</li>\n",
       "\t<li>'8'</li>\n",
       "\t<li>'9'</li>\n",
       "\t<li>'10'</li>\n",
       "\t<li>'11'</li>\n",
       "\t<li>'12'</li>\n",
       "\t<li>'13'</li>\n",
       "\t<li>'14'</li>\n",
       "\t<li>'15'</li>\n",
       "\t<li>'16'</li>\n",
       "\t<li>'17'</li>\n",
       "\t<li>'18'</li>\n",
       "\t<li>'19'</li>\n",
       "\t<li>'20'</li>\n",
       "\t<li>'21'</li>\n",
       "\t<li>'22'</li>\n",
       "\t<li>'23'</li>\n",
       "\t<li>'24'</li>\n",
       "\t<li>'25'</li>\n",
       "\t<li>'26'</li>\n",
       "\t<li>'27'</li>\n",
       "\t<li>'28'</li>\n",
       "\t<li>'29'</li>\n",
       "\t<li>'30'</li>\n",
       "\t<li>'31'</li>\n",
       "\t<li>'32'</li>\n",
       "\t<li>'33'</li>\n",
       "\t<li>'34'</li>\n",
       "</ol>\n"
      ],
      "text/latex": [
       "\\begin{enumerate*}\n",
       "\\item '1'\n",
       "\\item '2'\n",
       "\\item '3'\n",
       "\\item '4'\n",
       "\\item '5'\n",
       "\\item '6'\n",
       "\\item '7'\n",
       "\\item '8'\n",
       "\\item '9'\n",
       "\\item '10'\n",
       "\\item '11'\n",
       "\\item '12'\n",
       "\\item '13'\n",
       "\\item '14'\n",
       "\\item '15'\n",
       "\\item '16'\n",
       "\\item '17'\n",
       "\\item '18'\n",
       "\\item '19'\n",
       "\\item '20'\n",
       "\\item '21'\n",
       "\\item '22'\n",
       "\\item '23'\n",
       "\\item '24'\n",
       "\\item '25'\n",
       "\\item '26'\n",
       "\\item '27'\n",
       "\\item '28'\n",
       "\\item '29'\n",
       "\\item '30'\n",
       "\\item '31'\n",
       "\\item '32'\n",
       "\\item '33'\n",
       "\\item '34'\n",
       "\\end{enumerate*}\n"
      ],
      "text/markdown": [
       "1. '1'\n",
       "2. '2'\n",
       "3. '3'\n",
       "4. '4'\n",
       "5. '5'\n",
       "6. '6'\n",
       "7. '7'\n",
       "8. '8'\n",
       "9. '9'\n",
       "10. '10'\n",
       "11. '11'\n",
       "12. '12'\n",
       "13. '13'\n",
       "14. '14'\n",
       "15. '15'\n",
       "16. '16'\n",
       "17. '17'\n",
       "18. '18'\n",
       "19. '19'\n",
       "20. '20'\n",
       "21. '21'\n",
       "22. '22'\n",
       "23. '23'\n",
       "24. '24'\n",
       "25. '25'\n",
       "26. '26'\n",
       "27. '27'\n",
       "28. '28'\n",
       "29. '29'\n",
       "30. '30'\n",
       "31. '31'\n",
       "32. '32'\n",
       "33. '33'\n",
       "34. '34'\n",
       "\n",
       "\n"
      ],
      "text/plain": [
       " [1] \"1\"  \"2\"  \"3\"  \"4\"  \"5\"  \"6\"  \"7\"  \"8\"  \"9\"  \"10\" \"11\" \"12\" \"13\" \"14\" \"15\"\n",
       "[16] \"16\" \"17\" \"18\" \"19\" \"20\" \"21\" \"22\" \"23\" \"24\" \"25\" \"26\" \"27\" \"28\" \"29\" \"30\"\n",
       "[31] \"31\" \"32\" \"33\" \"34\""
      ]
     },
     "metadata": {},
     "output_type": "display_data"
    }
   ],
   "source": [
    "nodes"
   ]
  },
  {
   "cell_type": "code",
   "execution_count": 6,
   "metadata": {
    "collapsed": true
   },
   "outputs": [],
   "source": [
    "partition_density <- function(community) {\n",
    "    \n",
    "    # number of nodes\n",
    "    n <- length(V(community))\n",
    "    \n",
    "    # number of edges\n",
    "    m <- length(E(community))\n",
    "    \n",
    "    return (n * ((m - (n - 1)) / ((n - 2) * (n - 1))) )\n",
    "}"
   ]
  },
  {
   "cell_type": "code",
   "execution_count": 7,
   "metadata": {
    "collapsed": false
   },
   "outputs": [],
   "source": [
    "score_partition <- function(g, communities) {\n",
    " \n",
    "    # number of nodes in network\n",
    "    N <- length(V(g))\n",
    "\n",
    "    # number of communities\n",
    "    k <- length(communities)\n",
    "\n",
    "    # weighted patition score for entire network\n",
    "    return(2 / (sqrt(k) * N) * sum(sapply(communities, partition_density)))\n",
    "\n",
    "}"
   ]
  },
  {
   "cell_type": "code",
   "execution_count": 8,
   "metadata": {
    "collapsed": true
   },
   "outputs": [],
   "source": [
    "# local density\n",
    "\n",
    "# structureal similairty funciton\n",
    "structureSimilarity <- function(g, nv, nw) {\n",
    "    return(length(intersect(nv, nw)) / \n",
    "          sqrt(length(nv) * length(nw)))\n",
    "}\n",
    "\n",
    "# pre compute neighbourhoods\n",
    "neighbourhoods <- sapply(nodes, function(v) {\n",
    "    neighborhood(g, v, order=1)\n",
    "})\n",
    "\n",
    "\n",
    "# compute similiarity of all nodes \n",
    "structureSimilarities <- sapply(neighbourhoods, function(nv) {\n",
    "    sapply(neighbourhoods, function(nw) {\n",
    "        structureSimilarity(g, nv, nw)\n",
    "    })\n",
    "})\n",
    "\n",
    "\n",
    "# disatnce = 1 / similarity\n",
    "distances <- sapply(1:nrow(structureSimilarities), function(i){\n",
    "    sapply(1:ncol(structureSimilarities), function(j) {\n",
    "        if (i == j){\n",
    "            return (0)\n",
    "        } else if (structureSimilarities[i,j] == 0){\n",
    "            return (.Machine$double.xmax)\n",
    "        } else {\n",
    "            return (1 / structureSimilarities[i,j])\n",
    "        }\n",
    "    })\n",
    "})"
   ]
  },
  {
   "cell_type": "code",
   "execution_count": 9,
   "metadata": {
    "collapsed": false
   },
   "outputs": [],
   "source": [
    "# isomap embedding \n",
    "iso <- isomap(dist = as.dist(distances), ndim = 10, k = 5)\n",
    "X <- iso$points"
   ]
  },
  {
   "cell_type": "code",
   "execution_count": 10,
   "metadata": {
    "collapsed": false
   },
   "outputs": [],
   "source": [
    "# distance between all points\n",
    "d <- as.matrix(dist(X))"
   ]
  },
  {
   "cell_type": "code",
   "execution_count": 15,
   "metadata": {
    "collapsed": false
   },
   "outputs": [],
   "source": [
    "#distance cut off value\n",
    "dc <- 3"
   ]
  },
  {
   "cell_type": "code",
   "execution_count": 22,
   "metadata": {
    "collapsed": false
   },
   "outputs": [],
   "source": [
    "# density of node\n",
    "rhos <- apply(d, 1, function(row) {\n",
    "    sum(row < dc)\n",
    "})\n",
    "names(rhos) <- nodes"
   ]
  },
  {
   "cell_type": "code",
   "execution_count": 24,
   "metadata": {
    "collapsed": false
   },
   "outputs": [
    {
     "data": {
      "text/html": [
       "<dl class=dl-horizontal>\n",
       "\t<dt>1</dt>\n",
       "\t\t<dd>10</dd>\n",
       "\t<dt>2</dt>\n",
       "\t\t<dd>8</dd>\n",
       "\t<dt>3</dt>\n",
       "\t\t<dd>7</dd>\n",
       "\t<dt>4</dt>\n",
       "\t\t<dd>7</dd>\n",
       "\t<dt>5</dt>\n",
       "\t\t<dd>6</dd>\n",
       "\t<dt>6</dt>\n",
       "\t\t<dd>6</dd>\n",
       "</dl>\n"
      ],
      "text/latex": [
       "\\begin{description*}\n",
       "\\item[1] 10\n",
       "\\item[2] 8\n",
       "\\item[3] 7\n",
       "\\item[4] 7\n",
       "\\item[5] 6\n",
       "\\item[6] 6\n",
       "\\end{description*}\n"
      ],
      "text/markdown": [
       "1\n",
       ":   102\n",
       ":   83\n",
       ":   74\n",
       ":   75\n",
       ":   66\n",
       ":   6\n",
       "\n"
      ],
      "text/plain": [
       " 1  2  3  4  5  6 \n",
       "10  8  7  7  6  6 "
      ]
     },
     "metadata": {},
     "output_type": "display_data"
    }
   ],
   "source": [
    "head(rhos)"
   ]
  },
  {
   "cell_type": "code",
   "execution_count": 25,
   "metadata": {
    "collapsed": false
   },
   "outputs": [],
   "source": [
    "# compute deltas\n",
    "deltas <- sapply(1:length(rhos), function(i) {\n",
    "    \n",
    "    #row in distance matrix of interest\n",
    "    d2Node <- d[names(rhos)[i],]\n",
    "    \n",
    "    if (rhos[i] == max(rhos)) {\n",
    "        # assign point with moximum density the greatest distance\n",
    "        return(max(d2Node))\n",
    "    } else {\n",
    "        #assign minimum distance of node with greater rho\n",
    "        return(min(d2Node[rhos > rhos[i]]))\n",
    "    }\n",
    "    \n",
    "}) \n",
    "names(deltas) <- nodes"
   ]
  },
  {
   "cell_type": "code",
   "execution_count": 26,
   "metadata": {
    "collapsed": true
   },
   "outputs": [],
   "source": [
    "# gammas\n",
    "gammas <- rhos * deltas\n",
    "names(deltas) <- nodes"
   ]
  },
  {
   "cell_type": "code",
   "execution_count": 27,
   "metadata": {
    "collapsed": false
   },
   "outputs": [
    {
     "data": {
      "text/html": [
       "<dl class=dl-horizontal>\n",
       "\t<dt>1</dt>\n",
       "\t\t<dd>10</dd>\n",
       "\t<dt>8</dt>\n",
       "\t\t<dd>9</dd>\n",
       "\t<dt>14</dt>\n",
       "\t\t<dd>9</dd>\n",
       "\t<dt>2</dt>\n",
       "\t\t<dd>8</dd>\n",
       "\t<dt>15</dt>\n",
       "\t\t<dd>8</dd>\n",
       "\t<dt>16</dt>\n",
       "\t\t<dd>8</dd>\n",
       "\t<dt>19</dt>\n",
       "\t\t<dd>8</dd>\n",
       "\t<dt>21</dt>\n",
       "\t\t<dd>8</dd>\n",
       "\t<dt>23</dt>\n",
       "\t\t<dd>8</dd>\n",
       "\t<dt>30</dt>\n",
       "\t\t<dd>8</dd>\n",
       "\t<dt>3</dt>\n",
       "\t\t<dd>7</dd>\n",
       "\t<dt>4</dt>\n",
       "\t\t<dd>7</dd>\n",
       "\t<dt>5</dt>\n",
       "\t\t<dd>6</dd>\n",
       "\t<dt>6</dt>\n",
       "\t\t<dd>6</dd>\n",
       "\t<dt>7</dt>\n",
       "\t\t<dd>6</dd>\n",
       "\t<dt>11</dt>\n",
       "\t\t<dd>6</dd>\n",
       "\t<dt>18</dt>\n",
       "\t\t<dd>6</dd>\n",
       "\t<dt>22</dt>\n",
       "\t\t<dd>6</dd>\n",
       "\t<dt>31</dt>\n",
       "\t\t<dd>6</dd>\n",
       "\t<dt>33</dt>\n",
       "\t\t<dd>6</dd>\n",
       "\t<dt>17</dt>\n",
       "\t\t<dd>5</dd>\n",
       "\t<dt>9</dt>\n",
       "\t\t<dd>3</dd>\n",
       "\t<dt>13</dt>\n",
       "\t\t<dd>3</dd>\n",
       "\t<dt>20</dt>\n",
       "\t\t<dd>3</dd>\n",
       "\t<dt>25</dt>\n",
       "\t\t<dd>3</dd>\n",
       "\t<dt>26</dt>\n",
       "\t\t<dd>3</dd>\n",
       "\t<dt>32</dt>\n",
       "\t\t<dd>3</dd>\n",
       "\t<dt>10</dt>\n",
       "\t\t<dd>2</dd>\n",
       "\t<dt>24</dt>\n",
       "\t\t<dd>2</dd>\n",
       "\t<dt>27</dt>\n",
       "\t\t<dd>2</dd>\n",
       "\t<dt>29</dt>\n",
       "\t\t<dd>2</dd>\n",
       "\t<dt>12</dt>\n",
       "\t\t<dd>1</dd>\n",
       "\t<dt>28</dt>\n",
       "\t\t<dd>1</dd>\n",
       "\t<dt>34</dt>\n",
       "\t\t<dd>1</dd>\n",
       "</dl>\n"
      ],
      "text/latex": [
       "\\begin{description*}\n",
       "\\item[1] 10\n",
       "\\item[8] 9\n",
       "\\item[14] 9\n",
       "\\item[2] 8\n",
       "\\item[15] 8\n",
       "\\item[16] 8\n",
       "\\item[19] 8\n",
       "\\item[21] 8\n",
       "\\item[23] 8\n",
       "\\item[30] 8\n",
       "\\item[3] 7\n",
       "\\item[4] 7\n",
       "\\item[5] 6\n",
       "\\item[6] 6\n",
       "\\item[7] 6\n",
       "\\item[11] 6\n",
       "\\item[18] 6\n",
       "\\item[22] 6\n",
       "\\item[31] 6\n",
       "\\item[33] 6\n",
       "\\item[17] 5\n",
       "\\item[9] 3\n",
       "\\item[13] 3\n",
       "\\item[20] 3\n",
       "\\item[25] 3\n",
       "\\item[26] 3\n",
       "\\item[32] 3\n",
       "\\item[10] 2\n",
       "\\item[24] 2\n",
       "\\item[27] 2\n",
       "\\item[29] 2\n",
       "\\item[12] 1\n",
       "\\item[28] 1\n",
       "\\item[34] 1\n",
       "\\end{description*}\n"
      ],
      "text/markdown": [
       "1\n",
       ":   108\n",
       ":   914\n",
       ":   92\n",
       ":   815\n",
       ":   816\n",
       ":   819\n",
       ":   821\n",
       ":   823\n",
       ":   830\n",
       ":   83\n",
       ":   74\n",
       ":   75\n",
       ":   66\n",
       ":   67\n",
       ":   611\n",
       ":   618\n",
       ":   622\n",
       ":   631\n",
       ":   633\n",
       ":   617\n",
       ":   59\n",
       ":   313\n",
       ":   320\n",
       ":   325\n",
       ":   326\n",
       ":   332\n",
       ":   310\n",
       ":   224\n",
       ":   227\n",
       ":   229\n",
       ":   212\n",
       ":   128\n",
       ":   134\n",
       ":   1\n",
       "\n"
      ],
      "text/plain": [
       " 1  8 14  2 15 16 19 21 23 30  3  4  5  6  7 11 18 22 31 33 17  9 13 20 25 26 \n",
       "10  9  9  8  8  8  8  8  8  8  7  7  6  6  6  6  6  6  6  6  5  3  3  3  3  3 \n",
       "32 10 24 27 29 12 28 34 \n",
       " 3  2  2  2  2  1  1  1 "
      ]
     },
     "metadata": {},
     "output_type": "display_data"
    }
   ],
   "source": [
    "sort(rhos, decreasing = T)"
   ]
  },
  {
   "cell_type": "code",
   "execution_count": 28,
   "metadata": {
    "collapsed": false
   },
   "outputs": [
    {
     "data": {
      "text/html": [
       "<dl class=dl-horizontal>\n",
       "\t<dt>1</dt>\n",
       "\t\t<dd>8.07186555180325</dd>\n",
       "\t<dt>30</dt>\n",
       "\t\t<dd>5.85589445957556</dd>\n",
       "\t<dt>19</dt>\n",
       "\t\t<dd>4.6861713966003</dd>\n",
       "\t<dt>15</dt>\n",
       "\t\t<dd>4.6861713966003</dd>\n",
       "\t<dt>16</dt>\n",
       "\t\t<dd>4.6861713966003</dd>\n",
       "\t<dt>21</dt>\n",
       "\t\t<dd>4.6861713966003</dd>\n",
       "\t<dt>23</dt>\n",
       "\t\t<dd>4.6861713966003</dd>\n",
       "\t<dt>25</dt>\n",
       "\t\t<dd>4.37823303044601</dd>\n",
       "\t<dt>26</dt>\n",
       "\t\t<dd>4.28208505378324</dd>\n",
       "\t<dt>32</dt>\n",
       "\t\t<dd>4.22050442181001</dd>\n",
       "\t<dt>12</dt>\n",
       "\t\t<dd>4.20957393808536</dd>\n",
       "\t<dt>28</dt>\n",
       "\t\t<dd>3.36432978379324</dd>\n",
       "\t<dt>29</dt>\n",
       "\t\t<dd>3.14174227652969</dd>\n",
       "\t<dt>34</dt>\n",
       "\t\t<dd>3.04871674380802</dd>\n",
       "\t<dt>10</dt>\n",
       "\t\t<dd>3.0175341502258</dd>\n",
       "\t<dt>9</dt>\n",
       "\t\t<dd>2.8523707297084</dd>\n",
       "\t<dt>11</dt>\n",
       "\t\t<dd>2.82077202462743</dd>\n",
       "\t<dt>5</dt>\n",
       "\t\t<dd>2.82077202462742</dd>\n",
       "\t<dt>27</dt>\n",
       "\t\t<dd>2.79783594431344</dd>\n",
       "\t<dt>14</dt>\n",
       "\t\t<dd>2.75157942901332</dd>\n",
       "\t<dt>18</dt>\n",
       "\t\t<dd>2.72507722524018</dd>\n",
       "\t<dt>22</dt>\n",
       "\t\t<dd>2.72507722524018</dd>\n",
       "\t<dt>31</dt>\n",
       "\t\t<dd>2.65810567942747</dd>\n",
       "\t<dt>33</dt>\n",
       "\t\t<dd>2.64621054891675</dd>\n",
       "\t<dt>7</dt>\n",
       "\t\t<dd>2.60566921965127</dd>\n",
       "\t<dt>6</dt>\n",
       "\t\t<dd>2.60566921965126</dd>\n",
       "\t<dt>20</dt>\n",
       "\t\t<dd>2.49357649083348</dd>\n",
       "\t<dt>3</dt>\n",
       "\t\t<dd>2.28845520499961</dd>\n",
       "\t<dt>13</dt>\n",
       "\t\t<dd>2.19634857037112</dd>\n",
       "\t<dt>8</dt>\n",
       "\t\t<dd>1.87686827649449</dd>\n",
       "\t<dt>17</dt>\n",
       "\t\t<dd>1.63640920782277</dd>\n",
       "\t<dt>24</dt>\n",
       "\t\t<dd>1.61144152995521</dd>\n",
       "\t<dt>4</dt>\n",
       "\t\t<dd>1.08864709239024</dd>\n",
       "\t<dt>2</dt>\n",
       "\t\t<dd>1.08831565176578</dd>\n",
       "</dl>\n"
      ],
      "text/latex": [
       "\\begin{description*}\n",
       "\\item[1] 8.07186555180325\n",
       "\\item[30] 5.85589445957556\n",
       "\\item[19] 4.6861713966003\n",
       "\\item[15] 4.6861713966003\n",
       "\\item[16] 4.6861713966003\n",
       "\\item[21] 4.6861713966003\n",
       "\\item[23] 4.6861713966003\n",
       "\\item[25] 4.37823303044601\n",
       "\\item[26] 4.28208505378324\n",
       "\\item[32] 4.22050442181001\n",
       "\\item[12] 4.20957393808536\n",
       "\\item[28] 3.36432978379324\n",
       "\\item[29] 3.14174227652969\n",
       "\\item[34] 3.04871674380802\n",
       "\\item[10] 3.0175341502258\n",
       "\\item[9] 2.8523707297084\n",
       "\\item[11] 2.82077202462743\n",
       "\\item[5] 2.82077202462742\n",
       "\\item[27] 2.79783594431344\n",
       "\\item[14] 2.75157942901332\n",
       "\\item[18] 2.72507722524018\n",
       "\\item[22] 2.72507722524018\n",
       "\\item[31] 2.65810567942747\n",
       "\\item[33] 2.64621054891675\n",
       "\\item[7] 2.60566921965127\n",
       "\\item[6] 2.60566921965126\n",
       "\\item[20] 2.49357649083348\n",
       "\\item[3] 2.28845520499961\n",
       "\\item[13] 2.19634857037112\n",
       "\\item[8] 1.87686827649449\n",
       "\\item[17] 1.63640920782277\n",
       "\\item[24] 1.61144152995521\n",
       "\\item[4] 1.08864709239024\n",
       "\\item[2] 1.08831565176578\n",
       "\\end{description*}\n"
      ],
      "text/markdown": [
       "1\n",
       ":   8.0718655518032530\n",
       ":   5.8558944595755619\n",
       ":   4.686171396600315\n",
       ":   4.686171396600316\n",
       ":   4.686171396600321\n",
       ":   4.686171396600323\n",
       ":   4.686171396600325\n",
       ":   4.3782330304460126\n",
       ":   4.2820850537832432\n",
       ":   4.2205044218100112\n",
       ":   4.2095739380853628\n",
       ":   3.3643297837932429\n",
       ":   3.1417422765296934\n",
       ":   3.0487167438080210\n",
       ":   3.01753415022589\n",
       ":   2.852370729708411\n",
       ":   2.820772024627435\n",
       ":   2.8207720246274227\n",
       ":   2.7978359443134414\n",
       ":   2.7515794290133218\n",
       ":   2.7250772252401822\n",
       ":   2.7250772252401831\n",
       ":   2.6581056794274733\n",
       ":   2.646210548916757\n",
       ":   2.605669219651276\n",
       ":   2.6056692196512620\n",
       ":   2.493576490833483\n",
       ":   2.2884552049996113\n",
       ":   2.196348570371128\n",
       ":   1.8768682764944917\n",
       ":   1.6364092078227724\n",
       ":   1.611441529955214\n",
       ":   1.088647092390242\n",
       ":   1.08831565176578\n",
       "\n"
      ],
      "text/plain": [
       "       1       30       19       15       16       21       23       25 \n",
       "8.071866 5.855894 4.686171 4.686171 4.686171 4.686171 4.686171 4.378233 \n",
       "      26       32       12       28       29       34       10        9 \n",
       "4.282085 4.220504 4.209574 3.364330 3.141742 3.048717 3.017534 2.852371 \n",
       "      11        5       27       14       18       22       31       33 \n",
       "2.820772 2.820772 2.797836 2.751579 2.725077 2.725077 2.658106 2.646211 \n",
       "       7        6       20        3       13        8       17       24 \n",
       "2.605669 2.605669 2.493576 2.288455 2.196349 1.876868 1.636409 1.611442 \n",
       "       4        2 \n",
       "1.088647 1.088316 "
      ]
     },
     "metadata": {},
     "output_type": "display_data"
    }
   ],
   "source": [
    "sort(deltas, decreasing = T)"
   ]
  },
  {
   "cell_type": "code",
   "execution_count": 29,
   "metadata": {
    "collapsed": false
   },
   "outputs": [
    {
     "data": {
      "text/html": [
       "<dl class=dl-horizontal>\n",
       "\t<dt>1</dt>\n",
       "\t\t<dd>80.7186555180325</dd>\n",
       "\t<dt>30</dt>\n",
       "\t\t<dd>46.8471556766045</dd>\n",
       "\t<dt>19</dt>\n",
       "\t\t<dd>37.4893711728024</dd>\n",
       "\t<dt>15</dt>\n",
       "\t\t<dd>37.4893711728024</dd>\n",
       "\t<dt>16</dt>\n",
       "\t\t<dd>37.4893711728024</dd>\n",
       "\t<dt>21</dt>\n",
       "\t\t<dd>37.4893711728024</dd>\n",
       "\t<dt>23</dt>\n",
       "\t\t<dd>37.4893711728024</dd>\n",
       "\t<dt>14</dt>\n",
       "\t\t<dd>24.7642148611199</dd>\n",
       "\t<dt>11</dt>\n",
       "\t\t<dd>16.9246321477646</dd>\n",
       "\t<dt>5</dt>\n",
       "\t\t<dd>16.9246321477645</dd>\n",
       "\t<dt>8</dt>\n",
       "\t\t<dd>16.8918144884504</dd>\n",
       "\t<dt>18</dt>\n",
       "\t\t<dd>16.3504633514411</dd>\n",
       "\t<dt>22</dt>\n",
       "\t\t<dd>16.3504633514411</dd>\n",
       "\t<dt>3</dt>\n",
       "\t\t<dd>16.0191864349973</dd>\n",
       "\t<dt>31</dt>\n",
       "\t\t<dd>15.9486340765648</dd>\n",
       "\t<dt>33</dt>\n",
       "\t\t<dd>15.8772632935005</dd>\n",
       "\t<dt>7</dt>\n",
       "\t\t<dd>15.6340153179076</dd>\n",
       "\t<dt>6</dt>\n",
       "\t\t<dd>15.6340153179076</dd>\n",
       "\t<dt>25</dt>\n",
       "\t\t<dd>13.134699091338</dd>\n",
       "\t<dt>26</dt>\n",
       "\t\t<dd>12.8462551613497</dd>\n",
       "\t<dt>32</dt>\n",
       "\t\t<dd>12.66151326543</dd>\n",
       "\t<dt>2</dt>\n",
       "\t\t<dd>8.70652521412627</dd>\n",
       "\t<dt>9</dt>\n",
       "\t\t<dd>8.55711218912521</dd>\n",
       "\t<dt>17</dt>\n",
       "\t\t<dd>8.18204603911384</dd>\n",
       "\t<dt>4</dt>\n",
       "\t\t<dd>7.62052964673171</dd>\n",
       "\t<dt>20</dt>\n",
       "\t\t<dd>7.48072947250045</dd>\n",
       "\t<dt>13</dt>\n",
       "\t\t<dd>6.58904571111337</dd>\n",
       "\t<dt>29</dt>\n",
       "\t\t<dd>6.28348455305937</dd>\n",
       "\t<dt>10</dt>\n",
       "\t\t<dd>6.0350683004516</dd>\n",
       "\t<dt>27</dt>\n",
       "\t\t<dd>5.59567188862689</dd>\n",
       "\t<dt>12</dt>\n",
       "\t\t<dd>4.20957393808536</dd>\n",
       "\t<dt>28</dt>\n",
       "\t\t<dd>3.36432978379324</dd>\n",
       "\t<dt>24</dt>\n",
       "\t\t<dd>3.22288305991043</dd>\n",
       "\t<dt>34</dt>\n",
       "\t\t<dd>3.04871674380802</dd>\n",
       "</dl>\n"
      ],
      "text/latex": [
       "\\begin{description*}\n",
       "\\item[1] 80.7186555180325\n",
       "\\item[30] 46.8471556766045\n",
       "\\item[19] 37.4893711728024\n",
       "\\item[15] 37.4893711728024\n",
       "\\item[16] 37.4893711728024\n",
       "\\item[21] 37.4893711728024\n",
       "\\item[23] 37.4893711728024\n",
       "\\item[14] 24.7642148611199\n",
       "\\item[11] 16.9246321477646\n",
       "\\item[5] 16.9246321477645\n",
       "\\item[8] 16.8918144884504\n",
       "\\item[18] 16.3504633514411\n",
       "\\item[22] 16.3504633514411\n",
       "\\item[3] 16.0191864349973\n",
       "\\item[31] 15.9486340765648\n",
       "\\item[33] 15.8772632935005\n",
       "\\item[7] 15.6340153179076\n",
       "\\item[6] 15.6340153179076\n",
       "\\item[25] 13.134699091338\n",
       "\\item[26] 12.8462551613497\n",
       "\\item[32] 12.66151326543\n",
       "\\item[2] 8.70652521412627\n",
       "\\item[9] 8.55711218912521\n",
       "\\item[17] 8.18204603911384\n",
       "\\item[4] 7.62052964673171\n",
       "\\item[20] 7.48072947250045\n",
       "\\item[13] 6.58904571111337\n",
       "\\item[29] 6.28348455305937\n",
       "\\item[10] 6.0350683004516\n",
       "\\item[27] 5.59567188862689\n",
       "\\item[12] 4.20957393808536\n",
       "\\item[28] 3.36432978379324\n",
       "\\item[24] 3.22288305991043\n",
       "\\item[34] 3.04871674380802\n",
       "\\end{description*}\n"
      ],
      "text/markdown": [
       "1\n",
       ":   80.718655518032530\n",
       ":   46.847155676604519\n",
       ":   37.489371172802415\n",
       ":   37.489371172802416\n",
       ":   37.489371172802421\n",
       ":   37.489371172802423\n",
       ":   37.489371172802414\n",
       ":   24.764214861119911\n",
       ":   16.92463214776465\n",
       ":   16.92463214776458\n",
       ":   16.891814488450418\n",
       ":   16.350463351441122\n",
       ":   16.35046335144113\n",
       ":   16.019186434997331\n",
       ":   15.948634076564833\n",
       ":   15.87726329350057\n",
       ":   15.63401531790766\n",
       ":   15.634015317907625\n",
       ":   13.13469909133826\n",
       ":   12.846255161349732\n",
       ":   12.661513265432\n",
       ":   8.706525214126279\n",
       ":   8.5571121891252117\n",
       ":   8.182046039113844\n",
       ":   7.6205296467317120\n",
       ":   7.4807294725004513\n",
       ":   6.5890457111133729\n",
       ":   6.2834845530593710\n",
       ":   6.035068300451627\n",
       ":   5.5956718886268912\n",
       ":   4.2095739380853628\n",
       ":   3.3643297837932424\n",
       ":   3.2228830599104334\n",
       ":   3.04871674380802\n",
       "\n"
      ],
      "text/plain": [
       "        1        30        19        15        16        21        23        14 \n",
       "80.718656 46.847156 37.489371 37.489371 37.489371 37.489371 37.489371 24.764215 \n",
       "       11         5         8        18        22         3        31        33 \n",
       "16.924632 16.924632 16.891814 16.350463 16.350463 16.019186 15.948634 15.877263 \n",
       "        7         6        25        26        32         2         9        17 \n",
       "15.634015 15.634015 13.134699 12.846255 12.661513  8.706525  8.557112  8.182046 \n",
       "        4        20        13        29        10        27        12        28 \n",
       " 7.620530  7.480729  6.589046  6.283485  6.035068  5.595672  4.209574  3.364330 \n",
       "       24        34 \n",
       " 3.222883  3.048717 "
      ]
     },
     "metadata": {},
     "output_type": "display_data"
    }
   ],
   "source": [
    "sort(gammas, decreasing = T)"
   ]
  },
  {
   "cell_type": "code",
   "execution_count": 34,
   "metadata": {
    "collapsed": false
   },
   "outputs": [
    {
     "data": {
      "image/png": "[encoded data removed]",
      "text/plain": [
       "plot without title"
      ]
     },
     "metadata": {},
     "output_type": "display_data"
    }
   ],
   "source": [
    "plot(rhos, deltas)\n",
    "text(rhos, deltas, labels = nodes, pos=4) "
   ]
  },
  {
   "cell_type": "code",
   "execution_count": 35,
   "metadata": {
    "collapsed": false
   },
   "outputs": [
    {
     "data": {
      "image/png": "[encoded data removed]",
      "text/plain": [
       "Plot with title “”"
      ]
     },
     "metadata": {},
     "output_type": "display_data"
    }
   ],
   "source": [
    "plot(g)"
   ]
  },
  {
   "cell_type": "code",
   "execution_count": 36,
   "metadata": {
    "collapsed": false
   },
   "outputs": [
    {
     "data": {
      "text/html": [
       "<dl class=dl-horizontal>\n",
       "\t<dt>1</dt>\n",
       "\t\t<dd>16</dd>\n",
       "\t<dt>2</dt>\n",
       "\t\t<dd>9</dd>\n",
       "\t<dt>3</dt>\n",
       "\t\t<dd>10</dd>\n",
       "\t<dt>4</dt>\n",
       "\t\t<dd>6</dd>\n",
       "\t<dt>5</dt>\n",
       "\t\t<dd>3</dd>\n",
       "\t<dt>6</dt>\n",
       "\t\t<dd>4</dd>\n",
       "\t<dt>7</dt>\n",
       "\t\t<dd>4</dd>\n",
       "\t<dt>8</dt>\n",
       "\t\t<dd>4</dd>\n",
       "\t<dt>9</dt>\n",
       "\t\t<dd>5</dd>\n",
       "\t<dt>10</dt>\n",
       "\t\t<dd>2</dd>\n",
       "\t<dt>11</dt>\n",
       "\t\t<dd>3</dd>\n",
       "\t<dt>12</dt>\n",
       "\t\t<dd>1</dd>\n",
       "\t<dt>13</dt>\n",
       "\t\t<dd>2</dd>\n",
       "\t<dt>14</dt>\n",
       "\t\t<dd>5</dd>\n",
       "\t<dt>15</dt>\n",
       "\t\t<dd>2</dd>\n",
       "\t<dt>16</dt>\n",
       "\t\t<dd>2</dd>\n",
       "\t<dt>17</dt>\n",
       "\t\t<dd>2</dd>\n",
       "\t<dt>18</dt>\n",
       "\t\t<dd>2</dd>\n",
       "\t<dt>19</dt>\n",
       "\t\t<dd>2</dd>\n",
       "\t<dt>20</dt>\n",
       "\t\t<dd>3</dd>\n",
       "\t<dt>21</dt>\n",
       "\t\t<dd>2</dd>\n",
       "\t<dt>22</dt>\n",
       "\t\t<dd>2</dd>\n",
       "\t<dt>23</dt>\n",
       "\t\t<dd>2</dd>\n",
       "\t<dt>24</dt>\n",
       "\t\t<dd>5</dd>\n",
       "\t<dt>25</dt>\n",
       "\t\t<dd>3</dd>\n",
       "\t<dt>26</dt>\n",
       "\t\t<dd>3</dd>\n",
       "\t<dt>27</dt>\n",
       "\t\t<dd>2</dd>\n",
       "\t<dt>28</dt>\n",
       "\t\t<dd>4</dd>\n",
       "\t<dt>29</dt>\n",
       "\t\t<dd>3</dd>\n",
       "\t<dt>30</dt>\n",
       "\t\t<dd>4</dd>\n",
       "\t<dt>31</dt>\n",
       "\t\t<dd>4</dd>\n",
       "\t<dt>32</dt>\n",
       "\t\t<dd>6</dd>\n",
       "\t<dt>33</dt>\n",
       "\t\t<dd>12</dd>\n",
       "\t<dt>34</dt>\n",
       "\t\t<dd>17</dd>\n",
       "</dl>\n"
      ],
      "text/latex": [
       "\\begin{description*}\n",
       "\\item[1] 16\n",
       "\\item[2] 9\n",
       "\\item[3] 10\n",
       "\\item[4] 6\n",
       "\\item[5] 3\n",
       "\\item[6] 4\n",
       "\\item[7] 4\n",
       "\\item[8] 4\n",
       "\\item[9] 5\n",
       "\\item[10] 2\n",
       "\\item[11] 3\n",
       "\\item[12] 1\n",
       "\\item[13] 2\n",
       "\\item[14] 5\n",
       "\\item[15] 2\n",
       "\\item[16] 2\n",
       "\\item[17] 2\n",
       "\\item[18] 2\n",
       "\\item[19] 2\n",
       "\\item[20] 3\n",
       "\\item[21] 2\n",
       "\\item[22] 2\n",
       "\\item[23] 2\n",
       "\\item[24] 5\n",
       "\\item[25] 3\n",
       "\\item[26] 3\n",
       "\\item[27] 2\n",
       "\\item[28] 4\n",
       "\\item[29] 3\n",
       "\\item[30] 4\n",
       "\\item[31] 4\n",
       "\\item[32] 6\n",
       "\\item[33] 12\n",
       "\\item[34] 17\n",
       "\\end{description*}\n"
      ],
      "text/markdown": [
       "1\n",
       ":   162\n",
       ":   93\n",
       ":   104\n",
       ":   65\n",
       ":   36\n",
       ":   47\n",
       ":   48\n",
       ":   49\n",
       ":   510\n",
       ":   211\n",
       ":   312\n",
       ":   113\n",
       ":   214\n",
       ":   515\n",
       ":   216\n",
       ":   217\n",
       ":   218\n",
       ":   219\n",
       ":   220\n",
       ":   321\n",
       ":   222\n",
       ":   223\n",
       ":   224\n",
       ":   525\n",
       ":   326\n",
       ":   327\n",
       ":   228\n",
       ":   429\n",
       ":   330\n",
       ":   431\n",
       ":   432\n",
       ":   633\n",
       ":   1234\n",
       ":   17\n",
       "\n"
      ],
      "text/plain": [
       " 1  2  3  4  5  6  7  8  9 10 11 12 13 14 15 16 17 18 19 20 21 22 23 24 25 26 \n",
       "16  9 10  6  3  4  4  4  5  2  3  1  2  5  2  2  2  2  2  3  2  2  2  5  3  3 \n",
       "27 28 29 30 31 32 33 34 \n",
       " 2  4  3  4  4  6 12 17 "
      ]
     },
     "metadata": {},
     "output_type": "display_data"
    }
   ],
   "source": [
    "degree(g)"
   ]
  },
  {
   "cell_type": "code",
   "execution_count": null,
   "metadata": {
    "collapsed": true
   },
   "outputs": [],
   "source": []
  }
 ],
 "metadata": {
  "anaconda-cloud": {},
  "kernelspec": {
   "display_name": "R",
   "language": "R",
   "name": "ir"
  },
  "language_info": {
   "codemirror_mode": "r",
   "file_extension": ".r",
   "mimetype": "text/x-r-source",
   "name": "R",
   "pygments_lexer": "r",
   "version": "3.3.2"
  }
 },
 "nbformat": 4,
 "nbformat_minor": 2
}
