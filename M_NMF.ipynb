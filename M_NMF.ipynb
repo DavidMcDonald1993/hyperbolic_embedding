{
 "cells": [
  {
   "cell_type": "code",
   "execution_count": 3,
   "metadata": {
    "collapsed": false
   },
   "outputs": [],
   "source": [
    "from __future__ import division\n",
    "\n",
    "import numpy as np\n",
    "import networkx as nx\n",
    "\n",
    "from sklearn.metrics import pairwise_distances"
   ]
  },
  {
   "cell_type": "code",
   "execution_count": 4,
   "metadata": {
    "collapsed": false
   },
   "outputs": [
    {
     "name": "stdout",
     "output_type": "stream",
     "text": [
      "dolphins_labelled.gml\r\n",
      "embedded_ccsb.gml\r\n",
      "embedded_collins.gml\r\n",
      "embedded_dolphin.gml\r\n",
      "embedded_florentine_families.gml\r\n",
      "embedded_football.gml\r\n",
      "embedded_hi_ii_14.gml\r\n",
      "embedded_ito_core.gml\r\n",
      "embedded_karate.gml\r\n",
      "embedded_lc_multiple.gml\r\n",
      "embedded_network_69.gml\r\n",
      "embedded_polbooks.gml\r\n",
      "embedded_pollbooks.gml\r\n",
      "embedded_yeast_reactome.gml\r\n",
      "embedded_yeast_uetz.gml\r\n",
      "embedded_yeast_uetz_rel.gml\r\n",
      "embedded_yeast_uetz_wang.gml\r\n",
      "embedded_yeast_union.gml\r\n",
      "embedded_yeast_union_rel.gml\r\n",
      "football.gml\r\n",
      "polbooks.gml\r\n"
     ]
    }
   ],
   "source": [
    "!ls | grep gml"
   ]
  },
  {
   "cell_type": "code",
   "execution_count": 284,
   "metadata": {
    "collapsed": false
   },
   "outputs": [],
   "source": [
    "# start with karate club graph\n",
    "G = nx.karate_club_graph()\n",
    "# G = nx.read_gml(\"dolphins_labelled.gml\")\n",
    "# G = nx.read_edgelist(\"reactome_edgelist.txt\")\n",
    "G = max(nx.connected_component_subgraphs(G), key=len)"
   ]
  },
  {
   "cell_type": "code",
   "execution_count": 285,
   "metadata": {
    "collapsed": true
   },
   "outputs": [],
   "source": [
    "# parameters \n",
    "eta = 5\n",
    "alpha = 1e0\n",
    "beta = 1e0\n",
    "lam = 1e8\n",
    "\n",
    "eps = 1e-8\n",
    "\n",
    "# dimension of embedding\n",
    "m = 10\n",
    "\n",
    "# number of communities\n",
    "k = 50"
   ]
  },
  {
   "cell_type": "code",
   "execution_count": 286,
   "metadata": {
    "collapsed": false
   },
   "outputs": [],
   "source": [
    "# a priori information about network\n",
    "\n",
    "# number of nodes\n",
    "N = nx.number_of_nodes(G)\n",
    "\n",
    "# number of edges\n",
    "e = nx.number_of_edges(G)\n",
    "\n",
    "# adjacency matrix\n",
    "A = np.array(nx.adjacency_matrix(G).todense())\n",
    "\n",
    "# node degrees\n",
    "degrees = nx.degree(G).values()\n",
    "\n",
    "# first order similarity\n",
    "S1 = A\n",
    "\n",
    "#second order similarity\n",
    "S2 = 1 - pairwise_distances(A, metric=\"cosine\")\n",
    "\n",
    "# similarity matrix \n",
    "S = S1 + eta * S2\n",
    "\n",
    "# modularity matrix\n",
    "B1 = np.array([[(degrees[i] * degrees[j]) / (2 * e) for j in range(N)] for i in range(N)])\n",
    "B = A - B1"
   ]
  },
  {
   "cell_type": "code",
   "execution_count": 293,
   "metadata": {
    "collapsed": false
   },
   "outputs": [],
   "source": [
    "# initialise matrices \n",
    "\n",
    "w = 1e0\n",
    "\n",
    "# basis matrix\n",
    "M = np.random.rand(N, m) * w\n",
    "\n",
    "# representation matrix\n",
    "U = np.random.rand(N, m) * w\n",
    "\n",
    "# community membership matrix\n",
    "H = np.random.rand(N, k) * w\n",
    "\n",
    "# community representation matrix \n",
    "C = np.random.rand(k, m) * w"
   ]
  },
  {
   "cell_type": "code",
   "execution_count": 294,
   "metadata": {
    "collapsed": false
   },
   "outputs": [],
   "source": [
    "# parameter updates\n",
    "\n",
    "num_iter = 1000\n",
    "\n",
    "similarities = np.zeros(num_iter)\n",
    "communities = np.zeros(num_iter)\n",
    "modularities = np.zeros(num_iter)\n",
    "scores = np.zeros(num_iter)\n",
    "\n",
    "for i in range(num_iter):\n",
    "    \n",
    "    # update M\n",
    "    M = M * np.dot(S, U) / (np.dot(np.dot(M, U.T), U) + eps)\n",
    "    \n",
    "    if np.any(M < 0):\n",
    "        print \"M is negative\"\n",
    "        break\n",
    "    \n",
    "    if np.isnan(M).any():\n",
    "        print \"M IS NAN\"\n",
    "        break\n",
    "    \n",
    "    # update U\n",
    "    U = U * np.transpose( (np.dot(M.T, S) + alpha * np.dot(C.T, H.T)) / \\\n",
    "                 (np.dot( (np.dot(M.T, M) + alpha * (np.dot(C.T, C))), U.T) + eps) )\n",
    "    \n",
    "    if np.any(U < 0):\n",
    "        print \"U is negative\"\n",
    "#         U[U < 0] = 0 \n",
    "        break\n",
    "    \n",
    "    if np.isnan(U).any():\n",
    "        print \"U IS NAN\"\n",
    "        break\n",
    "        \n",
    "    # update C\n",
    "    C = C * np.dot(H.T, U) / (np.dot(np.dot(C, U.T), U) + eps)\n",
    "    \n",
    "    if np.any(C < 0):\n",
    "        print \"C is negative\"\n",
    "        break\n",
    "    \n",
    "    if np.isnan(C).any():\n",
    "        print \"C IS NAN\"\n",
    "        break\n",
    "    \n",
    "    # update H\n",
    "    delta = 2 * beta * np.dot(B1, H) * np.dot(B1, H) + 16 * lam * np.dot(np.dot(H, H.T), H) * \\\n",
    "            (2 * beta * np.dot(A, H) + 2 * alpha * np.dot(U, C.T) + (4 * lam - 2 * alpha) * H)\n",
    "    \n",
    "    if np.any(delta) < 0:\n",
    "        print \"delta is negative\"\n",
    "        break\n",
    "    \n",
    "    if np.isnan(delta).any():\n",
    "        print \"delta IS NAN\"\n",
    "        break\n",
    "        \n",
    "    if np.isinf(delta).any():\n",
    "        print \"delta is inf\"\n",
    "        break\n",
    "        \n",
    "    # before square root    \n",
    "    h = (-2 * beta * np.dot(B1, H) + np.sqrt(delta)) / \\\n",
    "                    (8 * lam * np.dot(np.dot(H, H.T), H) + eps)\n",
    "        \n",
    "    if np.any(h < 0):\n",
    "#         print \"negative before square root\"\n",
    "        h[h < 0] = 0\n",
    "#         print delta\n",
    "#         print \n",
    "#         print -2 * beta * B1.dot(H)\n",
    "#         print \n",
    "#         print -2 * beta * np.dot(B1, H) + np.sqrt(delta)\n",
    "#         break\n",
    "    \n",
    "    H = H * np.sqrt(h)\n",
    "    \n",
    "    if np.any(H < 0):\n",
    "        print \"H is negative\"\n",
    "        break\n",
    "    \n",
    "    if np.isnan(H).any():\n",
    "        print \"H IS NAN\"\n",
    "        break\n",
    "        \n",
    "#     print np.linalg.norm(M)\n",
    "#     print np.linalg.norm(U)\n",
    "#     print np.linalg.norm(C)\n",
    "#     print np.linalg.norm(H)\n",
    "    \n",
    "    # estimate quality of embedding\n",
    "#     print \"iteration={}\".format(i)\n",
    "\n",
    "    similarity = np.linalg.norm(S - np.dot(M, U.T), ord=\"fro\") ** 2\n",
    "    similarities[i] = similarity\n",
    "#     print \"similarity={}\".format(similarity)\n",
    "\n",
    "    community = alpha * np.linalg.norm(H - np.dot(U, C.T), ord=\"fro\") ** 2\n",
    "    communities[i] = community\n",
    "#     print \"community={}\".format(community)\n",
    "\n",
    "    Q = - beta * np.trace(np.dot(np.dot(H.T, B), H))\n",
    "    modularities[i] = Q\n",
    "#     print \"modularity={}\".format(Q)\n",
    "\n",
    "    f = similarity + community + Q    \n",
    "    scores[i] = f\n",
    "#     print \"f={}\".format(f)\n",
    "#     print\n",
    "\n",
    "    "
   ]
  },
  {
   "cell_type": "code",
   "execution_count": 295,
   "metadata": {
    "collapsed": true
   },
   "outputs": [],
   "source": [
    "%matplotlib inline\n",
    "import matplotlib.pyplot as plt"
   ]
  },
  {
   "cell_type": "code",
   "execution_count": 296,
   "metadata": {
    "collapsed": false
   },
   "outputs": [
    {
     "name": "stdout",
     "output_type": "stream",
     "text": [
      "3460.894322\n",
      "88.6113004534\n"
     ]
    }
   ],
   "source": [
    "print scores[0]\n",
    "print scores[-1]"
   ]
  },
  {
   "cell_type": "code",
   "execution_count": 297,
   "metadata": {
    "collapsed": false
   },
   "outputs": [
    {
     "data": {
      "text/plain": [
       "[<matplotlib.lines.Line2D at 0x7f3c6661efd0>]"
      ]
     },
     "execution_count": 297,
     "metadata": {},
     "output_type": "execute_result"
    },
    {
     "data": {
      "image/png": "[encoded data removed]",
      "text/plain": [
       "<matplotlib.figure.Figure at 0x7f3c96d8e310>"
      ]
     },
     "metadata": {},
     "output_type": "display_data"
    }
   ],
   "source": [
    "plt.plot(range(num_iter), similarities)\n",
    "plt.plot(range(num_iter), communities)\n",
    "plt.plot(range(num_iter), modularities)\n",
    "plt.plot(range(num_iter), scores)"
   ]
  },
  {
   "cell_type": "code",
   "execution_count": 298,
   "metadata": {
    "collapsed": false,
    "scrolled": false
   },
   "outputs": [
    {
     "data": {
      "text/plain": [
       "<matplotlib.collections.PathCollection at 0x7f3c88840f90>"
      ]
     },
     "execution_count": 298,
     "metadata": {},
     "output_type": "execute_result"
    },
    {
     "data": {
      "image/png": "[encoded data removed]",
      "text/plain": [
       "<matplotlib.figure.Figure at 0x7f3c846730d0>"
      ]
     },
     "metadata": {},
     "output_type": "display_data"
    }
   ],
   "source": [
    "fig, ax = plt.subplots(figsize=(15, 15))\n",
    "\n",
    "# nodes = np.array(G.nodes())\n",
    "\n",
    "# # for x, y, n in zip(U[:,0], U[:,1], G.nodes()):\n",
    "# #     ax.annotate(n, xy = (x, y), xytext=(x, y))\n",
    "# # for n1, n2 in G.edges():\n",
    "# #     i, = np.where(nodes == n1)\n",
    "# #     j, = np.where(nodes == n2)\n",
    "# #     ax.plot(U[(i, j), 0], U[(i, j), 1], c=\"k\")\n",
    "\n",
    "ax.scatter(U[:,0], U[:,1])    "
   ]
  },
  {
   "cell_type": "code",
   "execution_count": 299,
   "metadata": {
    "collapsed": true
   },
   "outputs": [],
   "source": [
    "D = pairwise_distances(U)"
   ]
  },
  {
   "cell_type": "code",
   "execution_count": 300,
   "metadata": {
    "collapsed": false
   },
   "outputs": [
    {
     "data": {
      "text/plain": [
       "<matplotlib.text.Text at 0x7f3c8469d490>"
      ]
     },
     "execution_count": 300,
     "metadata": {},
     "output_type": "execute_result"
    },
    {
     "data": {
      "image/png": "[encoded data removed]",
      "text/plain": [
       "<matplotlib.figure.Figure at 0x7f3c72de1490>"
      ]
     },
     "metadata": {},
     "output_type": "display_data"
    }
   ],
   "source": [
    "fig, ax = plt.subplots(figsize=(15, 15))\n",
    "\n",
    "ax.scatter(S[0], D[0])\n",
    "plt.xlabel(\"Similarity\")\n",
    "plt.ylabel(\"Distance\")"
   ]
  },
  {
   "cell_type": "code",
   "execution_count": 301,
   "metadata": {
    "collapsed": false
   },
   "outputs": [
    {
     "data": {
      "text/plain": [
       "-0.94245834741338252"
      ]
     },
     "execution_count": 301,
     "metadata": {},
     "output_type": "execute_result"
    }
   ],
   "source": [
    "from scipy.stats import pearsonr\n",
    "\n",
    "np.array([pearsonr(S[i], D[i])[0] for i in range(len(S))]).mean()"
   ]
  },
  {
   "cell_type": "code",
   "execution_count": 302,
   "metadata": {
    "collapsed": false
   },
   "outputs": [],
   "source": [
    "from sklearn.cluster import KMeans"
   ]
  },
  {
   "cell_type": "code",
   "execution_count": 303,
   "metadata": {
    "collapsed": true
   },
   "outputs": [],
   "source": [
    "kmeans = KMeans(n_clusters=2, max_iter=10000)"
   ]
  },
  {
   "cell_type": "code",
   "execution_count": 304,
   "metadata": {
    "collapsed": false
   },
   "outputs": [
    {
     "data": {
      "text/plain": [
       "KMeans(algorithm='auto', copy_x=True, init='k-means++', max_iter=10000,\n",
       "    n_clusters=2, n_init=10, n_jobs=1, precompute_distances='auto',\n",
       "    random_state=None, tol=0.0001, verbose=0)"
      ]
     },
     "execution_count": 304,
     "metadata": {},
     "output_type": "execute_result"
    }
   ],
   "source": [
    "kmeans.fit(U)"
   ]
  },
  {
   "cell_type": "code",
   "execution_count": 305,
   "metadata": {
    "collapsed": false
   },
   "outputs": [],
   "source": [
    "kmeans_pred = kmeans.predict(U)"
   ]
  },
  {
   "cell_type": "code",
   "execution_count": 309,
   "metadata": {
    "collapsed": false
   },
   "outputs": [],
   "source": [
    "true_labels = nx.get_node_attributes(G, \"club\").values()"
   ]
  },
  {
   "cell_type": "code",
   "execution_count": 310,
   "metadata": {
    "collapsed": true
   },
   "outputs": [],
   "source": [
    "from sklearn.metrics import normalized_mutual_info_score"
   ]
  },
  {
   "cell_type": "code",
   "execution_count": 311,
   "metadata": {
    "collapsed": false
   },
   "outputs": [
    {
     "data": {
      "text/plain": [
       "0.83717011721869428"
      ]
     },
     "execution_count": 311,
     "metadata": {},
     "output_type": "execute_result"
    }
   ],
   "source": [
    "normalized_mutual_info_score(true_labels, kmeans_pred)"
   ]
  },
  {
   "cell_type": "code",
   "execution_count": null,
   "metadata": {
    "collapsed": true
   },
   "outputs": [],
   "source": []
  }
 ],
 "metadata": {
  "anaconda-cloud": {},
  "kernelspec": {
   "display_name": "Python [default]",
   "language": "python",
   "name": "python2"
  },
  "language_info": {
   "codemirror_mode": {
    "name": "ipython",
    "version": 2
   },
   "file_extension": ".py",
   "mimetype": "text/x-python",
   "name": "python",
   "nbconvert_exporter": "python",
   "pygments_lexer": "ipython2",
   "version": "2.7.13"
  }
 },
 "nbformat": 4,
 "nbformat_minor": 2
}
