{
 "cells": [
  {
   "cell_type": "code",
   "execution_count": 1,
   "metadata": {
    "collapsed": false
   },
   "outputs": [
    {
     "name": "stderr",
     "output_type": "stream",
     "text": [
      "Using Theano backend.\n",
      "Using cuDNN version 5110 on context None\n",
      "Mapped name None to device cuda: GeForce GT 650M (0000:01:00.0)\n"
     ]
    },
    {
     "ename": "IndexError",
     "evalue": "only integers, slices (`:`), ellipsis (`...`), numpy.newaxis (`None`) and integer or boolean arrays are valid indices",
     "output_type": "error",
     "traceback": [
      "\u001b[0;31m---------------------------------------------------------------------------\u001b[0m",
      "\u001b[0;31mIndexError\u001b[0m                                Traceback (most recent call last)",
      "\u001b[0;32m<ipython-input-1-829006ed4db2>\u001b[0m in \u001b[0;36m<module>\u001b[0;34m()\u001b[0m\n\u001b[1;32m     33\u001b[0m \u001b[0;34m\u001b[0m\u001b[0m\n\u001b[1;32m     34\u001b[0m \u001b[0;31m# Learn embedding - accepts a networkx graph or file with edge list\u001b[0m\u001b[0;34m\u001b[0m\u001b[0;34m\u001b[0m\u001b[0m\n\u001b[0;32m---> 35\u001b[0;31m \u001b[0mY\u001b[0m\u001b[0;34m,\u001b[0m \u001b[0mt\u001b[0m \u001b[0;34m=\u001b[0m \u001b[0msdne\u001b[0m\u001b[0;34m.\u001b[0m\u001b[0mlearn_embedding\u001b[0m\u001b[0;34m(\u001b[0m\u001b[0mG\u001b[0m\u001b[0;34m,\u001b[0m \u001b[0medge_f\u001b[0m\u001b[0;34m=\u001b[0m\u001b[0mNone\u001b[0m\u001b[0;34m,\u001b[0m \u001b[0mis_weighted\u001b[0m\u001b[0;34m=\u001b[0m\u001b[0mTrue\u001b[0m\u001b[0;34m,\u001b[0m \u001b[0mno_python\u001b[0m\u001b[0;34m=\u001b[0m\u001b[0mTrue\u001b[0m\u001b[0;34m)\u001b[0m\u001b[0;34m\u001b[0m\u001b[0m\n\u001b[0m",
      "\u001b[0;32m/home/david/miniconda2/lib/python2.7/site-packages/gem/embedding/sdne.pyc\u001b[0m in \u001b[0;36mlearn_embedding\u001b[0;34m(self, graph, edge_f, is_weighted, no_python)\u001b[0m\n\u001b[1;32m     94\u001b[0m                         \u001b[0mS\u001b[0m \u001b[0;34m=\u001b[0m \u001b[0mgraph_util\u001b[0m\u001b[0;34m.\u001b[0m\u001b[0mrandwalk_DiGraph_to_adj\u001b[0m\u001b[0;34m(\u001b[0m\u001b[0mgraph\u001b[0m\u001b[0;34m,\u001b[0m \u001b[0mnode_frac\u001b[0m\u001b[0;34m=\u001b[0m\u001b[0mself\u001b[0m\u001b[0;34m.\u001b[0m\u001b[0m_node_frac\u001b[0m\u001b[0;34m,\u001b[0m \u001b[0mn_walks_per_node\u001b[0m\u001b[0;34m=\u001b[0m\u001b[0mself\u001b[0m\u001b[0;34m.\u001b[0m\u001b[0m_n_walks_per_node\u001b[0m\u001b[0;34m,\u001b[0m \u001b[0mlen_rw\u001b[0m\u001b[0;34m=\u001b[0m\u001b[0mself\u001b[0m\u001b[0;34m.\u001b[0m\u001b[0m_len_rw\u001b[0m\u001b[0;34m)\u001b[0m\u001b[0;34m\u001b[0m\u001b[0m\n\u001b[1;32m     95\u001b[0m                 \u001b[0;32melse\u001b[0m\u001b[0;34m:\u001b[0m\u001b[0;34m\u001b[0m\u001b[0m\n\u001b[0;32m---> 96\u001b[0;31m                         \u001b[0mS\u001b[0m \u001b[0;34m=\u001b[0m \u001b[0mgraph_util\u001b[0m\u001b[0;34m.\u001b[0m\u001b[0mtransform_DiGraph_to_adj\u001b[0m\u001b[0;34m(\u001b[0m\u001b[0mgraph\u001b[0m\u001b[0;34m)\u001b[0m\u001b[0;34m\u001b[0m\u001b[0m\n\u001b[0m\u001b[1;32m     97\u001b[0m                 \u001b[0;32mif\u001b[0m \u001b[0;32mnot\u001b[0m \u001b[0mnp\u001b[0m\u001b[0;34m.\u001b[0m\u001b[0mallclose\u001b[0m\u001b[0;34m(\u001b[0m\u001b[0mS\u001b[0m\u001b[0;34m.\u001b[0m\u001b[0mT\u001b[0m\u001b[0;34m,\u001b[0m \u001b[0mS\u001b[0m\u001b[0;34m)\u001b[0m\u001b[0;34m:\u001b[0m\u001b[0;34m\u001b[0m\u001b[0m\n\u001b[1;32m     98\u001b[0m                         \u001b[0;32mprint\u001b[0m \u001b[0;34m\"SDNE only works for symmetric graphs! Making the graph symmetric\"\u001b[0m\u001b[0;34m\u001b[0m\u001b[0m\n",
      "\u001b[0;32m/home/david/miniconda2/lib/python2.7/site-packages/gem/utils/graph_util.pyc\u001b[0m in \u001b[0;36mtransform_DiGraph_to_adj\u001b[0;34m(di_graph)\u001b[0m\n\u001b[1;32m     11\u001b[0m     \u001b[0madj\u001b[0m \u001b[0;34m=\u001b[0m \u001b[0mnp\u001b[0m\u001b[0;34m.\u001b[0m\u001b[0mzeros\u001b[0m\u001b[0;34m(\u001b[0m\u001b[0;34m(\u001b[0m\u001b[0mn\u001b[0m \u001b[0;34m,\u001b[0m\u001b[0mn\u001b[0m\u001b[0;34m)\u001b[0m\u001b[0;34m)\u001b[0m\u001b[0;34m\u001b[0m\u001b[0m\n\u001b[1;32m     12\u001b[0m     \u001b[0;32mfor\u001b[0m \u001b[0mst\u001b[0m\u001b[0;34m,\u001b[0m \u001b[0med\u001b[0m\u001b[0;34m,\u001b[0m \u001b[0mw\u001b[0m \u001b[0;32min\u001b[0m \u001b[0mdi_graph\u001b[0m\u001b[0;34m.\u001b[0m\u001b[0medges_iter\u001b[0m\u001b[0;34m(\u001b[0m\u001b[0mdata\u001b[0m\u001b[0;34m=\u001b[0m\u001b[0;34m'weight'\u001b[0m\u001b[0;34m,\u001b[0m \u001b[0mdefault\u001b[0m\u001b[0;34m=\u001b[0m\u001b[0;36m1\u001b[0m\u001b[0;34m)\u001b[0m\u001b[0;34m:\u001b[0m\u001b[0;34m\u001b[0m\u001b[0m\n\u001b[0;32m---> 13\u001b[0;31m         \u001b[0madj\u001b[0m\u001b[0;34m[\u001b[0m\u001b[0mst\u001b[0m\u001b[0;34m,\u001b[0m \u001b[0med\u001b[0m\u001b[0;34m]\u001b[0m \u001b[0;34m=\u001b[0m \u001b[0mw\u001b[0m\u001b[0;34m\u001b[0m\u001b[0m\n\u001b[0m\u001b[1;32m     14\u001b[0m     \u001b[0;32mreturn\u001b[0m \u001b[0madj\u001b[0m\u001b[0;34m\u001b[0m\u001b[0m\n\u001b[1;32m     15\u001b[0m \u001b[0;34m\u001b[0m\u001b[0m\n",
      "\u001b[0;31mIndexError\u001b[0m: only integers, slices (`:`), ellipsis (`...`), numpy.newaxis (`None`) and integer or boolean arrays are valid indices"
     ]
    }
   ],
   "source": [
    "import numpy as np\n",
    "import networkx as nx\n",
    "\n",
    "from sklearn.metrics.pairwise import cosine_similarity\n",
    "\n",
    "from gem.embedding.sdne import SDNE\n",
    "from gem.evaluation import evaluate_graph_reconstruction as gr\n",
    "from gem.utils import graph_util\n",
    "\n",
    "# Instatiate the embedding method with hyperparameters\n",
    "sdne = SDNE(d=2, beta=1, alpha=1e-2, nu1=1e-3, nu2=1e-3, K=2, n_units=[256,],\n",
    "            rho=0.3, n_iter=500, xeta=0.01, n_batch=500)\n",
    "\n",
    "# Load graph\n",
    "# G = graph_util.loadGraph('gem/data/karate.edgelist')\n",
    "# G = nx.karate_club_graph().to_directed()\n",
    "# G = nx.read_gml(\"embedded_football.gml\").to_directed()\n",
    "G = nx.read_edgelist(\"Uetz_screen.txt\")\n",
    "G = max(nx.connected_component_subgraphs(G), key=len).to_directed()\n",
    "\n",
    "# second level similarity\n",
    "S1 = np.array(nx.adj_matrix(G).todense())\n",
    "S2 = cosine_similarity(S1)\n",
    "\n",
    "# similarity matrix (for weights)\n",
    "S = S1 + 5 * S2\n",
    "\n",
    "nodes = np.array(G.nodes())\n",
    "weights = {(u, v): S[np.where(nodes==u)[0], np.where(nodes==v)[0]][0] for u, v in G.edges()}\n",
    "\n",
    "# set weights \n",
    "nx.set_edge_attributes(G, \"weight\", weights)\n",
    "\n",
    "# Learn embedding - accepts a networkx graph or file with edge list\n",
    "Y, t = sdne.learn_embedding(G, edge_f=None, is_weighted=True, no_python=True)"
   ]
  },
  {
   "cell_type": "code",
   "execution_count": 3,
   "metadata": {
    "collapsed": true
   },
   "outputs": [],
   "source": [
    "%matplotlib inline\n",
    "import matplotlib.pyplot as plt"
   ]
  },
  {
   "cell_type": "code",
   "execution_count": 7,
   "metadata": {
    "collapsed": false
   },
   "outputs": [
    {
     "data": {
      "text/plain": [
       "[]"
      ]
     },
     "execution_count": 7,
     "metadata": {},
     "output_type": "execute_result"
    }
   ],
   "source": [
    "nx.get_node_attributes(G, \"value\").values()"
   ]
  },
  {
   "cell_type": "code",
   "execution_count": 6,
   "metadata": {
    "collapsed": false
   },
   "outputs": [
    {
     "data": {
      "text/plain": [
       "<matplotlib.collections.PathCollection at 0x7fcbba91e3d0>"
      ]
     },
     "execution_count": 6,
     "metadata": {},
     "output_type": "execute_result"
    },
    {
     "data": {
      "image/png": "[encoded data removed]",
      "text/plain": [
       "<matplotlib.figure.Figure at 0x7fcbd2f1eb90>"
      ]
     },
     "metadata": {},
     "output_type": "display_data"
    }
   ],
   "source": [
    "plt.figure(figsize=(15, 15))\n",
    "plt.scatter(Y[:, 0], Y[:, 1], c=nx.get_node_attributes(G, \"value\").values(), s=100)"
   ]
  },
  {
   "cell_type": "code",
   "execution_count": 5,
   "metadata": {
    "collapsed": false
   },
   "outputs": [
    {
     "data": {
      "text/plain": [
       "array([[ 4.81299925,  0.        ],\n",
       "       [ 1.73837757,  0.86083335],\n",
       "       [ 2.33675408,  0.09888738],\n",
       "       [ 2.07140088,  0.        ],\n",
       "       [ 5.40715742,  1.58188295],\n",
       "       [ 6.50428152,  1.82144618],\n",
       "       [ 7.9725318 ,  3.84966159],\n",
       "       [ 2.34346724,  0.        ],\n",
       "       [ 4.2549448 ,  5.81600094],\n",
       "       [ 1.98856163,  1.8730669 ],\n",
       "       [ 6.90420008,  3.93155503],\n",
       "       [ 2.50305939,  1.6094296 ],\n",
       "       [ 2.59698772,  1.29181814],\n",
       "       [ 2.27787876,  0.        ],\n",
       "       [ 3.38684726,  3.79058647],\n",
       "       [ 3.38684726,  3.79058647],\n",
       "       [ 5.49062109,  3.05879045],\n",
       "       [ 2.82154584,  0.45121461],\n",
       "       [ 3.38684726,  3.79058647],\n",
       "       [ 2.86706638,  0.60937577],\n",
       "       [ 3.38684726,  3.79058647],\n",
       "       [ 2.82154584,  0.45121461],\n",
       "       [ 3.38684726,  3.79058647],\n",
       "       [ 2.18509722,  4.07235289],\n",
       "       [ 0.        ,  1.55830491],\n",
       "       [ 0.49462795,  1.58149409],\n",
       "       [ 2.60974503,  2.75327921],\n",
       "       [ 1.18003464,  2.32143855],\n",
       "       [ 0.97961146,  1.5525372 ],\n",
       "       [ 1.06397426,  3.82296777],\n",
       "       [ 3.40573525,  3.93208051],\n",
       "       [ 1.77046871,  3.16165423],\n",
       "       [ 1.78562891,  6.17134666],\n",
       "       [ 0.        ,  5.24976826]], dtype=float32)"
      ]
     },
     "execution_count": 5,
     "metadata": {},
     "output_type": "execute_result"
    }
   ],
   "source": [
    "Y"
   ]
  },
  {
   "cell_type": "code",
   "execution_count": null,
   "metadata": {
    "collapsed": true
   },
   "outputs": [],
   "source": []
  }
 ],
 "metadata": {
  "anaconda-cloud": {},
  "kernelspec": {
   "display_name": "Python [default]",
   "language": "python",
   "name": "python2"
  },
  "language_info": {
   "codemirror_mode": {
    "name": "ipython",
    "version": 2
   },
   "file_extension": ".py",
   "mimetype": "text/x-python",
   "name": "python",
   "nbconvert_exporter": "python",
   "pygments_lexer": "ipython2",
   "version": "2.7.13"
  }
 },
 "nbformat": 4,
 "nbformat_minor": 2
}
