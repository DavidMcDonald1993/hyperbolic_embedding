{
 "cells": [
  {
   "cell_type": "code",
   "execution_count": 1,
   "metadata": {
    "collapsed": false
   },
   "outputs": [
    {
     "name": "stderr",
     "output_type": "stream",
     "text": [
      "\n",
      "Attaching package: ‘igraph’\n",
      "\n",
      "The following objects are masked from ‘package:stats’:\n",
      "\n",
      "    decompose, spectrum\n",
      "\n",
      "The following object is masked from ‘package:base’:\n",
      "\n",
      "    union\n",
      "\n"
     ]
    }
   ],
   "source": [
    "library(igraph)"
   ]
  },
  {
   "cell_type": "code",
   "execution_count": 22,
   "metadata": {
    "collapsed": true
   },
   "outputs": [],
   "source": [
    "G <- as.undirected(read.graph(\"galFiltered.gml\", \"gml\"))"
   ]
  },
  {
   "cell_type": "code",
   "execution_count": 3,
   "metadata": {
    "collapsed": true
   },
   "outputs": [],
   "source": [
    "expressions <- read.table(\"galExpData.csv\", sep = \",\", header = T)\n",
    "\n",
    "p_values <- expressions[,\"gal1RGsig\"]\n",
    "names(p_values) <- expressions[,\"GENE\"]\n",
    "\n",
    "z_score <- qnorm(1 - p_values)\n",
    "\n",
    "genes <- V(G)$label[V(G)$label%in%names(z_score)]\n",
    "\n",
    "z_score <- z_score[genes]"
   ]
  },
  {
   "cell_type": "code",
   "execution_count": 4,
   "metadata": {
    "collapsed": false
   },
   "outputs": [],
   "source": [
    "z_m <- z_score %*% t(z_score)\n",
    "rownames(z_m) <- colnames(z_m)"
   ]
  },
  {
   "cell_type": "code",
   "execution_count": 5,
   "metadata": {
    "collapsed": false
   },
   "outputs": [],
   "source": [
    "exp_z <- exp(z_m)"
   ]
  },
  {
   "cell_type": "code",
   "execution_count": 6,
   "metadata": {
    "collapsed": false
   },
   "outputs": [],
   "source": [
    "exp_z <- exp_z / rowSums(exp_z)"
   ]
  },
  {
   "cell_type": "code",
   "execution_count": 23,
   "metadata": {
    "collapsed": true
   },
   "outputs": [],
   "source": [
    "A <- as_adjacency_matrix(G)"
   ]
  },
  {
   "cell_type": "code",
   "execution_count": 83,
   "metadata": {
    "collapsed": false
   },
   "outputs": [
    {
     "ename": "ERROR",
     "evalue": "Error: Matrices must have same dimensions in e1 + Matrix(e2)\n",
     "output_type": "error",
     "traceback": [
      "Error: Matrices must have same dimensions in e1 + Matrix(e2)\nTraceback:\n",
      "1. 0.4 * diag(nrow(A)) + 0.5 * A %*% diag(1/degree(G)) + 0.1 * t(exp_z)",
      "2. 0.4 * diag(nrow(A)) + 0.5 * A %*% diag(1/degree(G)) + 0.1 * t(exp_z)",
      "3. callGeneric(e1, Matrix(e2))",
      "4. eval(call, parent.frame())",
      "5. eval(expr, envir, enclos)",
      "6. e1 + Matrix(e2)",
      "7. e1 + Matrix(e2)",
      "8. dimCheck(e1, e2)",
      "9. stop(gettextf(\"Matrices must have same dimensions in %s\", deparse(sys.call(sys.parent()))), \n .     call. = FALSE, domain = NA)"
     ]
    }
   ],
   "source": [
    "W <- 0.4 * diag(nrow(A)) + 0.5 * A %*% diag(1/degree(G)) + 0.1 * t(exp_z)"
   ]
  },
  {
   "cell_type": "code",
   "execution_count": 40,
   "metadata": {
    "collapsed": true
   },
   "outputs": [],
   "source": [
    "matrix_multiply <- function(M, n) {\n",
    "    if (n==0) return(diag(nrow=nrow(M)))\n",
    "    return(M%*%matrix_multiply(M, n-1))\n",
    "}"
   ]
  },
  {
   "cell_type": "code",
   "execution_count": 41,
   "metadata": {
    "collapsed": false
   },
   "outputs": [],
   "source": [
    "T <- matrix_multiply(W, 5)"
   ]
  },
  {
   "cell_type": "code",
   "execution_count": 51,
   "metadata": {
    "collapsed": true
   },
   "outputs": [],
   "source": [
    "rownames(T) <- V(G)$label\n",
    "colnames(T) <- V(G)$label\n",
    "T <- T[rownames(exp_z), colnames(exp_z)]"
   ]
  },
  {
   "cell_type": "code",
   "execution_count": 72,
   "metadata": {
    "collapsed": true
   },
   "outputs": [],
   "source": [
    "lambda <- 0.5"
   ]
  },
  {
   "cell_type": "code",
   "execution_count": 73,
   "metadata": {
    "collapsed": false
   },
   "outputs": [],
   "source": [
    "TZ <- (1 - lambda) * T + lambda *  t(exp_z)"
   ]
  },
  {
   "cell_type": "code",
   "execution_count": 75,
   "metadata": {
    "collapsed": false
   },
   "outputs": [],
   "source": [
    "TZ <- TZ / colSums(as.matrix(TZ))"
   ]
  },
  {
   "cell_type": "code",
   "execution_count": 79,
   "metadata": {
    "collapsed": true
   },
   "outputs": [],
   "source": [
    "TZ <- t(as.matrix(TZ))"
   ]
  },
  {
   "cell_type": "code",
   "execution_count": 81,
   "metadata": {
    "collapsed": true
   },
   "outputs": [],
   "source": [
    "write.csv(TZ, file=\"lambda=05.csv\")"
   ]
  },
  {
   "cell_type": "code",
   "execution_count": null,
   "metadata": {
    "collapsed": true
   },
   "outputs": [],
   "source": []
  }
 ],
 "metadata": {
  "anaconda-cloud": {},
  "kernelspec": {
   "display_name": "R",
   "language": "R",
   "name": "ir"
  },
  "language_info": {
   "codemirror_mode": "r",
   "file_extension": ".r",
   "mimetype": "text/x-r-source",
   "name": "R",
   "pygments_lexer": "r",
   "version": "3.3.2"
  }
 },
 "nbformat": 4,
 "nbformat_minor": 2
}
