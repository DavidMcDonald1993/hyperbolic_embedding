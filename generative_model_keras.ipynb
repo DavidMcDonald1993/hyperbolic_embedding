{
 "cells": [
  {
   "cell_type": "code",
   "execution_count": 1,
   "metadata": {
    "collapsed": true
   },
   "outputs": [],
   "source": [
    "%matplotlib inline\n",
    "import matplotlib.pyplot as plt\n",
    "\n",
    "import numpy as np\n",
    "import networkx as nx\n",
    "import pandas as pd"
   ]
  },
  {
   "cell_type": "code",
   "execution_count": 2,
   "metadata": {
    "collapsed": true
   },
   "outputs": [],
   "source": [
    "# G = nx.read_edgelist(\"email-Eu-core.txt.gz\")\n",
    "G = nx.read_gml(\"ps_graph.gml\")\n",
    "# G = nx.read_gml(\"as-22july06.gml\")"
   ]
  },
  {
   "cell_type": "code",
   "execution_count": 3,
   "metadata": {
    "collapsed": true
   },
   "outputs": [],
   "source": [
    "# community_df = pd.read_csv(\"email-Eu-core-department-labels.txt.gz\", sep=\" \", index_col=0)\n",
    "# community_df.columns = [\"community\"]\n",
    "# community_df.index = [str(i) for i in community_df.index]\n",
    "# community_dict = community_df[\"community\"].to_dict()"
   ]
  },
  {
   "cell_type": "code",
   "execution_count": 4,
   "metadata": {
    "collapsed": true
   },
   "outputs": [],
   "source": [
    "# nx.set_node_attributes(G, \"community\", community_dict)"
   ]
  },
  {
   "cell_type": "code",
   "execution_count": 5,
   "metadata": {
    "collapsed": true
   },
   "outputs": [],
   "source": [
    "# nodes_to_keep = []\n",
    "# for n, d in G.nodes(data=True):\n",
    "    \n",
    "#     if \"community\" in d:\n",
    "#         nodes_to_keep.append(n)\n",
    "        \n",
    "# G = G.subgraph(nodes_to_keep)"
   ]
  },
  {
   "cell_type": "code",
   "execution_count": 6,
   "metadata": {
    "collapsed": true
   },
   "outputs": [],
   "source": [
    "G = max(nx.connected_component_subgraphs(G), key=len)"
   ]
  },
  {
   "cell_type": "code",
   "execution_count": 7,
   "metadata": {
    "collapsed": true
   },
   "outputs": [],
   "source": [
    "# communities = [G.node[str(n)][\"community\"] for n in sorted_nodes]"
   ]
  },
  {
   "cell_type": "code",
   "execution_count": 8,
   "metadata": {
    "collapsed": true
   },
   "outputs": [],
   "source": [
    "N = nx.number_of_nodes(G)"
   ]
  },
  {
   "cell_type": "code",
   "execution_count": 9,
   "metadata": {
    "collapsed": true
   },
   "outputs": [],
   "source": [
    "degrees = nx.degree(G)\n",
    "\n",
    "# sort keys into integer order\n",
    "sorted_nodes = np.array([int(n) for n in degrees.keys()])\n",
    "sorted_nodes.sort()\n",
    "\n",
    "# construct array of degrees in integer order of nodes\n",
    "degrees = np.array([degrees[int(n)] for n in sorted_nodes])\n",
    "degree_sort = degrees.argsort()[::-1]\n",
    "\n",
    "# when did each node appaear in the network (i)\n",
    "order_of_appearance = np.array([np.where(degree_sort==n)[0][0] + 1 for n in sorted_nodes])"
   ]
  },
  {
   "cell_type": "code",
   "execution_count": 10,
   "metadata": {},
   "outputs": [
    {
     "data": {
      "text/plain": [
       "array([ 1,  2,  4,  3,  7,  6,  9, 19,  5, 17])"
      ]
     },
     "execution_count": 10,
     "metadata": {},
     "output_type": "execute_result"
    }
   ],
   "source": [
    "# 4th node appeared 7th (starting from 1)\n",
    "order_of_appearance[:10]"
   ]
  },
  {
   "cell_type": "code",
   "execution_count": 11,
   "metadata": {
    "collapsed": true
   },
   "outputs": [],
   "source": [
    "polar_df = pd.read_csv(\"polar_coords.txt\", delimiter=\"\\t\")\n",
    "polar_coords = polar_df.values\n",
    "polar_coords = polar_coords[order_of_appearance-1]\n",
    "# true_coords = {n: {\"r\" : x[0], \"theta\" : x[1]} for n, x in zip(sorted_nodes, polar_coords)}\n",
    "R_true = polar_coords[:,0]\n",
    "thetas_true = polar_coords[:,1]"
   ]
  },
  {
   "cell_type": "code",
   "execution_count": 12,
   "metadata": {
    "collapsed": true
   },
   "outputs": [],
   "source": [
    "# number of attributes \n",
    "num_att = 100"
   ]
  },
  {
   "cell_type": "code",
   "execution_count": 13,
   "metadata": {
    "collapsed": true
   },
   "outputs": [],
   "source": [
    "# number of communities\n",
    "C = 100"
   ]
  },
  {
   "cell_type": "code",
   "execution_count": 14,
   "metadata": {
    "collapsed": true
   },
   "outputs": [],
   "source": [
    "# artificially create binary attributes from radial coordinates\n",
    "X = np.zeros((N, num_att))\n",
    "\n",
    "for n, theta in enumerate(thetas_true):\n",
    "    \n",
    "    id = int(theta * num_att / (2 * np.pi))\n",
    "# for i, community in enumerate(communities):\n",
    "    \n",
    "#     id = int(community * num_att / float(C))\n",
    "    \n",
    "    p = np.array([np.exp(-(id-x)**2 / (2 * (10.0)**2) ) for x in range(num_att)])\n",
    "    \n",
    "    r = np.random.rand(num_att)\n",
    "    \n",
    "    X[n][r < p] = 1"
   ]
  },
  {
   "cell_type": "code",
   "execution_count": 15,
   "metadata": {
    "collapsed": true
   },
   "outputs": [],
   "source": [
    "# observed adjacancy matrix\n",
    "A = np.array(nx.adjacency_matrix(G).todense())"
   ]
  },
  {
   "cell_type": "code",
   "execution_count": 16,
   "metadata": {
    "collapsed": true
   },
   "outputs": [],
   "source": [
    "# import powerlaw\n",
    "\n",
    "# result = powerlaw.Fit(degrees)\n",
    "# gamma = result.alpha"
   ]
  },
  {
   "cell_type": "code",
   "execution_count": 17,
   "metadata": {
    "collapsed": true
   },
   "outputs": [],
   "source": [
    "# gamma = min(gamma, 3)"
   ]
  },
  {
   "cell_type": "code",
   "execution_count": 18,
   "metadata": {
    "collapsed": true
   },
   "outputs": [],
   "source": [
    "# PS model parameters -- to estimate in real world network\n",
    "m = degrees.mean() / 2\n",
    "T = 0.1\n",
    "gamma = 2.3\n",
    "beta = 1. / (gamma - 1)"
   ]
  },
  {
   "cell_type": "code",
   "execution_count": 19,
   "metadata": {
    "collapsed": true
   },
   "outputs": [],
   "source": [
    "# determine radial coordinates of nodes\n",
    "R = 2 * beta * np.log(range(1, N + 1)) + 2 * (1 - beta) * np.log(N) \n",
    "R = R[order_of_appearance-1]"
   ]
  },
  {
   "cell_type": "code",
   "execution_count": 20,
   "metadata": {},
   "outputs": [
    {
     "data": {
      "text/plain": [
       "<matplotlib.text.Text at 0x7f4f4ed8cf50>"
      ]
     },
     "execution_count": 20,
     "metadata": {},
     "output_type": "execute_result"
    },
    {
     "data": {
      "image/png": "[encoded data removed]",
      "text/plain": [
       "<matplotlib.figure.Figure at 0x7f4f4edb5d90>"
      ]
     },
     "metadata": {},
     "output_type": "display_data"
    }
   ],
   "source": [
    "plt.scatter(R_true, R)\n",
    "plt.xlabel(\"R_true\")\n",
    "plt.ylabel(\"radial cooridinate\")"
   ]
  },
  {
   "cell_type": "code",
   "execution_count": 21,
   "metadata": {},
   "outputs": [
    {
     "data": {
      "text/plain": [
       "<matplotlib.text.Text at 0x7f4f4ecaa090>"
      ]
     },
     "execution_count": 21,
     "metadata": {},
     "output_type": "execute_result"
    },
    {
     "data": {
      "image/png": "[encoded data removed]",
      "text/plain": [
       "<matplotlib.figure.Figure at 0x7f4f4ecbca50>"
      ]
     },
     "metadata": {},
     "output_type": "display_data"
    }
   ],
   "source": [
    "plt.scatter(order_of_appearance, R)\n",
    "plt.xlabel(\"order of appearance\")\n",
    "plt.ylabel(\"radial cooridinate\")"
   ]
  },
  {
   "cell_type": "code",
   "execution_count": 22,
   "metadata": {
    "collapsed": true
   },
   "outputs": [],
   "source": [
    "def compute_disk_radius(order_of_appearance, R):\n",
    "    I = (1 - order_of_appearance ** -(1 - beta)) / (1 - beta)\n",
    "    disk_radii =  R - 2 * np.log((2 * T * I) / (np.sin(np.pi * T) * m))\n",
    "    return disk_radii"
   ]
  },
  {
   "cell_type": "code",
   "execution_count": 23,
   "metadata": {},
   "outputs": [
    {
     "name": "stderr",
     "output_type": "stream",
     "text": [
      "/home/david/miniconda2/lib/python2.7/site-packages/ipykernel_launcher.py:3: RuntimeWarning: divide by zero encountered in log\n",
      "  This is separate from the ipykernel package so we can avoid doing imports until\n"
     ]
    }
   ],
   "source": [
    "disk_radii = compute_disk_radius(order_of_appearance, R)"
   ]
  },
  {
   "cell_type": "code",
   "execution_count": 24,
   "metadata": {},
   "outputs": [
    {
     "data": {
      "text/plain": [
       "<matplotlib.collections.PathCollection at 0x7f4f4ea73250>"
      ]
     },
     "execution_count": 24,
     "metadata": {},
     "output_type": "execute_result"
    },
    {
     "data": {
      "image/png": "[encoded data removed]",
      "text/plain": [
       "<matplotlib.figure.Figure at 0x7f4f4eb53750>"
      ]
     },
     "metadata": {},
     "output_type": "display_data"
    }
   ],
   "source": [
    "# plt.scatter(order_of_appearance, 2 * np.log((2 * T * (1 - np.exp(- (1 - beta) * np.log(order_of_appearance)))) / \n",
    "#                                    (m * (1 - beta) * np.sin(np.pi * T))))\n",
    "# plt.scatter(order_of_appearance, R)\n",
    "plt.scatter(order_of_appearance, disk_radii)"
   ]
  },
  {
   "cell_type": "code",
   "execution_count": 25,
   "metadata": {},
   "outputs": [
    {
     "data": {
      "text/plain": [
       "[(1, inf),\n",
       " (2, 7.2303230590296765),\n",
       " (4, 7.0639762612957435),\n",
       " (3, 7.0233412249230742),\n",
       " (7, 7.367619980633366),\n",
       " (6, 7.2625043520040951),\n",
       " (9, 7.5647195323899989),\n",
       " (19, 8.2843189378729001),\n",
       " (5, 7.1573065310248447),\n",
       " (17, 8.1673796382504236),\n",
       " (26, 8.6282411034232549),\n",
       " (8, 7.4687518531113053),\n",
       " (12, 7.8216666646097419),\n",
       " (13, 7.8980896691204192),\n",
       " (31, 8.8291020030801288),\n",
       " (24, 8.5386408491703136),\n",
       " (11, 7.7408864473420147),\n",
       " (16, 8.104878654591376),\n",
       " (23, 8.4914895191538893),\n",
       " (25, 8.5841895424136787),\n",
       " (38, 9.0677993347902923),\n",
       " (15, 8.0393595764650918),\n",
       " (30, 8.7912627051729082),\n",
       " (44, 9.243381188305726),\n",
       " (21, 8.3918990606369341),\n",
       " (14, 7.9705363783086902),\n",
       " (27, 8.6708911278197398),\n",
       " (47, 9.3233103218909168),\n",
       " (76, 9.9211331642234999),\n",
       " (20, 8.3391861028947236),\n",
       " (29, 8.7523262428130231),\n",
       " (10, 7.655357118283491),\n",
       " (50, 9.3987924067682798),\n",
       " (98, 10.246953773004481),\n",
       " (18, 8.2271174452087905),\n",
       " (59, 9.6029613585908731),\n",
       " (35, 8.9706313582862336),\n",
       " (46, 9.2971872901826025),\n",
       " (45, 9.2705512070874647),\n",
       " (87, 10.093628623136386),\n",
       " (64, 9.7044444082684986),\n",
       " (36, 9.0038049907939239),\n",
       " (48, 9.3489399810442837),\n",
       " (53, 9.4703028474274014),\n",
       " (189, 11.113160721625315),\n",
       " (156, 10.856816308251057),\n",
       " (22, 8.4426187872814911),\n",
       " (155, 10.848268910739753),\n",
       " (66, 9.7430201807820698),\n",
       " (61, 9.6444626396126534),\n",
       " (184, 11.077196575504773),\n",
       " (32, 8.8659048354771794),\n",
       " (43, 9.215655043741533),\n",
       " (28, 8.7122264684437098),\n",
       " (154, 10.839669126496407),\n",
       " (34, 8.9366200279496049),\n",
       " (333, 11.88298446671755),\n",
       " (153, 10.831016300639801),\n",
       " (152, 10.822309765859906),\n",
       " (174, 11.002390960735987),\n",
       " (151, 10.813548842100335),\n",
       " (33, 8.9017270266138571),\n",
       " (171, 10.979151487207263),\n",
       " (170, 10.971318890199228),\n",
       " (149, 10.79586104170774),\n",
       " (93, 10.179358376751848),\n",
       " (57, 9.5601594922972524),\n",
       " (56, 9.5382444215151061),\n",
       " (297, 11.726031265737001),\n",
       " (94, 10.193143989288671),\n",
       " (148, 10.786932738226847),\n",
       " (147, 10.777947191360221),\n",
       " (96, 10.220310146187229),\n",
       " (145, 10.759801356895478),\n",
       " (80, 9.9863832941819961),\n",
       " (134, 10.655563594865383),\n",
       " (291, 11.698106209190842),\n",
       " (37, 9.0361816942620798),\n",
       " (60, 9.6238695358150856),\n",
       " (143, 10.741417365953655),\n",
       " (142, 10.732134064636851),\n",
       " (78, 9.9541446702138803),\n",
       " (51, 9.4230492808761088),\n",
       " (217, 11.299197016247804),\n",
       " (213, 11.27407365876512),\n",
       " (141, 10.722788795012992),\n",
       " (68, 9.7805397169644657),\n",
       " (69, 9.7989214390881614),\n",
       " (79, 9.970358288945814),\n",
       " (58, 9.5817281554778173),\n",
       " (133, 10.645690646102297),\n",
       " (40, 9.1288959526593878),\n",
       " (138, 10.694372643818117),\n",
       " (41, 9.1584384103688574),\n",
       " (205, 11.222446616534866),\n",
       " (137, 10.68477087910453),\n",
       " (309, 11.78029113858023),\n",
       " (136, 10.675102744005535),\n",
       " (135, 10.665367301599449),\n",
       " (318, 11.819672369946263),\n",
       " (42, 9.1873491665742684),\n",
       " (73, 9.8700815172026388),\n",
       " (315, 11.806665743483158),\n",
       " (72, 9.8526341419893804),\n",
       " (200, 11.189194741336433),\n",
       " (63, 9.6847412014514749),\n",
       " (157, 10.865311961790411),\n",
       " (310, 11.784720922341176),\n",
       " (390, 12.1008366914607),\n",
       " (164, 10.92338428542284),\n",
       " (146, 10.768903652184514),\n",
       " (92, 10.165434067180909),\n",
       " (162, 10.907035754851123),\n",
       " (211, 11.261342596685962),\n",
       " (70, 9.817060167219708),\n",
       " (132, 10.635747456326904),\n",
       " (71, 9.8349623399675075),\n",
       " (75, 9.9043256325562332),\n",
       " (220, 11.317750986928978),\n",
       " (191, 11.127293376128842),\n",
       " (54, 9.4933284916642773),\n",
       " (52, 9.4468811409333551),\n",
       " (167, 10.947555890033032),\n",
       " (159, 10.882150549168113),\n",
       " (160, 10.89049471055954),\n",
       " (161, 10.898789583637264),\n",
       " (81, 10.002224089910476),\n",
       " (458, 12.323668622830002),\n",
       " (163, 10.915233800188579),\n",
       " (182, 11.062549944887502),\n",
       " (49, 9.3740948319191926),\n",
       " (62, 9.6647501699695333),\n",
       " (86, 10.078808715694221),\n",
       " (186, 11.091692531777703),\n",
       " (188, 11.106040920488221),\n",
       " (139, 10.703908955529391),\n",
       " (222, 11.329986510145085),\n",
       " (82, 10.017884926778002),\n",
       " (131, 10.625733004649426),\n",
       " (475, 12.374363362664663),\n",
       " (85, 10.063828035939752),\n",
       " (90, 10.137157814901373),\n",
       " (179, 11.040290442026459),\n",
       " (177, 11.025252868286216),\n",
       " (496, 12.434615097585347),\n",
       " (101, 10.285982924509231),\n",
       " (55, 9.5159714479647963),\n",
       " (105, 10.33637040241941),\n",
       " (106, 10.348686628335692),\n",
       " (491, 12.420496665365349),\n",
       " (176, 11.017673417214443),\n",
       " (104, 10.323943967682855),\n",
       " (208, 11.242028415921455),\n",
       " (100, 10.273094877802034),\n",
       " (219, 11.311593324199926),\n",
       " (102, 10.298752334590555),\n",
       " (74, 9.8873101811457555),\n",
       " (210, 11.25493381480128),\n",
       " (482, 12.39472899460589),\n",
       " (206, 11.229004081876999),\n",
       " (67, 9.7619082941604507),\n",
       " (480, 12.388939612522625),\n",
       " (479, 12.386036158449006),\n",
       " (202, 11.20258958257531),\n",
       " (201, 11.195908044282687),\n",
       " (461, 12.332745672568889),\n",
       " (446, 12.286775837429353),\n",
       " (406, 12.156466890329227),\n",
       " (195, 11.155140842565824),\n",
       " (103, 10.31140530393842),\n",
       " (108, 10.372996264511654),\n",
       " (192, 11.134306948187554),\n",
       " (194, 11.148230338065833),\n",
       " (109, 10.384993450934376),\n",
       " (412, 12.176783906148174),\n",
       " (196, 11.162017669372032),\n",
       " (197, 11.168861149194656),\n",
       " (198, 11.175671607870722),\n",
       " (199, 11.182449366459641),\n",
       " (408, 12.163271267602774),\n",
       " (407, 12.159873115762824),\n",
       " (405, 12.153052552459553),\n",
       " (393, 12.111433195713092),\n",
       " (65, 9.7238680875208132),\n",
       " (129, 10.605486118588594),\n",
       " (128, 10.595251526945527),\n",
       " (203, 11.209239659073155),\n",
       " (400, 12.135857797174774),\n",
       " (399, 12.132393952999085),\n",
       " (398, 12.128921716431922),\n",
       " (397, 12.125441046294254),\n",
       " (204, 11.21585857230156),\n",
       " (77, 9.9377378731705939),\n",
       " (394, 12.114948018072152),\n",
       " (193, 11.141285820190715),\n",
       " (207, 11.23553125434012),\n",
       " (209, 11.248495844678297),\n",
       " (126, 10.574554469504065),\n",
       " (125, 10.564089696267377),\n",
       " (124, 10.553545843959522),\n",
       " (123, 10.542921690962697),\n",
       " (214, 11.28039646139657),\n",
       " (215, 11.286691120795657),\n",
       " (216, 11.292957889399846),\n",
       " (122, 10.532215986958484),\n",
       " (218, 11.305408747040333),\n",
       " (121, 10.521427452018749),\n",
       " (221, 11.32388197126676),\n",
       " (435, 12.252104183309532),\n",
       " (434, 12.248910297279052),\n",
       " (433, 12.245709288918389),\n",
       " (39, 9.0986931431995295),\n",
       " (190, 11.120244752806858),\n",
       " (166, 10.9395447890413),\n",
       " (430, 12.236063207250982),\n",
       " (429, 12.2328333858616),\n",
       " (428, 12.229596279177292),\n",
       " (427, 12.22635185393152),\n",
       " (118, 10.488551598036016),\n",
       " (425, 12.219840913540468),\n",
       " (424, 12.216574330706786),\n",
       " (423, 12.213300293930521),\n",
       " (422, 12.210018768776882),\n",
       " (472, 12.365546155797871),\n",
       " (286, 11.674409564119017),\n",
       " (168, 10.955521596583928),\n",
       " (107, 10.36089461124207),\n",
       " (437, 12.25847071589884),\n",
       " (438, 12.261643425681068),\n",
       " (169, 10.963442426870621),\n",
       " (117, 10.477418313973903),\n",
       " (396, 12.121951901101879),\n",
       " (115, 10.454881139446613),\n",
       " (172, 10.98694071005985),\n",
       " (413, 12.1801422629669),\n",
       " (415, 12.186835474597762),\n",
       " (114, 10.443474254199099),\n",
       " (445, 12.283658235820502),\n",
       " (173, 10.994687042640415),\n",
       " (484, 12.400495166205415),\n",
       " (493, 12.426160672966652),\n",
       " (494, 12.428984337456965),\n",
       " (452, 12.305340660717844),\n",
       " (454, 12.311475997016936),\n",
       " (113, 10.431973110689869),\n",
       " (459, 12.326700681409083),\n",
       " (165, 10.931487766353701),\n",
       " (175, 11.0100529322174),\n",
       " (470, 12.359637832763056),\n",
       " (223, 11.336064833442785),\n",
       " (447, 12.289886686122497),\n",
       " (392, 12.107909729249661),\n",
       " (312, 11.793539415804414),\n",
       " (314, 11.802303710791554),\n",
       " (316, 11.811014476548975),\n",
       " (317, 11.815349991713374),\n",
       " (308, 11.775847548464881),\n",
       " (178, 11.03279173058681),\n",
       " (293, 11.707475531292827),\n",
       " (112, 10.420376114964728),\n",
       " (180, 11.04774943342834),\n",
       " (299, 11.735219270276831),\n",
       " (181, 11.055169128681131),\n",
       " (88, 10.10829122387702),\n",
       " (304, 11.757933366319229),\n",
       " (183, 11.069892292508605),\n",
       " (369, 12.024380919508893),\n",
       " (185, 11.084463191472476),\n",
       " (110, 10.396887984489737),\n",
       " (187, 11.098884981685847),\n",
       " (84, 10.048683001740786),\n",
       " (83, 10.033369909145305),\n",
       " (158, 10.87375650229499),\n",
       " (345, 11.93168748869669),\n",
       " (349, 11.947559758185431),\n",
       " (474, 12.371430297515744),\n",
       " (212, 11.26772245700273),\n",
       " (224, 11.342117168038978),\n",
       " (283, 11.659999884097711),\n",
       " (341, 11.915636937085013),\n",
       " (350, 11.95150043565514),\n",
       " (388, 12.093728556348353),\n",
       " (381, 12.068568537286669),\n",
       " (371, 12.031840910136735),\n",
       " (111, 10.408681632042404),\n",
       " (277, 11.630735233663577),\n",
       " (281, 11.650311728526662),\n",
       " (300, 11.739791147492424),\n",
       " (295, 11.716783615474512),\n",
       " (279, 11.640557154193298),\n",
       " (278, 11.635654670929073),\n",
       " (89, 10.122799872018605),\n",
       " (469, 12.356674540382572),\n",
       " (276, 11.625798723391549),\n",
       " (457, 12.320630152627373),\n",
       " (280, 11.645442801215573),\n",
       " (417, 12.193497595189434),\n",
       " (285, 11.669622529222963),\n",
       " (403, 12.146199382628401),\n",
       " (116, 10.466195320724934),\n",
       " (395, 12.1184542390624),\n",
       " (282, 11.655164051445849),\n",
       " (436, 12.255290978943352),\n",
       " (284, 11.664819339428625),\n",
       " (426, 12.223100076628375),\n",
       " (95, 10.206793681280418),\n",
       " (250, 11.491034654439433),\n",
       " (431, 12.239285776384715),\n",
       " (119, 10.499596615860726),\n",
       " (120, 10.510554775660184),\n",
       " (432, 12.242501126076879),\n",
       " (274, 11.615874001470726),\n",
       " (91, 10.151368197599183),\n",
       " (247, 11.474628855714663),\n",
       " (246, 11.469117830883505),\n",
       " (439, 12.264809139583759),\n",
       " (440, 12.267967888691178),\n",
       " (441, 12.271119703880011),\n",
       " (245, 11.463585314646918),\n",
       " (442, 12.274264615821194),\n",
       " (443, 12.277402654981769),\n",
       " (444, 12.280533851626664),\n",
       " (421, 12.20672972057087),\n",
       " (420, 12.203433114395033),\n",
       " (419, 12.200128915087198),\n",
       " (418, 12.196817087238179),\n",
       " (244, 11.458031136743097),\n",
       " (127, 10.584941357461203),\n",
       " (243, 11.452455124868482),\n",
       " (401, 12.139313289835847),\n",
       " (402, 12.142760471559942),\n",
       " (242, 11.446857104644879),\n",
       " (130, 10.61564624762628),\n",
       " (404, 12.14963006302915),\n",
       " (409, 12.166661384412006),\n",
       " (410, 12.17004350447662),\n",
       " (241, 11.441236899585926),\n",
       " (411, 12.173417665808548),\n",
       " (240, 11.435594331062866),\n",
       " (414, 12.183492773469725),\n",
       " (239, 11.429929218269637),\n",
       " (416, 12.190170403030733),\n",
       " (238, 11.424241378187222),\n",
       " (236, 11.412796772795128),\n",
       " (477, 12.380211604762311),\n",
       " (478, 12.38312683054296),\n",
       " (481, 12.39183721665867),\n",
       " (225, 11.34814373786519),\n",
       " (483, 12.397614969968107),\n",
       " (235, 11.40703963005161),\n",
       " (485, 12.40336960663533),\n",
       " (486, 12.406238314433951),\n",
       " (487, 12.409101312637114),\n",
       " (488, 12.411958624141509),\n",
       " (489, 12.414810271705804),\n",
       " (490, 12.417656277951766),\n",
       " (492, 12.423331456297783),\n",
       " (234, 11.401259005074673),\n",
       " (233, 11.395454703219741),\n",
       " (99, 10.260085935479081),\n",
       " (495, 12.431802471722197),\n",
       " (497, 12.437422236739971),\n",
       " (498, 12.4402239107512),\n",
       " (499, 12.443020141056762),\n",
       " (476, 12.377290456916366),\n",
       " (275, 11.620845019844106),\n",
       " (473, 12.368491236825891),\n",
       " (449, 12.296088242465144),\n",
       " (450, 12.299179008484685),\n",
       " (451, 12.302263138331966),\n",
       " (232, 11.389626527399438),\n",
       " (453, 12.308411604166473),\n",
       " (231, 11.383774278042395),\n",
       " (455, 12.314533867424826),\n",
       " (456, 12.317585243363848),\n",
       " (230, 11.377897753051229),\n",
       " (229, 11.371996747759589),\n",
       " (448, 12.292990811374143),\n",
       " (460, 12.329726355626246),\n",
       " (462, 12.335758659151672),\n",
       " (97, 10.233695997727622),\n",
       " (463, 12.338765342117986),\n",
       " (228, 11.366071054888309),\n",
       " (464, 12.341765748041396),\n",
       " (465, 12.344759903327095),\n",
       " (466, 12.347747834213319),\n",
       " (467, 12.350729566772751),\n",
       " (468, 12.353705126913919),\n",
       " (227, 11.360120464500611),\n",
       " (226, 11.354144763956334),\n",
       " (248, 11.480118557392652),\n",
       " (391, 12.104377575625595),\n",
       " (237, 11.418530625547305),\n",
       " (249, 11.485587102191797),\n",
       " (366, 12.013117498449921),\n",
       " (311, 11.789136986202188),\n",
       " (263, 11.560013917758964),\n",
       " (313, 11.797928295985887),\n",
       " (273, 11.610885545420931),\n",
       " (272, 11.605879527525632),\n",
       " (271, 11.600855822278126),\n",
       " (319, 11.823981691472357),\n",
       " (320, 11.828278035780322),\n",
       " (321, 11.832561481631789),\n",
       " (323, 11.841089989429529),\n",
       " (324, 11.845335205342918),\n",
       " (325, 11.849567830751102),\n",
       " (326, 11.853787940910761),\n",
       " (327, 11.857995610402732),\n",
       " (140, 10.713380712624062),\n",
       " (328, 11.862190913140104),\n",
       " (329, 11.86637392237618),\n",
       " (330, 11.870544710712332),\n",
       " (331, 11.874703350105731),\n",
       " (332, 11.878849911876964),\n",
       " (307, 11.771390064716986),\n",
       " (322, 11.836832107070194),\n",
       " (270, 11.595814302814775),\n",
       " (298, 11.730632675065955),\n",
       " (306, 11.766918599224203),\n",
       " (269, 11.590754840895301),\n",
       " (268, 11.585677306882747),\n",
       " (292, 11.702798575860873),\n",
       " (144, 10.750639526409829),\n",
       " (289, 11.688674828936296),\n",
       " (288, 11.683935606132781),\n",
       " (287, 11.679180553624674),\n",
       " (294, 11.71213717749829),\n",
       " (290, 11.693398328243145),\n",
       " (296, 11.721414945217857),\n",
       " (267, 11.580581569723073),\n",
       " (266, 11.575467496924343),\n",
       " (265, 11.570334954535582),\n",
       " (264, 11.565183807125182),\n",
       " (301, 11.744348401898598),\n",
       " (302, 11.748891127756437),\n",
       " (262, 11.554825147977787),\n",
       " (150, 10.804732836230606),\n",
       " (303, 11.753419418414223),\n",
       " (251, 11.496461376546296),\n",
       " (305, 11.762433063029285),\n",
       " (261, 11.549617357774764),\n",
       " (334, 11.887107084697327),\n",
       " (336, 11.895316787289017),\n",
       " (364, 12.005558984858311),\n",
       " (335, 11.891217835271737),\n",
       " (367, 12.016881832721586),\n",
       " (368, 12.020636288995254),\n",
       " (260, 11.544390405572027),\n",
       " (370, 12.028115776085349),\n",
       " (259, 11.539144148197087),\n",
       " (372, 12.035556372668777),\n",
       " (373, 12.039262214285102),\n",
       " (374, 12.042958485191452),\n",
       " (375, 12.046645235199861),\n",
       " (376, 12.05032251373278),\n",
       " (365, 12.009343233522715),\n",
       " (377, 12.053990369827122),\n",
       " (379, 12.061298008944116),\n",
       " (380, 12.06493788814878),\n",
       " (258, 11.533878440858714),\n",
       " (382, 12.072190003526167),\n",
       " (383, 12.07580233367343),\n",
       " (384, 12.07940557417608),\n",
       " (385, 12.082999771126877),\n",
       " (386, 12.08658497026733),\n",
       " (387, 12.090161216991266),\n",
       " (257, 11.528593137122373),\n",
       " (389, 12.097287033047582),\n",
       " (378, 12.057648852138289),\n",
       " (363, 12.001764698946381),\n",
       " (256, 11.523288088885193),\n",
       " (362, 11.997960321843282),\n",
       " (338, 11.90347956805144),\n",
       " (339, 11.907543531520169),\n",
       " (340, 11.911595965892596),\n",
       " (255, 11.51796314635045),\n",
       " (254, 11.512618158001574),\n",
       " (342, 11.919666510447446),\n",
       " (343, 11.923684750770139),\n",
       " (344, 11.927691722289962),\n",
       " (253, 11.507252970575621),\n",
       " (346, 11.935672113139214),\n",
       " (347, 11.939645658231687),\n",
       " (348, 11.943608186059537),\n",
       " (337, 11.899404008997273),\n",
       " (252, 11.501867429036277),\n",
       " (351, 11.955430279003316),\n",
       " (352, 11.959349348259217),\n",
       " (353, 11.963257702952307),\n",
       " (354, 11.967155402117818),\n",
       " (355, 11.971042504302227),\n",
       " (356, 11.974919067568626),\n",
       " (357, 11.97878514950207),\n",
       " (358, 11.982640807214802),\n",
       " (359, 11.98648609735144),\n",
       " (360, 11.990321076094082),\n",
       " (361, 11.994145799167333),\n",
       " (471, 12.362595029479639),\n",
       " (500, 12.445810948967967)]"
      ]
     },
     "execution_count": 25,
     "metadata": {},
     "output_type": "execute_result"
    }
   ],
   "source": [
    "zip(order_of_appearance, disk_radii)"
   ]
  },
  {
   "cell_type": "code",
   "execution_count": 26,
   "metadata": {},
   "outputs": [
    {
     "data": {
      "text/plain": [
       "<matplotlib.text.Text at 0x7f4f4eb53950>"
      ]
     },
     "execution_count": 26,
     "metadata": {},
     "output_type": "execute_result"
    },
    {
     "data": {
      "image/png": "[encoded data removed]",
      "text/plain": [
       "<matplotlib.figure.Figure at 0x7f4f4eab11d0>"
      ]
     },
     "metadata": {},
     "output_type": "display_data"
    }
   ],
   "source": [
    "plt.scatter(order_of_appearance, disk_radii)\n",
    "plt.xlabel(\"order of appearance\")\n",
    "plt.ylabel(\"disk radius\")"
   ]
  },
  {
   "cell_type": "code",
   "execution_count": 27,
   "metadata": {
    "collapsed": true
   },
   "outputs": [],
   "source": [
    "disk_radii_2d = np.array([[disk_radii[i] if order_of_appearance[i] > order_of_appearance[j] else disk_radii[j]\n",
    "                           for j in range(N)] for i in range(N)]) "
   ]
  },
  {
   "cell_type": "code",
   "execution_count": 28,
   "metadata": {},
   "outputs": [
    {
     "name": "stderr",
     "output_type": "stream",
     "text": [
      "Using TensorFlow backend.\n"
     ]
    }
   ],
   "source": [
    "from keras.models import Model\n",
    "from keras.layers import Input, Dense, Lambda\n",
    "from keras.constraints import non_neg\n",
    "from keras.initializers import RandomUniform, RandomNormal\n",
    "from keras.regularizers import l1, l2\n",
    "# from keras.optimizers import SGD\n",
    "import keras.backend as K"
   ]
  },
  {
   "cell_type": "code",
   "execution_count": 31,
   "metadata": {
    "collapsed": true
   },
   "outputs": [],
   "source": [
    "def cosh(x):\n",
    "    return (K.exp(x) + K.exp(-x)) / 2\n",
    "\n",
    "def sinh(x):\n",
    "    return (K.exp(x) - K.exp(-x)) / 2\n",
    "\n",
    "def arccosh(x):\n",
    "    return K.log(x + K.sqrt(x + 1) * K.sqrt(x - 1))\n",
    "\n",
    "def hyperbolic_distance(args):\n",
    "    \n",
    "    r_u, r_v, theta_u, theta_v = args\n",
    "    \n",
    "    # compute hyperbolic distance \n",
    "    pi = K.constant(np.pi)\n",
    "    delta = pi - K.abs(pi - K.abs(theta_u - theta_v))\n",
    "    h_uv = cosh(r_u) * cosh(r_v) - sinh(r_u) * sinh(r_v) * K.cos(delta) \n",
    "    h_uv = K.maximum(1.0, h_uv)\n",
    "    h_uv = arccosh(h_uv)\n",
    "    \n",
    "    return h_uv\n",
    "\n",
    "# def compute_theta(args):\n",
    "    \n",
    "#     x = args[:,0]\n",
    "#     y = args[:,1]\n",
    "    \n",
    "#     return tf.atan2(y, x)\n",
    "\n",
    "# def compute_connection_probability(args):\n",
    "    \n",
    "#     F_u, F_v = args\n",
    "    \n",
    "#     return 1 - K.exp( - K.dot(F_u, F_v))\n",
    "\n",
    "def compute_connection_probability(args):\n",
    "    \n",
    "    disk_radii_uv, h_uv = args\n",
    "    \n",
    "    return K.sigmoid((disk_radii_uv - h_uv) / (2 * T))"
   ]
  },
  {
   "cell_type": "code",
   "execution_count": 125,
   "metadata": {
    "collapsed": true
   },
   "outputs": [],
   "source": [
    "from keras.engine.topology import Layer\n",
    "from keras.initializers import Zeros"
   ]
  },
  {
   "cell_type": "code",
   "execution_count": 133,
   "metadata": {},
   "outputs": [],
   "source": [
    "class F_Layer(Layer):\n",
    "\n",
    "    def __init__(self, output_dim, **kwargs):\n",
    "        self.output_dim = output_dim\n",
    "        super(F_Layer, self).__init__(**kwargs)\n",
    "\n",
    "    def build(self, input_shape):\n",
    "        # Create a trainable weight variable for this layer.\n",
    "        self.kernel = self.add_weight(name='F', \n",
    "                                      shape=(input_shape[1], self.output_dim),\n",
    "                                      initializer='uniform', constraint=\"non_neg\", regularizer=1e-2,\n",
    "                                      trainable=True)\n",
    "        super(MyLayer, self).build(input_shape)  # Be sure to call this somewhere!\n",
    "\n",
    "    def call(self, x):\n",
    "        return K.dot(x, self.kernel)\n",
    "\n",
    "    def compute_output_shape(self, input_shape):\n",
    "        return (input_shape[0], self.output_dim)"
   ]
  },
  {
   "cell_type": "code",
   "execution_count": 135,
   "metadata": {},
   "outputs": [
    {
     "ename": "TypeError",
     "evalue": "'float' object is not callable",
     "output_type": "error",
     "traceback": [
      "\u001b[0;31m---------------------------------------------------------------------------\u001b[0m",
      "\u001b[0;31mTypeError\u001b[0m                                 Traceback (most recent call last)",
      "\u001b[0;32m<ipython-input-135-35f7a0729260>\u001b[0m in \u001b[0;36m<module>\u001b[0;34m()\u001b[0m\n\u001b[1;32m     18\u001b[0m \u001b[0;31m# F.bias.trainable = False\u001b[0m\u001b[0;34m\u001b[0m\u001b[0;34m\u001b[0m\u001b[0m\n\u001b[1;32m     19\u001b[0m \u001b[0;34m\u001b[0m\u001b[0m\n\u001b[0;32m---> 20\u001b[0;31m \u001b[0mF_u\u001b[0m \u001b[0;34m=\u001b[0m \u001b[0mF\u001b[0m\u001b[0;34m(\u001b[0m\u001b[0mu\u001b[0m\u001b[0;34m)\u001b[0m\u001b[0;34m\u001b[0m\u001b[0m\n\u001b[0m\u001b[1;32m     21\u001b[0m \u001b[0mF_v\u001b[0m \u001b[0;34m=\u001b[0m \u001b[0mF\u001b[0m\u001b[0;34m(\u001b[0m\u001b[0mv\u001b[0m\u001b[0;34m)\u001b[0m\u001b[0;34m\u001b[0m\u001b[0m\n\u001b[1;32m     22\u001b[0m \u001b[0;34m\u001b[0m\u001b[0m\n",
      "\u001b[0;32m/home/david/miniconda2/lib/python2.7/site-packages/keras/engine/topology.pyc\u001b[0m in \u001b[0;36m__call__\u001b[0;34m(self, inputs, **kwargs)\u001b[0m\n\u001b[1;32m    517\u001b[0m                                          '`layer.build(batch_input_shape)`')\n\u001b[1;32m    518\u001b[0m                 \u001b[0;32mif\u001b[0m \u001b[0mlen\u001b[0m\u001b[0;34m(\u001b[0m\u001b[0minput_shapes\u001b[0m\u001b[0;34m)\u001b[0m \u001b[0;34m==\u001b[0m \u001b[0;36m1\u001b[0m\u001b[0;34m:\u001b[0m\u001b[0;34m\u001b[0m\u001b[0m\n\u001b[0;32m--> 519\u001b[0;31m                     \u001b[0mself\u001b[0m\u001b[0;34m.\u001b[0m\u001b[0mbuild\u001b[0m\u001b[0;34m(\u001b[0m\u001b[0minput_shapes\u001b[0m\u001b[0;34m[\u001b[0m\u001b[0;36m0\u001b[0m\u001b[0;34m]\u001b[0m\u001b[0;34m)\u001b[0m\u001b[0;34m\u001b[0m\u001b[0m\n\u001b[0m\u001b[1;32m    520\u001b[0m                 \u001b[0;32melse\u001b[0m\u001b[0;34m:\u001b[0m\u001b[0;34m\u001b[0m\u001b[0m\n\u001b[1;32m    521\u001b[0m                     \u001b[0mself\u001b[0m\u001b[0;34m.\u001b[0m\u001b[0mbuild\u001b[0m\u001b[0;34m(\u001b[0m\u001b[0minput_shapes\u001b[0m\u001b[0;34m)\u001b[0m\u001b[0;34m\u001b[0m\u001b[0m\n",
      "\u001b[0;32m<ipython-input-133-3c9fb97dcd42>\u001b[0m in \u001b[0;36mbuild\u001b[0;34m(self, input_shape)\u001b[0m\n\u001b[1;32m     10\u001b[0m                                       \u001b[0mshape\u001b[0m\u001b[0;34m=\u001b[0m\u001b[0;34m(\u001b[0m\u001b[0minput_shape\u001b[0m\u001b[0;34m[\u001b[0m\u001b[0;36m1\u001b[0m\u001b[0;34m]\u001b[0m\u001b[0;34m,\u001b[0m \u001b[0mself\u001b[0m\u001b[0;34m.\u001b[0m\u001b[0moutput_dim\u001b[0m\u001b[0;34m)\u001b[0m\u001b[0;34m,\u001b[0m\u001b[0;34m\u001b[0m\u001b[0m\n\u001b[1;32m     11\u001b[0m                                       \u001b[0minitializer\u001b[0m\u001b[0;34m=\u001b[0m\u001b[0;34m'uniform'\u001b[0m\u001b[0;34m,\u001b[0m \u001b[0mconstraint\u001b[0m\u001b[0;34m=\u001b[0m\u001b[0;34m\"non_neg\"\u001b[0m\u001b[0;34m,\u001b[0m \u001b[0mregularizer\u001b[0m\u001b[0;34m=\u001b[0m\u001b[0;36m1e-2\u001b[0m\u001b[0;34m,\u001b[0m\u001b[0;34m\u001b[0m\u001b[0m\n\u001b[0;32m---> 12\u001b[0;31m                                       trainable=True)\n\u001b[0m\u001b[1;32m     13\u001b[0m         \u001b[0msuper\u001b[0m\u001b[0;34m(\u001b[0m\u001b[0mMyLayer\u001b[0m\u001b[0;34m,\u001b[0m \u001b[0mself\u001b[0m\u001b[0;34m)\u001b[0m\u001b[0;34m.\u001b[0m\u001b[0mbuild\u001b[0m\u001b[0;34m(\u001b[0m\u001b[0minput_shape\u001b[0m\u001b[0;34m)\u001b[0m  \u001b[0;31m# Be sure to call this somewhere!\u001b[0m\u001b[0;34m\u001b[0m\u001b[0m\n\u001b[1;32m     14\u001b[0m \u001b[0;34m\u001b[0m\u001b[0m\n",
      "\u001b[0;32m/home/david/miniconda2/lib/python2.7/site-packages/keras/engine/topology.pyc\u001b[0m in \u001b[0;36madd_weight\u001b[0;34m(self, shape, initializer, name, trainable, regularizer, constraint)\u001b[0m\n\u001b[1;32m    355\u001b[0m         \u001b[0mweight\u001b[0m \u001b[0;34m=\u001b[0m \u001b[0mK\u001b[0m\u001b[0;34m.\u001b[0m\u001b[0mvariable\u001b[0m\u001b[0;34m(\u001b[0m\u001b[0minitializer\u001b[0m\u001b[0;34m(\u001b[0m\u001b[0mshape\u001b[0m\u001b[0;34m)\u001b[0m\u001b[0;34m,\u001b[0m \u001b[0mdtype\u001b[0m\u001b[0;34m=\u001b[0m\u001b[0mK\u001b[0m\u001b[0;34m.\u001b[0m\u001b[0mfloatx\u001b[0m\u001b[0;34m(\u001b[0m\u001b[0;34m)\u001b[0m\u001b[0;34m,\u001b[0m \u001b[0mname\u001b[0m\u001b[0;34m=\u001b[0m\u001b[0mname\u001b[0m\u001b[0;34m)\u001b[0m\u001b[0;34m\u001b[0m\u001b[0m\n\u001b[1;32m    356\u001b[0m         \u001b[0;32mif\u001b[0m \u001b[0mregularizer\u001b[0m \u001b[0;32mis\u001b[0m \u001b[0;32mnot\u001b[0m \u001b[0mNone\u001b[0m\u001b[0;34m:\u001b[0m\u001b[0;34m\u001b[0m\u001b[0m\n\u001b[0;32m--> 357\u001b[0;31m             \u001b[0mself\u001b[0m\u001b[0;34m.\u001b[0m\u001b[0madd_loss\u001b[0m\u001b[0;34m(\u001b[0m\u001b[0mregularizer\u001b[0m\u001b[0;34m(\u001b[0m\u001b[0mweight\u001b[0m\u001b[0;34m)\u001b[0m\u001b[0;34m)\u001b[0m\u001b[0;34m\u001b[0m\u001b[0m\n\u001b[0m\u001b[1;32m    358\u001b[0m         \u001b[0;32mif\u001b[0m \u001b[0mconstraint\u001b[0m \u001b[0;32mis\u001b[0m \u001b[0;32mnot\u001b[0m \u001b[0mNone\u001b[0m\u001b[0;34m:\u001b[0m\u001b[0;34m\u001b[0m\u001b[0m\n\u001b[1;32m    359\u001b[0m             \u001b[0mself\u001b[0m\u001b[0;34m.\u001b[0m\u001b[0mconstraints\u001b[0m\u001b[0;34m[\u001b[0m\u001b[0mweight\u001b[0m\u001b[0;34m]\u001b[0m \u001b[0;34m=\u001b[0m \u001b[0mconstraint\u001b[0m\u001b[0;34m\u001b[0m\u001b[0m\n",
      "\u001b[0;31mTypeError\u001b[0m: 'float' object is not callable"
     ]
    }
   ],
   "source": [
    "# build model\n",
    "reg_F = l1(1e-20)\n",
    "reg_W = l1(1e-2)\n",
    "reg_M = l1(1e-20)\n",
    "\n",
    "u = Input(shape=(N,))\n",
    "v = Input(shape=(N,))\n",
    "\n",
    "r_u = Input(shape=(1,))\n",
    "r_v = Input(shape=(1,))\n",
    "\n",
    "disk_radii_uv = Input(shape=(1,))\n",
    "\n",
    "F = F_Layer(C, name=\"F\",)\n",
    "#           kernel_constraint=non_neg(), bias_constraint=non_neg(),\n",
    "#          kernel_regularizer=reg_F, bias_regularizer=reg_F, )\n",
    "#           kernel_initializer=RandomUniform(minval=0, maxval=10), bias_initializer=Zeros())\n",
    "# F.bias.trainable = False\n",
    "\n",
    "F_u = F(u)\n",
    "F_v = F(v)\n",
    "\n",
    "\n",
    "M = Dense(1, name=\"M\",\n",
    "         kernel_regularizer=reg_M, bias_regularizer=reg_M, ) \n",
    "# #           kernel_initializer=RandomNormal(stddev=w),\n",
    "# #           bias_initializer=RandomNormal(stddev=w) )\n",
    "        \n",
    "theta_u = M(F_u)\n",
    "theta_v = M(F_v)\n",
    "\n",
    "h_uv = Lambda(hyperbolic_distance, output_shape=(1,), name=\"hyperbolic_distance_layer\")([r_u, r_v, theta_u, theta_v])\n",
    "P_uv = Lambda(compute_connection_probability, output_shape=(1,), name=\"P\")([disk_radii_uv, h_uv])\n",
    "\n",
    "W = Dense(num_att, activation=\"sigmoid\", name=\"Q\",\n",
    "    kernel_regularizer=reg_W, bias_regularizer=reg_W, )\n",
    "#           kernel_initializer=RandomNormal(stddev=w),\n",
    "#           bias_initializer=RandomNormal(stddev=w))\n",
    "Q_u = W(F_u)\n",
    "Q_v = W(F_v)\n",
    "\n",
    "generative_model = Model([u, v, r_u, r_v, disk_radii_uv], [P_uv, Q_u, Q_v])\n",
    "P_model = Model([u, v, r_u, r_v, disk_radii_uv], P_uv )\n",
    "Q_model = Model(u, Q_u)"
   ]
  },
  {
   "cell_type": "code",
   "execution_count": 109,
   "metadata": {
    "collapsed": true
   },
   "outputs": [],
   "source": [
    "def generator(batch_size):\n",
    "    \n",
    "    \n",
    "    I = np.identity(N)\n",
    "    \n",
    "    nodes = range(N)\n",
    "    U = np.repeat(nodes, N)\n",
    "    V = np.concatenate([nodes for i in range(N)])\n",
    "    \n",
    "    batch = 0\n",
    "    \n",
    "    num_batches = N ** 2 / batch_size\n",
    "    \n",
    "    while True:\n",
    "        \n",
    "        if batch == 0:\n",
    "            np.random.shuffle(U)\n",
    "            np.random.shuffle(V)\n",
    "            batch_order = np.random.permutation(num_batches)\n",
    "            \n",
    "        batch_range = range(batch_order[batch] * batch_size, (batch_order[batch] + 1) * batch_size)\n",
    "\n",
    "        \n",
    "        u = U[batch_range]\n",
    "        v = V[batch_range]\n",
    "        \n",
    "#         u = np.random.choice(data, replace=True, size=batch_size)\n",
    "#         v = np.random.choice(data, replace=True, size=batch_size)\n",
    "        \n",
    "        yield [I[u], I[v], R[u, None], R[v, None], disk_radii_2d[u, v, None]], [A[u, v, None], X[u], X[v]]\n",
    "        \n",
    "        batch = (batch + 1) % num_batches \n",
    "        \n",
    "# def P_generator(batch_size):\n",
    "    \n",
    "    \n",
    "#     I = np.identity(N)\n",
    "    \n",
    "#     nodes = range(N)\n",
    "#     U = np.repeat(nodes, N)\n",
    "#     V = np.concatenate([nodes for i in range(N)])\n",
    "    \n",
    "#     batch = 0\n",
    "    \n",
    "#     num_batches = N ** 2 / batch_size\n",
    "    \n",
    "#     while True:\n",
    "        \n",
    "#         if batch == 0:\n",
    "#             np.random.shuffle(U)\n",
    "#             np.random.shuffle(V)\n",
    "#             batch_order = np.random.permutation(num_batches)\n",
    "            \n",
    "#         batch_range = range(batch_order[batch] * batch_size, (batch_order[batch] + 1) * batch_size)\n",
    "\n",
    "        \n",
    "#         u = U[batch_range]\n",
    "#         v = V[batch_range]\n",
    "        \n",
    "# #         u = np.random.choice(data, replace=True, size=batch_size)\n",
    "# #         v = np.random.choice(data, replace=True, size=batch_size)\n",
    "        \n",
    "#         yield [I[u], I[v], R[u, None], R[v, None], disk_radii_2d[u, v, None]], [A[u, v, None]]\n",
    "        \n",
    "#         batch = (batch + 1) % num_batches \n",
    "        \n",
    "# def Q_generator(batch_size):\n",
    "    \n",
    "#     I = np.identity(N)\n",
    "\n",
    "#     U = np.arange(N)\n",
    "    \n",
    "#     batch = 0\n",
    "    \n",
    "#     num_batches = N / batch_size\n",
    "    \n",
    "#     while True:\n",
    "        \n",
    "#         if batch == 0:\n",
    "#             np.random.shuffle(U)\n",
    "#             batch_order = np.random.permutation(num_batches)\n",
    "            \n",
    "#         batch_range = range(batch_order[batch] * batch_size, (batch_order[batch] + 1) * batch_size)\n",
    "\n",
    "        \n",
    "#         u = U[batch_range]\n",
    "        \n",
    "#         yield I[u], X[u]\n",
    "        \n",
    "#         batch = (batch + 1) % num_batches "
   ]
  },
  {
   "cell_type": "code",
   "execution_count": 110,
   "metadata": {
    "collapsed": true
   },
   "outputs": [],
   "source": [
    "from keras_tqdm import TQDMNotebookCallback\n",
    "tqdm = TQDMNotebookCallback(leave_outer=True, leave_inner=False)"
   ]
  },
  {
   "cell_type": "code",
   "execution_count": 111,
   "metadata": {
    "collapsed": true
   },
   "outputs": [],
   "source": [
    "batch_size = 1000"
   ]
  },
  {
   "cell_type": "code",
   "execution_count": 112,
   "metadata": {
    "collapsed": true
   },
   "outputs": [],
   "source": [
    "training_gen = generator(batch_size=batch_size)\n",
    "# P_gen = P_generator(batch_size=batch_size)\n",
    "# Q_gen = Q_generator(batch_size=batch_size)"
   ]
  },
  {
   "cell_type": "code",
   "execution_count": 113,
   "metadata": {
    "collapsed": true
   },
   "outputs": [],
   "source": [
    "alpha = 0.5"
   ]
  },
  {
   "cell_type": "code",
   "execution_count": 114,
   "metadata": {
    "collapsed": true
   },
   "outputs": [],
   "source": [
    "F.trainable=True\n",
    "W.trainable=True\n",
    "M.trainable=True"
   ]
  },
  {
   "cell_type": "code",
   "execution_count": 115,
   "metadata": {
    "collapsed": true
   },
   "outputs": [],
   "source": [
    "generative_model.compile(optimizer=\"adam\", loss=[\"binary_crossentropy\"] * 3, loss_weights=[1-alpha, alpha, alpha])"
   ]
  },
  {
   "cell_type": "code",
   "execution_count": 116,
   "metadata": {},
   "outputs": [
    {
     "data": {
      "application/vnd.jupyter.widget-view+json": {
       "model_id": "e2268ec63b204aa99223ee50d860c3a0"
      }
     },
     "metadata": {},
     "output_type": "display_data"
    },
    {
     "data": {
      "application/vnd.jupyter.widget-view+json": {
       "model_id": "89088aee2f464b8d96741bdd14c36bf3"
      }
     },
     "metadata": {},
     "output_type": "display_data"
    },
    {
     "data": {
      "application/vnd.jupyter.widget-view+json": {
       "model_id": "ac9710b73c054164b79e6297585feef2"
      }
     },
     "metadata": {},
     "output_type": "display_data"
    },
    {
     "data": {
      "application/vnd.jupyter.widget-view+json": {
       "model_id": "5138434d716a4934bda320d66eac5cdc"
      }
     },
     "metadata": {},
     "output_type": "display_data"
    },
    {
     "ename": "KeyboardInterrupt",
     "evalue": "",
     "output_type": "error",
     "traceback": [
      "\u001b[0;31m---------------------------------------------------------------------------\u001b[0m",
      "\u001b[0;31mKeyboardInterrupt\u001b[0m                         Traceback (most recent call last)",
      "\u001b[0;32m<ipython-input-116-983fd25e00d6>\u001b[0m in \u001b[0;36m<module>\u001b[0;34m()\u001b[0m\n\u001b[1;32m      1\u001b[0m generative_model.fit_generator(training_gen, steps_per_epoch=100, epochs=1000, verbose=0, #)\n\u001b[0;32m----> 2\u001b[0;31m                               callbacks=[ tqdm], )\n\u001b[0m",
      "\u001b[0;32m/home/david/miniconda2/lib/python2.7/site-packages/keras/legacy/interfaces.pyc\u001b[0m in \u001b[0;36mwrapper\u001b[0;34m(*args, **kwargs)\u001b[0m\n\u001b[1;32m     85\u001b[0m                 warnings.warn('Update your `' + object_name +\n\u001b[1;32m     86\u001b[0m                               '` call to the Keras 2 API: ' + signature)\n\u001b[0;32m---> 87\u001b[0;31m             \u001b[0;32mreturn\u001b[0m \u001b[0mfunc\u001b[0m\u001b[0;34m(\u001b[0m\u001b[0;34m*\u001b[0m\u001b[0margs\u001b[0m\u001b[0;34m,\u001b[0m \u001b[0;34m**\u001b[0m\u001b[0mkwargs\u001b[0m\u001b[0;34m)\u001b[0m\u001b[0;34m\u001b[0m\u001b[0m\n\u001b[0m\u001b[1;32m     88\u001b[0m         \u001b[0;32mreturn\u001b[0m \u001b[0mwrapper\u001b[0m\u001b[0;34m\u001b[0m\u001b[0m\n\u001b[1;32m     89\u001b[0m     \u001b[0;32mreturn\u001b[0m \u001b[0mlegacy_support\u001b[0m\u001b[0;34m\u001b[0m\u001b[0m\n",
      "\u001b[0;32m/home/david/miniconda2/lib/python2.7/site-packages/keras/engine/training.pyc\u001b[0m in \u001b[0;36mfit_generator\u001b[0;34m(self, generator, steps_per_epoch, epochs, verbose, callbacks, validation_data, validation_steps, class_weight, max_q_size, workers, pickle_safe, initial_epoch)\u001b[0m\n\u001b[1;32m   1874\u001b[0m                     outs = self.train_on_batch(x, y,\n\u001b[1;32m   1875\u001b[0m                                                \u001b[0msample_weight\u001b[0m\u001b[0;34m=\u001b[0m\u001b[0msample_weight\u001b[0m\u001b[0;34m,\u001b[0m\u001b[0;34m\u001b[0m\u001b[0m\n\u001b[0;32m-> 1876\u001b[0;31m                                                class_weight=class_weight)\n\u001b[0m\u001b[1;32m   1877\u001b[0m \u001b[0;34m\u001b[0m\u001b[0m\n\u001b[1;32m   1878\u001b[0m                     \u001b[0;32mif\u001b[0m \u001b[0;32mnot\u001b[0m \u001b[0misinstance\u001b[0m\u001b[0;34m(\u001b[0m\u001b[0mouts\u001b[0m\u001b[0;34m,\u001b[0m \u001b[0mlist\u001b[0m\u001b[0;34m)\u001b[0m\u001b[0;34m:\u001b[0m\u001b[0;34m\u001b[0m\u001b[0m\n",
      "\u001b[0;32m/home/david/miniconda2/lib/python2.7/site-packages/keras/engine/training.pyc\u001b[0m in \u001b[0;36mtrain_on_batch\u001b[0;34m(self, x, y, sample_weight, class_weight)\u001b[0m\n\u001b[1;32m   1618\u001b[0m             \u001b[0mins\u001b[0m \u001b[0;34m=\u001b[0m \u001b[0mx\u001b[0m \u001b[0;34m+\u001b[0m \u001b[0my\u001b[0m \u001b[0;34m+\u001b[0m \u001b[0msample_weights\u001b[0m\u001b[0;34m\u001b[0m\u001b[0m\n\u001b[1;32m   1619\u001b[0m         \u001b[0mself\u001b[0m\u001b[0;34m.\u001b[0m\u001b[0m_make_train_function\u001b[0m\u001b[0;34m(\u001b[0m\u001b[0;34m)\u001b[0m\u001b[0;34m\u001b[0m\u001b[0m\n\u001b[0;32m-> 1620\u001b[0;31m         \u001b[0moutputs\u001b[0m \u001b[0;34m=\u001b[0m \u001b[0mself\u001b[0m\u001b[0;34m.\u001b[0m\u001b[0mtrain_function\u001b[0m\u001b[0;34m(\u001b[0m\u001b[0mins\u001b[0m\u001b[0;34m)\u001b[0m\u001b[0;34m\u001b[0m\u001b[0m\n\u001b[0m\u001b[1;32m   1621\u001b[0m         \u001b[0;32mif\u001b[0m \u001b[0mlen\u001b[0m\u001b[0;34m(\u001b[0m\u001b[0moutputs\u001b[0m\u001b[0;34m)\u001b[0m \u001b[0;34m==\u001b[0m \u001b[0;36m1\u001b[0m\u001b[0;34m:\u001b[0m\u001b[0;34m\u001b[0m\u001b[0m\n\u001b[1;32m   1622\u001b[0m             \u001b[0;32mreturn\u001b[0m \u001b[0moutputs\u001b[0m\u001b[0;34m[\u001b[0m\u001b[0;36m0\u001b[0m\u001b[0;34m]\u001b[0m\u001b[0;34m\u001b[0m\u001b[0m\n",
      "\u001b[0;32m/home/david/miniconda2/lib/python2.7/site-packages/keras/backend/tensorflow_backend.pyc\u001b[0m in \u001b[0;36m__call__\u001b[0;34m(self, inputs)\u001b[0m\n\u001b[1;32m   2073\u001b[0m         \u001b[0msession\u001b[0m \u001b[0;34m=\u001b[0m \u001b[0mget_session\u001b[0m\u001b[0;34m(\u001b[0m\u001b[0;34m)\u001b[0m\u001b[0;34m\u001b[0m\u001b[0m\n\u001b[1;32m   2074\u001b[0m         updated = session.run(self.outputs + [self.updates_op],\n\u001b[0;32m-> 2075\u001b[0;31m                               feed_dict=feed_dict)\n\u001b[0m\u001b[1;32m   2076\u001b[0m         \u001b[0;32mreturn\u001b[0m \u001b[0mupdated\u001b[0m\u001b[0;34m[\u001b[0m\u001b[0;34m:\u001b[0m\u001b[0mlen\u001b[0m\u001b[0;34m(\u001b[0m\u001b[0mself\u001b[0m\u001b[0;34m.\u001b[0m\u001b[0moutputs\u001b[0m\u001b[0;34m)\u001b[0m\u001b[0;34m]\u001b[0m\u001b[0;34m\u001b[0m\u001b[0m\n\u001b[1;32m   2077\u001b[0m \u001b[0;34m\u001b[0m\u001b[0m\n",
      "\u001b[0;32m/home/david/miniconda2/lib/python2.7/site-packages/tensorflow/python/client/session.pyc\u001b[0m in \u001b[0;36mrun\u001b[0;34m(self, fetches, feed_dict, options, run_metadata)\u001b[0m\n\u001b[1;32m    893\u001b[0m     \u001b[0;32mtry\u001b[0m\u001b[0;34m:\u001b[0m\u001b[0;34m\u001b[0m\u001b[0m\n\u001b[1;32m    894\u001b[0m       result = self._run(None, fetches, feed_dict, options_ptr,\n\u001b[0;32m--> 895\u001b[0;31m                          run_metadata_ptr)\n\u001b[0m\u001b[1;32m    896\u001b[0m       \u001b[0;32mif\u001b[0m \u001b[0mrun_metadata\u001b[0m\u001b[0;34m:\u001b[0m\u001b[0;34m\u001b[0m\u001b[0m\n\u001b[1;32m    897\u001b[0m         \u001b[0mproto_data\u001b[0m \u001b[0;34m=\u001b[0m \u001b[0mtf_session\u001b[0m\u001b[0;34m.\u001b[0m\u001b[0mTF_GetBuffer\u001b[0m\u001b[0;34m(\u001b[0m\u001b[0mrun_metadata_ptr\u001b[0m\u001b[0;34m)\u001b[0m\u001b[0;34m\u001b[0m\u001b[0m\n",
      "\u001b[0;32m/home/david/miniconda2/lib/python2.7/site-packages/tensorflow/python/client/session.pyc\u001b[0m in \u001b[0;36m_run\u001b[0;34m(self, handle, fetches, feed_dict, options, run_metadata)\u001b[0m\n\u001b[1;32m   1122\u001b[0m     \u001b[0;32mif\u001b[0m \u001b[0mfinal_fetches\u001b[0m \u001b[0;32mor\u001b[0m \u001b[0mfinal_targets\u001b[0m \u001b[0;32mor\u001b[0m \u001b[0;34m(\u001b[0m\u001b[0mhandle\u001b[0m \u001b[0;32mand\u001b[0m \u001b[0mfeed_dict_tensor\u001b[0m\u001b[0;34m)\u001b[0m\u001b[0;34m:\u001b[0m\u001b[0;34m\u001b[0m\u001b[0m\n\u001b[1;32m   1123\u001b[0m       results = self._do_run(handle, final_targets, final_fetches,\n\u001b[0;32m-> 1124\u001b[0;31m                              feed_dict_tensor, options, run_metadata)\n\u001b[0m\u001b[1;32m   1125\u001b[0m     \u001b[0;32melse\u001b[0m\u001b[0;34m:\u001b[0m\u001b[0;34m\u001b[0m\u001b[0m\n\u001b[1;32m   1126\u001b[0m       \u001b[0mresults\u001b[0m \u001b[0;34m=\u001b[0m \u001b[0;34m[\u001b[0m\u001b[0;34m]\u001b[0m\u001b[0;34m\u001b[0m\u001b[0m\n",
      "\u001b[0;32m/home/david/miniconda2/lib/python2.7/site-packages/tensorflow/python/client/session.pyc\u001b[0m in \u001b[0;36m_do_run\u001b[0;34m(self, handle, target_list, fetch_list, feed_dict, options, run_metadata)\u001b[0m\n\u001b[1;32m   1319\u001b[0m     \u001b[0;32mif\u001b[0m \u001b[0mhandle\u001b[0m \u001b[0;32mis\u001b[0m \u001b[0mNone\u001b[0m\u001b[0;34m:\u001b[0m\u001b[0;34m\u001b[0m\u001b[0m\n\u001b[1;32m   1320\u001b[0m       return self._do_call(_run_fn, self._session, feeds, fetches, targets,\n\u001b[0;32m-> 1321\u001b[0;31m                            options, run_metadata)\n\u001b[0m\u001b[1;32m   1322\u001b[0m     \u001b[0;32melse\u001b[0m\u001b[0;34m:\u001b[0m\u001b[0;34m\u001b[0m\u001b[0m\n\u001b[1;32m   1323\u001b[0m       \u001b[0;32mreturn\u001b[0m \u001b[0mself\u001b[0m\u001b[0;34m.\u001b[0m\u001b[0m_do_call\u001b[0m\u001b[0;34m(\u001b[0m\u001b[0m_prun_fn\u001b[0m\u001b[0;34m,\u001b[0m \u001b[0mself\u001b[0m\u001b[0;34m.\u001b[0m\u001b[0m_session\u001b[0m\u001b[0;34m,\u001b[0m \u001b[0mhandle\u001b[0m\u001b[0;34m,\u001b[0m \u001b[0mfeeds\u001b[0m\u001b[0;34m,\u001b[0m \u001b[0mfetches\u001b[0m\u001b[0;34m)\u001b[0m\u001b[0;34m\u001b[0m\u001b[0m\n",
      "\u001b[0;32m/home/david/miniconda2/lib/python2.7/site-packages/tensorflow/python/client/session.pyc\u001b[0m in \u001b[0;36m_do_call\u001b[0;34m(self, fn, *args)\u001b[0m\n\u001b[1;32m   1325\u001b[0m   \u001b[0;32mdef\u001b[0m \u001b[0m_do_call\u001b[0m\u001b[0;34m(\u001b[0m\u001b[0mself\u001b[0m\u001b[0;34m,\u001b[0m \u001b[0mfn\u001b[0m\u001b[0;34m,\u001b[0m \u001b[0;34m*\u001b[0m\u001b[0margs\u001b[0m\u001b[0;34m)\u001b[0m\u001b[0;34m:\u001b[0m\u001b[0;34m\u001b[0m\u001b[0m\n\u001b[1;32m   1326\u001b[0m     \u001b[0;32mtry\u001b[0m\u001b[0;34m:\u001b[0m\u001b[0;34m\u001b[0m\u001b[0m\n\u001b[0;32m-> 1327\u001b[0;31m       \u001b[0;32mreturn\u001b[0m \u001b[0mfn\u001b[0m\u001b[0;34m(\u001b[0m\u001b[0;34m*\u001b[0m\u001b[0margs\u001b[0m\u001b[0;34m)\u001b[0m\u001b[0;34m\u001b[0m\u001b[0m\n\u001b[0m\u001b[1;32m   1328\u001b[0m     \u001b[0;32mexcept\u001b[0m \u001b[0merrors\u001b[0m\u001b[0;34m.\u001b[0m\u001b[0mOpError\u001b[0m \u001b[0;32mas\u001b[0m \u001b[0me\u001b[0m\u001b[0;34m:\u001b[0m\u001b[0;34m\u001b[0m\u001b[0m\n\u001b[1;32m   1329\u001b[0m       \u001b[0mmessage\u001b[0m \u001b[0;34m=\u001b[0m \u001b[0mcompat\u001b[0m\u001b[0;34m.\u001b[0m\u001b[0mas_text\u001b[0m\u001b[0;34m(\u001b[0m\u001b[0me\u001b[0m\u001b[0;34m.\u001b[0m\u001b[0mmessage\u001b[0m\u001b[0;34m)\u001b[0m\u001b[0;34m\u001b[0m\u001b[0m\n",
      "\u001b[0;32m/home/david/miniconda2/lib/python2.7/site-packages/tensorflow/python/client/session.pyc\u001b[0m in \u001b[0;36m_run_fn\u001b[0;34m(session, feed_dict, fetch_list, target_list, options, run_metadata)\u001b[0m\n\u001b[1;32m   1304\u001b[0m           return tf_session.TF_Run(session, options,\n\u001b[1;32m   1305\u001b[0m                                    \u001b[0mfeed_dict\u001b[0m\u001b[0;34m,\u001b[0m \u001b[0mfetch_list\u001b[0m\u001b[0;34m,\u001b[0m \u001b[0mtarget_list\u001b[0m\u001b[0;34m,\u001b[0m\u001b[0;34m\u001b[0m\u001b[0m\n\u001b[0;32m-> 1306\u001b[0;31m                                    status, run_metadata)\n\u001b[0m\u001b[1;32m   1307\u001b[0m \u001b[0;34m\u001b[0m\u001b[0m\n\u001b[1;32m   1308\u001b[0m     \u001b[0;32mdef\u001b[0m \u001b[0m_prun_fn\u001b[0m\u001b[0;34m(\u001b[0m\u001b[0msession\u001b[0m\u001b[0;34m,\u001b[0m \u001b[0mhandle\u001b[0m\u001b[0;34m,\u001b[0m \u001b[0mfeed_dict\u001b[0m\u001b[0;34m,\u001b[0m \u001b[0mfetch_list\u001b[0m\u001b[0;34m)\u001b[0m\u001b[0;34m:\u001b[0m\u001b[0;34m\u001b[0m\u001b[0m\n",
      "\u001b[0;31mKeyboardInterrupt\u001b[0m: "
     ]
    }
   ],
   "source": [
    "generative_model.fit_generator(training_gen, steps_per_epoch=100, epochs=1000, verbose=0, #)\n",
    "                              callbacks=[ tqdm], )"
   ]
  },
  {
   "cell_type": "code",
   "execution_count": 103,
   "metadata": {
    "collapsed": true
   },
   "outputs": [],
   "source": [
    "# models = [generative_model, Q_model, P_model]\n",
    "# generators = [training_gen, Q_gen, P_gen]"
   ]
  },
  {
   "cell_type": "code",
   "execution_count": 56,
   "metadata": {
    "scrolled": true
   },
   "outputs": [
    {
     "name": "stdout",
     "output_type": "stream",
     "text": [
      "\r",
      "          \r",
      "11/|/[loss: 0.683, P_loss: 0.166, Q_loss: 0.540, Q_loss: 0.540]  11%|| 11/100 [00:13<00:01, 46.79it/s]"
     ]
    }
   ],
   "source": [
    "# from sys import stdout\n",
    "\n",
    "# # block gradient ascent\n",
    "# for e in range(10):\n",
    "    \n",
    "#     for i in range(3):\n",
    "        \n",
    "#         if i == 0:\n",
    "#             F.trainable=True\n",
    "#             W.trainable=False\n",
    "#             M.trainable=False\n",
    "\n",
    "#         elif i == 1:\n",
    "#             F.trainable=False\n",
    "#             W.trainable=True\n",
    "#             M.trainable=False\n",
    "#         else:\n",
    "#             F.trainable=False\n",
    "#             W.trainable=False\n",
    "#             M.trainable=True\n",
    "\n",
    "#         generative_model.fit_generator(training_gen, steps_per_epoch=1, epochs=1, verbose=0, )\n",
    "\n",
    "    \n",
    "#     evaluation = generative_model.evaluate_generator(training_gen, steps=1)\n",
    "    \n",
    "#     if e % 100 == 0:\n",
    "#         print \"\\nEpoch:{} Loss:{}\".format(e, evaluation)\n",
    "    \n",
    "#     stdout.write(\"\\rEpoch:{} Loss:{}\".format(e, evaluation))\n"
   ]
  },
  {
   "cell_type": "code",
   "execution_count": 251,
   "metadata": {
    "collapsed": true
   },
   "outputs": [],
   "source": [
    "nodes = range(N)\n",
    "I = np.identity(N)\n",
    "\n",
    "U = np.repeat(nodes, N)\n",
    "V = np.concatenate([nodes for i in range(N)])"
   ]
  },
  {
   "cell_type": "code",
   "execution_count": 252,
   "metadata": {
    "collapsed": true
   },
   "outputs": [],
   "source": [
    "P_predictions = P_model.predict([I[U], I[V], R[U], R[V], disk_radii_2d[U, V]])"
   ]
  },
  {
   "cell_type": "code",
   "execution_count": 253,
   "metadata": {
    "collapsed": true
   },
   "outputs": [],
   "source": [
    "P_predictions = P_predictions.reshape(A.shape)"
   ]
  },
  {
   "cell_type": "code",
   "execution_count": 266,
   "metadata": {
    "collapsed": true
   },
   "outputs": [],
   "source": [
    "A_clip = np.clip(A, a_min=1e-6, a_max=1-1e-6)\n",
    "P_clip = np.clip(P_predictions, a_min=1e-6, a_max=1-1e-6)"
   ]
  },
  {
   "cell_type": "code",
   "execution_count": 124,
   "metadata": {
    "collapsed": true
   },
   "outputs": [],
   "source": [
    "\n"
   ]
  },
  {
   "cell_type": "code",
   "execution_count": 125,
   "metadata": {
    "collapsed": true
   },
   "outputs": [],
   "source": [
    "F_weights, F_bias = F.get_weights()\n",
    "W_weights, W_bias = W.get_weights()"
   ]
  },
  {
   "cell_type": "code",
   "execution_count": 132,
   "metadata": {},
   "outputs": [
    {
     "data": {
      "text/plain": [
       "<keras.callbacks.History at 0x7fc8741a2fd0>"
      ]
     },
     "execution_count": 132,
     "metadata": {},
     "output_type": "execute_result"
    }
   ],
   "source": [
    "Q_model.fit(np.identity(N), X, epochs=1000, verbose=0, callbacks=[])"
   ]
  },
  {
   "cell_type": "code",
   "execution_count": 133,
   "metadata": {},
   "outputs": [
    {
     "data": {
      "text/plain": [
       "0.53531014060974125"
      ]
     },
     "execution_count": 133,
     "metadata": {},
     "output_type": "execute_result"
    }
   ],
   "source": [
    "Q_model.history.history[\"loss\"][-1]"
   ]
  },
  {
   "cell_type": "code",
   "execution_count": 134,
   "metadata": {
    "collapsed": true
   },
   "outputs": [],
   "source": [
    "F_weights_new, F_bias_new = F.get_weights()\n",
    "W_weights_new, W_bias_new = W.get_weights()"
   ]
  },
  {
   "cell_type": "code",
   "execution_count": 135,
   "metadata": {},
   "outputs": [
    {
     "data": {
      "text/plain": [
       "False"
      ]
     },
     "execution_count": 135,
     "metadata": {},
     "output_type": "execute_result"
    }
   ],
   "source": [
    "np.allclose(F_weights, F_weights_new)"
   ]
  },
  {
   "cell_type": "code",
   "execution_count": 136,
   "metadata": {},
   "outputs": [
    {
     "data": {
      "text/plain": [
       "False"
      ]
     },
     "execution_count": 136,
     "metadata": {},
     "output_type": "execute_result"
    }
   ],
   "source": [
    "np.allclose(W_weights, W_weights_new)"
   ]
  },
  {
   "cell_type": "code",
   "execution_count": 58,
   "metadata": {
    "collapsed": true
   },
   "outputs": [],
   "source": [
    "angular_embedder = Model(u, theta_u)\n",
    "angular_embedder.compile(loss=\"mse\", optimizer=\"adam\")"
   ]
  },
  {
   "cell_type": "code",
   "execution_count": 59,
   "metadata": {},
   "outputs": [],
   "source": [
    "# angular_embedder.fit(np.identity(N), thetas_true, epochs=10000, verbose=0, callbacks=[tqdm])"
   ]
  },
  {
   "cell_type": "code",
   "execution_count": 60,
   "metadata": {},
   "outputs": [],
   "source": [
    "thetas = angular_embedder.predict(np.identity(N))\n",
    "thetas = thetas.flatten()"
   ]
  },
  {
   "cell_type": "code",
   "execution_count": 61,
   "metadata": {},
   "outputs": [],
   "source": [
    "# plt.figure(figsize=(15, 15))\n",
    "# plt.scatter(thetas_true, thetas)\n",
    "# plt.xlabel(\"true theta\")\n",
    "# plt.ylabel(\"predicted theta\")"
   ]
  },
  {
   "cell_type": "code",
   "execution_count": 117,
   "metadata": {
    "collapsed": true
   },
   "outputs": [],
   "source": [
    "community_model = Model(u, F_u)\n",
    "community_predictions = community_model.predict(np.identity(N))"
   ]
  },
  {
   "cell_type": "code",
   "execution_count": 118,
   "metadata": {},
   "outputs": [
    {
     "data": {
      "text/plain": [
       "array([ 0.69453305,  1.43283808,  7.91871405,  0.57885772,  4.949543  ,\n",
       "        2.58968234,  5.9139924 ,  9.72480774,  5.85948563,  0.88396865,\n",
       "        4.65690231,  9.01104164,  1.59238696,  3.88026953,  7.58635664,\n",
       "        7.99494028,  5.87943602,  8.93835354,  1.96831501,  2.50646162,\n",
       "        3.21395159,  6.74945068,  7.51004028,  5.57040501,  4.47723579,\n",
       "        1.10347021,  3.9278965 ,  0.68775123,  1.51442552,  3.77472377,\n",
       "        4.4122982 ,  3.54514003,  9.09152031,  8.47003555,  1.7817198 ,\n",
       "        7.39026499,  4.91387463,  7.76240206,  5.01799297,  8.71160412,\n",
       "        5.36801386,  8.69087887,  9.73563576,  4.31653976,  9.68086815,\n",
       "        0.40723965,  8.96957016,  3.63844895,  3.08981609,  8.31411839,\n",
       "        0.41923136,  0.08004429,  8.93023205,  5.32885551,  3.27683091,\n",
       "        5.10650349,  6.17431068,  4.95692396,  8.61428452,  8.58050251,\n",
       "        9.02120399,  3.39464474,  7.45004845,  1.40970075,  7.85937214,\n",
       "        8.60671425,  6.23261356,  3.78289413,  4.37539911,  1.52827775,\n",
       "        4.47144604,  0.31696126,  4.6526351 ,  5.45268822,  4.84737158,\n",
       "        3.20836782,  4.21765852,  7.63181973,  7.38679314,  2.58418465,\n",
       "        8.48986721,  4.62845325,  9.67062664,  1.3912971 ,  7.20188475,\n",
       "        7.71190214,  9.50319672,  8.21339321,  8.14732265,  7.42774343,\n",
       "        7.20419598,  4.13711071,  1.76022184,  6.37916565,  9.34540272,\n",
       "        4.90713882,  0.42508233,  2.21723127,  3.61119103,  4.84895754], dtype=float32)"
      ]
     },
     "execution_count": 118,
     "metadata": {},
     "output_type": "execute_result"
    }
   ],
   "source": [
    "community_predictions[0]"
   ]
  },
  {
   "cell_type": "code",
   "execution_count": 119,
   "metadata": {
    "collapsed": true
   },
   "outputs": [],
   "source": [
    "F_weights, F_bias = F.get_weights()"
   ]
  },
  {
   "cell_type": "code",
   "execution_count": 121,
   "metadata": {},
   "outputs": [
    {
     "data": {
      "text/plain": [
       "array([ 0.64190066,  1.35556293,  7.88148689,  0.56962705,  4.94159842,\n",
       "        2.5853436 ,  5.87047148,  9.70401955,  5.80120468,  0.78906357,\n",
       "        4.57259226,  8.97481346,  1.58513653,  3.7630055 ,  7.49220467,\n",
       "        7.94259119,  5.84952974,  8.93108654,  1.95124149,  2.46781158,\n",
       "        3.17987752,  6.69611788,  7.45971251,  5.55026484,  4.39826679,\n",
       "        1.09363818,  3.90301895,  0.68179631,  1.40785253,  3.74778152,\n",
       "        4.34456968,  3.51161695,  9.08740807,  8.45590782,  1.77825367,\n",
       "        7.36690092,  4.88874817,  7.70331192,  4.93888903,  8.64080143,\n",
       "        5.3592968 ,  8.66859818,  9.63065434,  4.30418587,  9.63270378,\n",
       "        0.34957352,  8.89278698,  3.61901975,  3.08556342,  8.29228306,\n",
       "        0.38187709,  0.0645456 ,  8.8850975 ,  5.28314066,  3.23810101,\n",
       "        5.07832098,  6.10289049,  4.91715908,  8.55778408,  8.57189655,\n",
       "        9.00648689,  3.38539362,  7.42528343,  1.40023184,  7.82656145,\n",
       "        8.58667278,  6.23037434,  3.77278042,  4.37010384,  1.5240562 ,\n",
       "        4.43230629,  0.27669764,  4.55515575,  5.44858074,  4.84231329,\n",
       "        3.187639  ,  4.12282228,  7.57307053,  7.26378918,  2.48350978,\n",
       "        8.48790836,  4.61807203,  9.65037537,  1.26677096,  7.17620945,\n",
       "        7.65319872,  9.48297787,  8.13014221,  8.10170937,  7.42233896,\n",
       "        7.1937027 ,  4.10495329,  1.75416064,  6.28715467,  9.3050642 ,\n",
       "        4.9010067 ,  0.41809276,  2.20219159,  3.60805941,  4.84439659], dtype=float32)"
      ]
     },
     "execution_count": 121,
     "metadata": {},
     "output_type": "execute_result"
    }
   ],
   "source": [
    "F_weights[0]"
   ]
  },
  {
   "cell_type": "code",
   "execution_count": 123,
   "metadata": {},
   "outputs": [
    {
     "data": {
      "text/plain": [
       "array([ 0.05263239,  0.0772752 ,  0.0372273 ,  0.00923066,  0.00794482,\n",
       "        0.00433879,  0.04352076,  0.02078818,  0.05828103,  0.0949051 ,\n",
       "        0.08430997,  0.03622777,  0.00725044,  0.11726411,  0.09415175,\n",
       "        0.05234927,  0.02990611,  0.00726711,  0.01707353,  0.03864999,\n",
       "        0.03407399,  0.05333273,  0.05032764,  0.02013999,  0.07896881,\n",
       "        0.00983207,  0.02487752,  0.00595495,  0.10657305,  0.02694226,\n",
       "        0.06772868,  0.03352301,  0.00411234,  0.014128  ,  0.00346612,\n",
       "        0.02336422,  0.02512662,  0.0590903 ,  0.07910406,  0.07080255,\n",
       "        0.0087171 ,  0.02228097,  0.10498121,  0.01235383,  0.0481647 ,\n",
       "        0.05766613,  0.07678308,  0.01942923,  0.00425262,  0.02183551,\n",
       "        0.03735428,  0.01549869,  0.04513447,  0.04571484,  0.03872994,\n",
       "        0.02818253,  0.07142015,  0.03976497,  0.05650087,  0.00860598,\n",
       "        0.01471754,  0.00925109,  0.02476513,  0.00946888,  0.03281055,\n",
       "        0.02004194,  0.00223923,  0.01011361,  0.00529538,  0.00422162,\n",
       "        0.03913957,  0.04026363,  0.09747925,  0.0041074 ,  0.00505848,\n",
       "        0.02072876,  0.09483638,  0.05874902,  0.12300404,  0.10067477,\n",
       "        0.0019586 ,  0.01038133,  0.02025157,  0.1245262 ,  0.02567535,\n",
       "        0.05870362,  0.02021923,  0.08325054,  0.04561315,  0.00540466,\n",
       "        0.01049305,  0.03215741,  0.00606114,  0.09201121,  0.04033858,\n",
       "        0.00613205,  0.00698957,  0.01503978,  0.00313162,  0.00456096], dtype=float32)"
      ]
     },
     "execution_count": 123,
     "metadata": {},
     "output_type": "execute_result"
    }
   ],
   "source": [
    "F_bias"
   ]
  },
  {
   "cell_type": "code",
   "execution_count": 86,
   "metadata": {},
   "outputs": [
    {
     "data": {
      "text/plain": [
       "array([[  2.9810667 ,  10.13114572,   3.40173125, ...,  11.8460393 ,\n",
       "          9.73873973,  17.92929649],\n",
       "       [  2.55676627,   4.73620057,   7.84982538, ...,  11.00316381,\n",
       "         10.17182231,  16.674263  ],\n",
       "       [ 11.39062786,   2.6421237 ,   4.52560544, ...,   5.57786703,\n",
       "         13.53134537,  16.6434145 ],\n",
       "       ..., \n",
       "       [  5.48220396,   4.75466728,   6.70077801, ...,  10.53860521,\n",
       "         17.47498894,  15.41808605],\n",
       "       [  6.34422207,   5.19214392,   6.3551271 , ...,   4.96452332,\n",
       "         14.71946716,  16.81414795],\n",
       "       [  1.72284961,  10.35521245,  12.86026049, ...,   3.9082706 ,\n",
       "         16.50823116,  18.84808254]])"
      ]
     },
     "execution_count": 86,
     "metadata": {},
     "output_type": "execute_result"
    }
   ],
   "source": [
    "np.identity(N).dot(F_weights) + F_bias"
   ]
  },
  {
   "cell_type": "code",
   "execution_count": 83,
   "metadata": {},
   "outputs": [
    {
     "data": {
      "text/plain": [
       "1.5471983"
      ]
     },
     "execution_count": 83,
     "metadata": {},
     "output_type": "execute_result"
    }
   ],
   "source": [
    "F_bias[0]"
   ]
  },
  {
   "cell_type": "code",
   "execution_count": 66,
   "metadata": {
    "collapsed": true
   },
   "outputs": [],
   "source": [
    "Q_model = Model(u, Q_u)"
   ]
  },
  {
   "cell_type": "code",
   "execution_count": 67,
   "metadata": {
    "collapsed": true
   },
   "outputs": [],
   "source": [
    "predicted_attributes = Q_model.predict(np.identity(N))"
   ]
  },
  {
   "cell_type": "code",
   "execution_count": 68,
   "metadata": {
    "collapsed": true
   },
   "outputs": [],
   "source": [
    "coords = np.column_stack([R * np.cos(thetas), R * np.sin(thetas)])"
   ]
  },
  {
   "cell_type": "code",
   "execution_count": 69,
   "metadata": {},
   "outputs": [
    {
     "data": {
      "text/plain": [
       "<matplotlib.collections.PathCollection at 0x7f4f3efdc590>"
      ]
     },
     "execution_count": 69,
     "metadata": {},
     "output_type": "execute_result"
    },
    {
     "data": {
      "image/png": "[encoded data removed]",
      "text/plain": [
       "<matplotlib.figure.Figure at 0x7f4f3f0ac690>"
      ]
     },
     "metadata": {},
     "output_type": "display_data"
    }
   ],
   "source": [
    "plt.figure(figsize=(15, 15))\n",
    "# l = N\n",
    "# for label, i, j in zip(G.nodes(), coords[:l, 0], coords[:l, 1]):\n",
    "#     plt.annotate(\n",
    "#         label,\n",
    "#         xy=(i, j), xytext=(-20, 20),\n",
    "#         textcoords='offset points', ha='right', va='bottom',\n",
    "#         bbox=dict(boxstyle='round,pad=0.5', fc='yellow', alpha=0.5),\n",
    "#         arrowprops=dict(arrowstyle = '->', connectionstyle='arc3,rad=0'))\n",
    "    \n",
    "# for label, i, j in zip(range(C), centre_coords[:, 0], centre_coords[:, 1]):\n",
    "#     plt.annotate(\n",
    "#         label,\n",
    "#         xy=(i, j), xytext=(-20, 20),\n",
    "#         textcoords='offset points', ha='right', va='bottom',\n",
    "#         bbox=dict(boxstyle='round,pad=0.5', fc='red', alpha=0.5),\n",
    "#         arrowprops=dict(arrowstyle = '->', connectionstyle='arc3,rad=0'))\n",
    "\n",
    "# nodes = np.array(G.nodes())\n",
    "# for n1, n2 in G.edges():\n",
    "#     i, = np.where(nodes == n1)\n",
    "#     j, = np.where(nodes == n2)\n",
    "#     plt.plot(coords[(i, j), 0], coords[(i, j), 1], c=\"k\", \n",
    "#              linewidth = 0.3)\n",
    "\n",
    "plt.scatter(coords[:,0], coords[:,1], c = community_predictions.argmax(axis=1))"
   ]
  },
  {
   "cell_type": "code",
   "execution_count": 57,
   "metadata": {
    "collapsed": true
   },
   "outputs": [],
   "source": [
    "preds = community_predictions.argmax(axis=1)"
   ]
  },
  {
   "cell_type": "code",
   "execution_count": 58,
   "metadata": {},
   "outputs": [
    {
     "name": "stdout",
     "output_type": "stream",
     "text": [
      "0\n",
      "[ 17  18  25  45  64  70  81  96  99 109 110 117 133 139 142 169 171 176\n",
      " 183 196 197 204 238 244 277 285 287 290 292 293 318 321 322 331 334 349\n",
      " 363 369 383 389 402 407 414 430 445 457 465 498]\n",
      "[17, 18, 25, 45, 64, 70, 81, 96, 99, 109, 110, 117, 133, 139, 142, 169, 171, 176, 183, 196, 197, 204, 238, 244, 277, 285, 287, 290, 292, 293, 318, 321, 322, 331, 334, 349, 363, 369, 383, 389, 402, 407, 414, 430, 445, 457, 465, 498]\n",
      "False\n",
      "\n",
      "2\n",
      "[ 57 148 177 227 390 447 495]\n",
      "[57, 148, 177, 227, 390, 447, 495]\n",
      "False\n",
      "\n",
      "3\n",
      "[ 34 165 190 195 209 219 286 316 378 400 426 487]\n",
      "[34, 165, 190, 195, 209, 219, 286, 316, 378, 400, 426, 487]\n",
      "False\n",
      "\n",
      "7\n",
      "[ 36  54  69 105 123 178 180 228 289 408 463 469 482]\n",
      "[36, 54, 69, 105, 123, 178, 180, 228, 289, 408, 463, 469, 482]\n",
      "False\n",
      "\n",
      "16\n",
      "[  4   9  55  63  65  66  84 101 132 151 157 170 185 223 272 309 313 325\n",
      " 338 352 373 399 461 494 496]\n",
      "[4, 9, 55, 63, 65, 66, 84, 101, 132, 151, 157, 170, 185, 223, 272, 309, 313, 325, 338, 352, 373, 399, 461, 494, 496]\n",
      "False\n",
      "\n",
      "19\n",
      "[  0  48  49  73  74  97  98 114 127 143 179 237 254 256 263 264 265 297\n",
      " 299 300 332 336 339 355 371 372 375 385 396 413 428 458 491 497]\n",
      "[0, 48, 49, 73, 74, 97, 98, 114, 127, 143, 179, 237, 254, 256, 263, 264, 265, 297, 299, 300, 332, 336, 339, 355, 371, 372, 375, 385, 396, 413, 428, 458, 491, 497]\n",
      "False\n",
      "\n",
      "32\n",
      "[279]\n",
      "[279]\n",
      "True\n",
      "\n",
      "36\n",
      "[ 37  62 100 108 119 131 155 212 269 386 450 478]\n",
      "[37, 62, 100, 108, 119, 131, 155, 212, 269, 386, 450, 478]\n",
      "False\n",
      "\n",
      "38\n",
      "[  2   6  22 146 247 268 364 397 404 462]\n",
      "[2, 6, 22, 146, 247, 268, 364, 397, 404, 462]\n",
      "False\n",
      "\n",
      "39\n",
      "[ 51 160 213 340]\n",
      "[51, 160, 213, 340]\n",
      "False\n",
      "\n",
      "48\n",
      "[  7   8  35  79 126 161 202 225 234 243 245 250 267 282 323 344 357 418\n",
      " 442 452 466 481]\n",
      "[7, 8, 35, 79, 126, 161, 202, 225, 234, 243, 245, 250, 267, 282, 323, 344, 357, 418, 442, 452, 466, 481]\n",
      "False\n",
      "\n",
      "50\n",
      "[  1  16  39  42  43  44  59  68  80  85  94 107 111 113 115 116 124 128\n",
      " 145 154 159 162 188 194 205 216 217 220 232 235 248 252 259 274 283 296\n",
      " 298 306 310 326 330 333 337 345 348 356 365 388 391 412 419 423 425 434\n",
      " 438 446 451 471 485 489 492]\n",
      "[1, 16, 39, 42, 43, 44, 59, 68, 80, 85, 94, 107, 111, 113, 115, 116, 124, 128, 145, 154, 159, 162, 188, 194, 205, 216, 217, 220, 232, 235, 248, 252, 259, 274, 283, 296, 298, 306, 310, 326, 330, 333, 337, 345, 348, 356, 365, 388, 391, 412, 419, 423, 425, 434, 438, 446, 451, 471, 485, 489, 492]\n",
      "False\n",
      "\n",
      "53\n",
      "[ 10  12  13  19  23  28  32  61  71  77  88  91  92  93 103 120 121 130\n",
      " 136 140 150 158 163 164 168 173 174 184 193 203 210 215 230 246 249 315\n",
      " 327 342 353 366 370 374 380 381 382 384 392 395 406 409 411 415 429 435\n",
      " 440 441 453 470 473 483]\n",
      "[10, 12, 13, 19, 23, 28, 32, 61, 71, 77, 88, 91, 92, 93, 103, 120, 121, 130, 136, 140, 150, 158, 163, 164, 168, 173, 174, 184, 193, 203, 210, 215, 230, 246, 249, 315, 327, 342, 353, 366, 370, 374, 380, 381, 382, 384, 392, 395, 406, 409, 411, 415, 429, 435, 440, 441, 453, 470, 473, 483]\n",
      "False\n",
      "\n",
      "59\n",
      "[  5  14  29  31  33  50 122 134 135 137 138 152 167 175 182 186 191 207\n",
      " 208 295 305 319 328 343 361 368 379 405 417 421 424 427 432 433 436 439\n",
      " 443 474 476 484 486 490]\n",
      "[5, 14, 29, 31, 33, 50, 122, 134, 135, 137, 138, 152, 167, 175, 182, 186, 191, 207, 208, 295, 305, 319, 328, 343, 361, 368, 379, 405, 417, 421, 424, 427, 432, 433, 436, 439, 443, 474, 476, 484, 486, 490]\n",
      "False\n",
      "\n",
      "60\n",
      "[ 90 229 231 308 335 377 472]\n",
      "[90, 229, 231, 308, 335, 377, 472]\n",
      "False\n",
      "\n",
      "64\n",
      "[192 271 311 359 477]\n",
      "[192, 271, 311, 359, 477]\n",
      "False\n",
      "\n",
      "65\n",
      "[ 78  95 141 307 317 420]\n",
      "[78, 95, 141, 307, 317, 420]\n",
      "False\n",
      "\n",
      "70\n",
      "[ 11  21  24  26  30  52  53  67  72  83  86 104 118 125 129 144 149 156\n",
      " 166 187 221 222 224 236 242 251 258 261 262 266 276 280 291 351 354 360\n",
      " 367 387 394 403 437 449 460 468 479 488]\n",
      "[11, 21, 24, 26, 30, 52, 53, 67, 72, 83, 86, 104, 118, 125, 129, 144, 149, 156, 166, 187, 221, 222, 224, 236, 242, 251, 258, 261, 262, 266, 276, 280, 291, 351, 354, 360, 367, 387, 394, 403, 437, 449, 460, 468, 479, 488]\n",
      "False\n",
      "\n",
      "81\n",
      "[ 15  20  38  41  75  76  82  87 102 106 147 181 199 200 201 226 255 270\n",
      " 275 278 284 294 303 347 350 393 416 444 475]\n",
      "[15, 20, 38, 41, 75, 76, 82, 87, 102, 106, 147, 181, 199, 200, 201, 226, 255, 270, 275, 278, 284, 294, 303, 347, 350, 393, 416, 444, 475]\n",
      "False\n",
      "\n",
      "90\n",
      "[  3  46 112 189 214 233 239 260 362 376 398 448 455 456 467 480]\n",
      "[3, 46, 112, 189, 214, 233, 239, 260, 362, 376, 398, 448, 455, 456, 467, 480]\n",
      "False\n",
      "\n",
      "98\n",
      "[ 47  60  89 153 240 241 273 281 312 314 329 454 459 464 499]\n",
      "[47, 60, 89, 153, 240, 241, 273, 281, 312, 314, 329, 454, 459, 464, 499]\n",
      "False\n",
      "\n",
      "99\n",
      "[ 27  40  56  58 172 198 206 211 218 253 257 288 301 302 304 320 324 341\n",
      " 346 358 401 410 422 431 493]\n",
      "[27, 40, 56, 58, 172, 198, 206, 211, 218, 253, 257, 288, 301, 302, 304, 320, 324, 341, 346, 358, 401, 410, 422, 431, 493]\n",
      "False\n",
      "\n"
     ]
    }
   ],
   "source": [
    "for x in np.unique(preds):\n",
    "    \n",
    "    nodes = np.where(preds==x)[0]\n",
    "    print x\n",
    "    print nodes\n",
    "    print [G.nodes()[n] for n in nodes]\n",
    "    print nx.is_connected(G.subgraph([G.nodes()[n] for n in nodes]))\n",
    "    print"
   ]
  },
  {
   "cell_type": "code",
   "execution_count": 58,
   "metadata": {},
   "outputs": [
    {
     "data": {
      "text/plain": [
       "array([  4.11995687e+00,   2.86884930e+00,   6.04025018e+00,\n",
       "         8.53736377e-01,   1.03341878e+00,   5.62880341e+00,\n",
       "         2.03727499e+00,   6.21162880e+00,   5.85157865e+00,\n",
       "         1.33716382e+00,   2.21982868e+00,   7.05579890e-01,\n",
       "         4.14763337e-01,   5.03968005e+00,   1.44106939e+00,\n",
       "         3.22367218e+00,   9.56704349e-01,   5.46907047e+00,\n",
       "         6.14563823e+00,   5.87751869e-01,   9.24841578e-01,\n",
       "         5.50215508e+00,   1.90107984e+00,   4.47657653e+00,\n",
       "         5.84446173e+00,   1.42328987e+00,   3.79876412e+00,\n",
       "         4.86199057e+00,   6.29178827e-01,   5.13505632e+00,\n",
       "         2.63963038e+00,   2.70680536e+00,   5.37771397e+00,\n",
       "         5.28641479e+00,   3.78988913e-01,   2.40687433e+00,\n",
       "         1.19760506e-01,   1.03777322e+00,   3.75288146e+00,\n",
       "         4.92899972e+00,   9.60102910e-01,   3.69667837e+00,\n",
       "         2.83831947e+00,   2.60376340e+00,   9.25806778e-01,\n",
       "         1.34064356e+00,   5.38693931e+00,   3.81814293e+00,\n",
       "         1.47176405e+00,   2.46493947e+00,   2.01240860e-01,\n",
       "         2.43318300e+00,   5.46218548e+00,   1.34841751e+00,\n",
       "         1.20557309e+00,   4.15377700e+00,   5.42350363e+00,\n",
       "         5.50161344e+00,   1.22261281e+00,   1.28751559e+00,\n",
       "         5.41355190e+00,   4.36836775e+00,   2.61423102e+00,\n",
       "         2.86406564e-01,   2.54997277e+00,   6.14302676e+00,\n",
       "         4.04330793e+00,   5.35143713e+00,   3.08592196e+00,\n",
       "         2.98430974e+00,   4.48348879e+00,   3.14744107e+00,\n",
       "         1.24275000e+00,   4.78525624e+00,   4.84763119e-01,\n",
       "         2.31042628e+00,   7.33415254e-02,   4.16322891e+00,\n",
       "         5.47598356e+00,   3.39944450e+00,   5.53273791e+00,\n",
       "         2.45675138e+00,   8.21568226e-01,   5.60849071e+00,\n",
       "         1.58177843e+00,   2.52844649e+00,   1.80034237e+00,\n",
       "         2.76210507e+00,   3.65179067e+00,   5.57625628e+00,\n",
       "         3.33312079e+00,   4.69086541e+00,   9.18536562e-01,\n",
       "         1.76434228e+00,   2.13000960e+00,   4.21760236e+00,\n",
       "         4.50734074e+00,   5.72616622e+00,   6.04234240e+00,\n",
       "         1.37885653e+00,   6.92121553e-01,   4.85984674e+00,\n",
       "         1.33238513e+00,   6.08941738e+00,   3.12674884e+00,\n",
       "         2.36658351e+00,   4.64176448e+00,   1.14557248e+00,\n",
       "         4.17070896e-01,   2.53325878e+00,   4.41427019e+00,\n",
       "         2.52997918e+00,   4.72674555e+00,   5.95356835e+00,\n",
       "         2.32456500e+00,   1.34499737e+00,   3.37627879e-01,\n",
       "         5.01109720e-01,   6.07474268e+00,   4.49968184e+00,\n",
       "         3.38867957e+00,   6.26985982e+00,   5.03820897e-01,\n",
       "         7.41893464e-01,   3.32022472e+00,   2.42492623e+00,\n",
       "         4.86335173e+00,   1.69573803e+00,   1.42636808e+00,\n",
       "         6.03788843e+00,   1.98803303e+00,   1.59727248e+00,\n",
       "         2.20404018e+00,   4.30150197e+00,   2.34112062e+00,\n",
       "         2.07452605e+00,   2.74758540e+00,   1.89610263e+00,\n",
       "         4.20291501e+00,   2.12068069e+00,   3.98927190e+00,\n",
       "         3.81312679e+00,   3.36977339e+00,   8.45681351e-01,\n",
       "         3.64914521e+00,   3.37173758e+00,   5.93291089e+00,\n",
       "         2.82890281e+00,   1.23363913e+00,   1.44382993e+00,\n",
       "         3.80040536e+00,   1.09305228e+00,   2.53231376e+00,\n",
       "         5.84693177e+00,   1.35417345e-01,   4.17208131e+00,\n",
       "         4.38577697e+00,   5.74368577e+00,   3.24055861e+00,\n",
       "         2.88287522e+00,   3.52309913e+00,   2.08446645e+00,\n",
       "         3.16211759e+00,   3.17504767e+00,   5.59793670e+00,\n",
       "         3.48915243e+00,   1.11817545e+00,   1.14494272e+00,\n",
       "         4.35959579e+00,   5.37058428e+00,   1.48536517e+00,\n",
       "         2.21170336e+00,   4.06880062e-01,   6.38416505e-01,\n",
       "         5.33765215e+00,   4.17680636e+00,   6.18646135e+00,\n",
       "         4.69167084e+00,   2.56075141e+00,   2.61600603e+00,\n",
       "         2.97536485e+00,   2.37326428e-01,   4.43736020e+00,\n",
       "         3.74563831e+00,   3.31084803e+00,   8.95480053e-01,\n",
       "         1.55357622e+00,   4.82971588e+00,   2.10925873e+00,\n",
       "         5.48665751e+00,   4.62032915e+00,   1.23242901e+00,\n",
       "         1.05859225e+00,   3.16540083e+00,   2.47052598e-01,\n",
       "         1.11368567e+00,   2.47384444e+00,   3.04759065e+00,\n",
       "         3.58907679e+00,   1.90128115e+00,   5.57133178e+00,\n",
       "         3.46842289e+00,   8.96597090e-01,   4.29841609e+00,\n",
       "         1.83189279e+00,   2.99370764e+00,   4.79603709e+00,\n",
       "         2.66236532e+00,   4.64959699e+00,   4.99622732e+00,\n",
       "         4.12185871e+00,   2.74438058e+00,   6.14421418e+00,\n",
       "         5.76470173e+00,   6.13287345e+00,   2.53631484e+00,\n",
       "         1.66612901e+00,   4.51861288e+00,   4.53626769e+00,\n",
       "         3.36013318e+00,   5.24908574e+00,   5.10636808e+00,\n",
       "         4.48623643e-01,   1.01072144e-01,   4.91442578e+00,\n",
       "         6.15947505e+00,   3.80764003e+00,   4.20825990e+00,\n",
       "         4.58082410e+00,   2.90445433e+00,   6.87032292e-01,\n",
       "         2.68602025e+00,   2.43194208e+00,   5.34204876e+00,\n",
       "         5.89013721e+00,   1.21968220e-01,   1.85620518e+00,\n",
       "         7.02652487e-01,   1.19650514e+00,   3.48118624e+00,\n",
       "         5.04540556e+00,   3.66965946e+00,   4.95921803e+00,\n",
       "         2.43609937e+00,   9.72460100e-01,   4.51297499e+00,\n",
       "         9.12203848e-01,   1.40308059e+00,   6.19361969e+00,\n",
       "         5.74365074e+00,   2.55885715e+00,   3.91022850e+00,\n",
       "         5.05071055e+00,   1.90132004e+00,   3.50968573e+00,\n",
       "         6.18103958e+00,   4.75467874e-01,   1.64803872e-01,\n",
       "         4.17987378e+00,   1.57404928e+00,   6.65701728e-01,\n",
       "         1.13092712e+00,   1.02187446e+00,   2.61712071e+00,\n",
       "         3.35064359e+00,   2.61358336e+00,   4.14786080e+00,\n",
       "         3.56925876e+00,   5.50996737e+00,   1.24826815e+00,\n",
       "         3.60534649e+00,   6.26845442e+00,   4.21501910e+00,\n",
       "         6.13373155e+00,   3.09693921e+00,   2.59579808e+00,\n",
       "         2.02952035e-01,   2.45883937e+00,   1.24580293e+00,\n",
       "         2.16352012e-01,   9.13996227e-01,   1.89006064e+00,\n",
       "         2.53692275e-02,   5.74804821e-01,   2.98954528e+00,\n",
       "         4.23948172e+00,   6.12317798e-01,   3.43117183e+00,\n",
       "         1.09696100e+00,   2.13543540e-01,   2.05119336e+00,\n",
       "         4.74956588e+00,   3.49538401e+00,   4.40142526e+00,\n",
       "         5.82754530e+00,   1.97432303e+00,   1.97568437e-01,\n",
       "         2.67183894e-01,   5.59625138e+00,   1.61476701e+00,\n",
       "         3.73192292e+00,   4.81442334e+00,   2.61743193e+00,\n",
       "         2.01655553e+00,   1.34916517e+00,   6.81469612e-01,\n",
       "         5.07688615e+00,   4.74098361e+00,   4.16493226e+00,\n",
       "         3.83939423e+00,   4.59041992e+00,   5.95499173e-01,\n",
       "         2.21875060e+00,   1.93631195e+00,   4.85064945e+00,\n",
       "         3.79586502e+00,   3.33343790e-02,   2.96599948e+00,\n",
       "         1.82898911e+00,   8.66455806e-01,   3.41624699e+00,\n",
       "         6.26386015e+00,   6.26922998e+00,   5.53493549e+00,\n",
       "         5.08984296e+00,   1.59383265e+00,   2.22308423e+00,\n",
       "         2.95394490e+00,   3.18807628e+00,   7.41499661e-02,\n",
       "         1.10521530e+00,   2.92484036e+00,   2.95866303e-01,\n",
       "         2.43599810e+00,   3.14395079e+00,   5.52503175e-01,\n",
       "         3.54487939e+00,   3.00398105e+00,   1.99140445e+00,\n",
       "         3.22335177e+00,   3.54783709e+00,   3.42669603e+00,\n",
       "         3.43546512e-01,   3.58135559e-01,   4.96686887e+00,\n",
       "         3.90182104e+00,   5.69608918e+00,   3.19406169e-01,\n",
       "         2.50150874e+00,   2.78509757e+00,   4.19595151e-01,\n",
       "         4.20417842e+00,   5.17706261e+00,   3.67109637e-03,\n",
       "         4.91393008e+00,   2.45429495e+00,   5.39656769e+00,\n",
       "         1.25844097e-01,   4.52225801e+00,   4.92729709e+00,\n",
       "         6.83505463e-01,   5.52894822e+00,   4.53350333e+00,\n",
       "         1.83181802e+00,   5.24503708e+00,   3.56110469e+00,\n",
       "         5.71224597e+00,   3.20555692e+00,   8.68857981e-01,\n",
       "         5.83232540e+00,   2.46693355e+00,   4.15728155e+00,\n",
       "         3.08480913e+00,   1.89706027e+00,   5.23292433e+00,\n",
       "         1.58092355e+00,   4.36600959e+00,   5.49428281e+00,\n",
       "         6.19257965e+00,   1.32962228e+00,   5.93718832e+00,\n",
       "         1.30958727e+00,   5.55378908e+00,   5.50174654e-01,\n",
       "         2.28754934e+00,   4.57659881e+00,   1.64458579e+00,\n",
       "         4.99006456e+00,   2.62775689e-01,   5.53961222e+00,\n",
       "         1.34751729e+00,   6.21214447e+00,   3.10588672e+00,\n",
       "         3.05031010e+00,   3.35229595e+00,   3.99186564e+00,\n",
       "         2.41803614e+00,   5.25173492e+00,   2.03889303e+00,\n",
       "         2.12435630e-02,   4.83059833e+00,   6.01768133e-03,\n",
       "         2.03313477e+00,   1.53977206e+00,   5.07990721e+00,\n",
       "         3.15348986e+00,   6.94771085e-01,   5.87713468e+00,\n",
       "         1.31412939e+00,   6.15995724e+00,   1.15449287e+00,\n",
       "         4.48814253e+00,   4.63001284e+00,   2.68034743e+00,\n",
       "         5.33309809e+00,   1.19215091e+00,   5.97031115e+00,\n",
       "         5.53760005e+00,   8.13184247e-01,   2.68708543e+00,\n",
       "         2.41007825e-01,   1.50394247e+00,   5.04910161e+00,\n",
       "         8.10699744e-01,   2.61703102e-01,   5.31715099e+00,\n",
       "         4.20465590e+00,   1.81105224e+00,   2.53037566e+00,\n",
       "         3.66044639e+00,   5.43907087e+00,   5.63098255e+00,\n",
       "         5.42580436e-01,   7.01205690e-01,   4.94571023e+00,\n",
       "         5.39597836e+00,   2.94003836e+00,   5.90153931e+00,\n",
       "         1.41185624e+00,   2.81609360e+00,   3.39594012e+00,\n",
       "         5.08860359e+00,   4.83743902e+00,   2.44916286e+00,\n",
       "         4.26555803e-01,   2.57881413e+00,   6.01009858e+00,\n",
       "         9.74362690e-01,   3.42871247e+00,   1.27682045e+00,\n",
       "         9.00783423e-01,   9.17251489e-01,   2.24592137e+00,\n",
       "         5.79763528e+00,   1.94117778e+00,   5.29804860e+00,\n",
       "         1.95866450e+00,   3.29901214e+00,   5.26295770e+00,\n",
       "         1.15676932e+00,   3.66112379e+00,   5.98809475e+00,\n",
       "         3.87380610e+00,   2.27193576e+00,   6.25186071e+00,\n",
       "         7.07709262e-01,   5.26424758e-01,   5.83969429e+00,\n",
       "         2.95553296e-02,   3.78141920e+00,   4.70278191e+00,\n",
       "         3.82893367e+00,   2.22993594e+00,   3.32993590e+00,\n",
       "         1.82841450e+00,   4.85807399e+00,   2.15799375e+00,\n",
       "         1.46091617e+00,   3.75354365e+00,   5.04425773e+00,\n",
       "         3.15669671e+00,   4.69298954e+00,   5.41168226e+00,\n",
       "         7.93799229e-01,   4.08087231e+00,   5.09496620e+00,\n",
       "         3.11911757e+00,   5.93322372e+00,   2.42016766e+00,\n",
       "         5.53874888e+00,   3.37440694e+00,   4.85103790e+00,\n",
       "         2.69255415e+00,   5.43005947e+00,   1.67511394e+00,\n",
       "         3.07145756e+00,   4.74301323e+00,   2.62621934e+00,\n",
       "         1.34047806e+00,   5.58420924e+00])"
      ]
     },
     "execution_count": 58,
     "metadata": {},
     "output_type": "execute_result"
    }
   ],
   "source": [
    "thetas_true"
   ]
  },
  {
   "cell_type": "code",
   "execution_count": 62,
   "metadata": {
    "collapsed": true
   },
   "outputs": [],
   "source": [
    "thetas[thetas < 0] += 2* np.pi"
   ]
  },
  {
   "cell_type": "code",
   "execution_count": null,
   "metadata": {
    "collapsed": true
   },
   "outputs": [],
   "source": []
  }
 ],
 "metadata": {
  "kernelspec": {
   "display_name": "Python 2",
   "language": "python",
   "name": "python2"
  },
  "language_info": {
   "codemirror_mode": {
    "name": "ipython",
    "version": 2
   },
   "file_extension": ".py",
   "mimetype": "text/x-python",
   "name": "python",
   "nbconvert_exporter": "python",
   "pygments_lexer": "ipython2",
   "version": "2.7.13"
  }
 },
 "nbformat": 4,
 "nbformat_minor": 2
}
