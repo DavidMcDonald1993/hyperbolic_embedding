{
 "cells": [
  {
   "cell_type": "code",
   "execution_count": 1,
   "metadata": {},
   "outputs": [],
   "source": [
    "%matplotlib inline\n",
    "import numpy as np\n",
    "from scipy.stats import norm\n",
    "import pandas as pd\n",
    "import networkx as nx\n",
    "import matplotlib.pyplot as plt\n",
    "\n",
    "G = nx.read_gml(\"galFiltered.gml\").to_undirected()\n",
    "G = max(nx.connected_component_subgraphs(G), key=len)\n",
    "\n",
    "labels = nx.get_node_attributes(G, \"label\")\n",
    "\n",
    "genes_in_network = labels.values()\n",
    "\n",
    "expression_data = pd.read_csv(\"galExpData.csv\")\n",
    "\n",
    "genes_in_expression_data = expression_data.loc[:,[\"GENE\"]].as_matrix().flatten()\n",
    "\n",
    "genes_in_network = [gene for gene in genes_in_network if gene in genes_in_expression_data]\n",
    "\n",
    "# subnetwork that is labelled\n",
    "nodes_of_interest = [k for k, v in nx.get_node_attributes(G, \"label\").items() if v in genes_in_network]\n",
    "G = G.subgraph(nodes_of_interest)\n",
    "\n",
    "p_values = expression_data.set_index(\"GENE\").loc[genes_in_network,[\"gal1RGsig\", \"gal4RGsig\", \"gal80Rsig\"]].as_matrix()"
   ]
  },
  {
   "cell_type": "code",
   "execution_count": 2,
   "metadata": {
    "collapsed": true
   },
   "outputs": [],
   "source": [
    "z_scores = norm.ppf(1 - p_values)"
   ]
  },
  {
   "cell_type": "code",
   "execution_count": 3,
   "metadata": {},
   "outputs": [],
   "source": [
    "eps = 1e-8\n",
    "\n",
    "z_scores -= (z_scores.min(axis=0) + eps)"
   ]
  },
  {
   "cell_type": "code",
   "execution_count": 4,
   "metadata": {},
   "outputs": [],
   "source": [
    "z_scores = z_scores[:, 0, None]\n",
    "Z = z_scores.dot(z_scores.transpose())\n",
    "\n",
    "A = np.array(nx.adjacency_matrix(G).todense())\n",
    "\n",
    "AZ = A * Z"
   ]
  },
  {
   "cell_type": "code",
   "execution_count": 5,
   "metadata": {
    "collapsed": true
   },
   "outputs": [],
   "source": [
    "N = nx.number_of_nodes(G)\n",
    "\n",
    "# A = np.array(nx.adjacency_matrix(G).todense())\n",
    "DZ = AZ.sum(axis=0)\n",
    "\n",
    "W = (np.identity(N) + AZ.dot(np.diag(1./DZ))) / 2\n",
    "\n",
    "def matrix_multiply(M, n):\n",
    "    if n == 0:\n",
    "        return np.identity(M.shape[0])\n",
    "    if n % 2 == 0:\n",
    "        m = matrix_multiply(M, n/2).dot(matrix_multiply(M, n/2))\n",
    "    else: m = M.dot(matrix_multiply(M, n-1))\n",
    "    m[m < 0] = 0\n",
    "    return m / m.sum(axis=0)"
   ]
  },
  {
   "cell_type": "code",
   "execution_count": 6,
   "metadata": {
    "collapsed": true
   },
   "outputs": [],
   "source": [
    "n = 5\n",
    "\n",
    "# targets = matrix_multiply(W, n=50)\n",
    "targets = matrix_multiply(W, n=n)\n",
    "\n",
    "D_n = targets.sum(axis=1)\n",
    "\n",
    "I = np.identity(N)"
   ]
  },
  {
   "cell_type": "code",
   "execution_count": 7,
   "metadata": {},
   "outputs": [
    {
     "name": "stderr",
     "output_type": "stream",
     "text": [
      "Using Theano backend.\n"
     ]
    }
   ],
   "source": [
    "from keras.models import Model\n",
    "from keras.layers import Input, Dense, Dropout, Lambda, Merge\n",
    "from keras.layers.merge import Dot\n",
    "from keras.regularizers import l2\n",
    "\n",
    "import keras.backend as K"
   ]
  },
  {
   "cell_type": "code",
   "execution_count": 8,
   "metadata": {},
   "outputs": [],
   "source": [
    "degree_sort = D_n.argsort()[::-1]"
   ]
  },
  {
   "cell_type": "code",
   "execution_count": 9,
   "metadata": {},
   "outputs": [],
   "source": [
    "ranked_nodes = np.array([np.where(degree_sort==x)[0][0] for x in range(N)])"
   ]
  },
  {
   "cell_type": "code",
   "execution_count": 10,
   "metadata": {
    "collapsed": true
   },
   "outputs": [],
   "source": [
    "import powerlaw"
   ]
  },
  {
   "cell_type": "code",
   "execution_count": 11,
   "metadata": {},
   "outputs": [
    {
     "name": "stderr",
     "output_type": "stream",
     "text": [
      "Calculating best minimal value for power law fit\n"
     ]
    }
   ],
   "source": [
    "result = powerlaw.Fit(D_n)"
   ]
  },
  {
   "cell_type": "code",
   "execution_count": 12,
   "metadata": {},
   "outputs": [],
   "source": [
    "gamma = result.alpha"
   ]
  },
  {
   "cell_type": "code",
   "execution_count": 13,
   "metadata": {
    "collapsed": true
   },
   "outputs": [],
   "source": [
    "beta = 1. / (gamma - 1)"
   ]
  },
  {
   "cell_type": "code",
   "execution_count": 14,
   "metadata": {
    "collapsed": true
   },
   "outputs": [],
   "source": [
    "R = 2 * beta * np.log(range(1, N + 1)) + 2 * (1 - beta) * np.log(N) \n",
    "R = R[ranked_nodes]"
   ]
  },
  {
   "cell_type": "code",
   "execution_count": 15,
   "metadata": {
    "collapsed": true
   },
   "outputs": [],
   "source": [
    "T = 0.5\n",
    "degrees = np.array(nx.degree(G).values())\n",
    "m = degrees.mean() / 2\n",
    "r_t = R.max()\n",
    "disk_R = r_t - 2 * np.log((2 * T * (1 - np.exp(- 0.5 * (1 - beta) * r_t))) / (m * (1 - beta) * np.sin(np.pi * T)))"
   ]
  },
  {
   "cell_type": "code",
   "execution_count": 27,
   "metadata": {
    "collapsed": true
   },
   "outputs": [],
   "source": [
    "def cosh(x):\n",
    "    return (K.exp(x) + K.exp(-x)) / 2\n",
    "\n",
    "def sinh(x):\n",
    "    return (K.exp(x) - K.exp(-x)) / 2\n",
    "\n",
    "def arccosh(x):\n",
    "    return K.log(x + K.sqrt(x ** 2 - 1) )\n",
    "\n",
    "def hyperbolic_distance(args):\n",
    "    \n",
    "    theta1, theta2, r1, r2 = args\n",
    "    \n",
    "    # compute hyperbolic distance \n",
    "    pi = K.constant(np.pi)\n",
    "    delta = pi - K.abs(pi - K.abs(theta1 - theta1))\n",
    "    d = cosh(r1) * cosh(r2) - sinh(r1) * sinh(r2) * K.cos(delta)\n",
    "    d = K.maximum(1 + K.epsilon(), d)\n",
    "    d = arccosh(d)\n",
    "    \n",
    "    return d\n",
    "\n",
    "def compute_probability(d):\n",
    "    return K.sigmoid((disk_R - d) / (2 * T))"
   ]
  },
  {
   "cell_type": "code",
   "execution_count": 17,
   "metadata": {
    "collapsed": true
   },
   "outputs": [],
   "source": [
    "def generator(batch_size, num_pos, num_neg, eps=1e-8):\n",
    "    \n",
    "    while True:\n",
    "        \n",
    "        nodes = np.random.choice(N, size=batch_size)\n",
    "        \n",
    "        # positive samples\n",
    "        pos = np.array([np.random.choice(N, p=targets[:,n], size=num_pos) for n in nodes])\n",
    "        \n",
    "        # negative samples \n",
    "        neg = np.array([np.random.choice(np.where(targets[:,n] < eps)[0], size=num_neg) for n in nodes])\n",
    "        \n",
    "        in1 = np.array([I[n] for n in nodes for i in range(num_pos + num_neg) ])\n",
    "    \n",
    "        in2 = I[np.append(pos, neg)]\n",
    "                \n",
    "        targs = np.array([np.append(np.ones(num_pos), np.zeros(num_neg)) for i in range(batch_size)]).reshape(-1, 1)\n",
    "        \n",
    "        yield [in1, in2], targs"
   ]
  },
  {
   "cell_type": "code",
   "execution_count": 18,
   "metadata": {
    "collapsed": true
   },
   "outputs": [],
   "source": [
    "batch_size = 1\n",
    "num_pos = 1\n",
    "num_neg = 1"
   ]
  },
  {
   "cell_type": "code",
   "execution_count": 19,
   "metadata": {},
   "outputs": [],
   "source": [
    "gen = generator(batch_size, num_pos, num_neg)"
   ]
  },
  {
   "cell_type": "code",
   "execution_count": 20,
   "metadata": {},
   "outputs": [],
   "source": [
    "[in1, in2], t = gen.next()"
   ]
  },
  {
   "cell_type": "code",
   "execution_count": 21,
   "metadata": {},
   "outputs": [
    {
     "data": {
      "text/plain": [
       "array([79, 79])"
      ]
     },
     "execution_count": 21,
     "metadata": {},
     "output_type": "execute_result"
    }
   ],
   "source": [
    "in1.argmax(axis=1)"
   ]
  },
  {
   "cell_type": "code",
   "execution_count": 22,
   "metadata": {},
   "outputs": [
    {
     "data": {
      "text/plain": [
       "array([77, 75])"
      ]
     },
     "execution_count": 22,
     "metadata": {},
     "output_type": "execute_result"
    }
   ],
   "source": [
    "in2.argmax(axis=1)"
   ]
  },
  {
   "cell_type": "code",
   "execution_count": 23,
   "metadata": {},
   "outputs": [
    {
     "data": {
      "text/plain": [
       "array([[ 1.],\n",
       "       [ 0.]])"
      ]
     },
     "execution_count": 23,
     "metadata": {},
     "output_type": "execute_result"
    }
   ],
   "source": [
    "t"
   ]
  },
  {
   "cell_type": "code",
   "execution_count": 24,
   "metadata": {},
   "outputs": [],
   "source": [
    "# contruct model to determine angular coordinates from one hot representation of node\n",
    "x = Input(shape=(N,))\n",
    "y = Dense(64, activation=\"tanh\")(x)\n",
    "y = Dense(1)(y)\n",
    "\n",
    "angular_embedder = Model(x, y)"
   ]
  },
  {
   "cell_type": "code",
   "execution_count": null,
   "metadata": {
    "collapsed": true
   },
   "outputs": [],
   "source": [
    "from keras.layers import Ide"
   ]
  },
  {
   "cell_type": "code",
   "execution_count": 29,
   "metadata": {},
   "outputs": [
    {
     "ename": "RuntimeError",
     "evalue": "Graph disconnected: cannot obtain value for tensor lambda_1/lambda_4/input_9 at layer \"input_9\". The following previous layers were accessed without issue: ['input_6']",
     "output_type": "error",
     "traceback": [
      "\u001b[0;31m---------------------------------------------------------------------------\u001b[0m",
      "\u001b[0;31mRuntimeError\u001b[0m                              Traceback (most recent call last)",
      "\u001b[0;32m<ipython-input-29-078ea497b9c9>\u001b[0m in \u001b[0;36m<module>\u001b[0;34m()\u001b[0m\n\u001b[1;32m     16\u001b[0m \u001b[0mprobabilities\u001b[0m \u001b[0;34m=\u001b[0m \u001b[0mLambda\u001b[0m\u001b[0;34m(\u001b[0m\u001b[0mcompute_probability\u001b[0m\u001b[0;34m,\u001b[0m \u001b[0moutput_shape\u001b[0m\u001b[0;34m=\u001b[0m\u001b[0;34m(\u001b[0m\u001b[0;36m1\u001b[0m\u001b[0;34m,\u001b[0m\u001b[0;34m)\u001b[0m\u001b[0;34m)\u001b[0m\u001b[0;34m(\u001b[0m\u001b[0mhyperbolic_distances\u001b[0m\u001b[0;34m)\u001b[0m\u001b[0;34m\u001b[0m\u001b[0m\n\u001b[1;32m     17\u001b[0m \u001b[0;34m\u001b[0m\u001b[0m\n\u001b[0;32m---> 18\u001b[0;31m \u001b[0mprobability_model\u001b[0m \u001b[0;34m=\u001b[0m \u001b[0mModel\u001b[0m\u001b[0;34m(\u001b[0m\u001b[0;34m[\u001b[0m\u001b[0mx1\u001b[0m\u001b[0;34m,\u001b[0m \u001b[0mx2\u001b[0m\u001b[0;34m]\u001b[0m\u001b[0;34m,\u001b[0m \u001b[0mprobabilities\u001b[0m\u001b[0;34m)\u001b[0m\u001b[0;34m\u001b[0m\u001b[0m\n\u001b[0m\u001b[1;32m     19\u001b[0m \u001b[0mprobability_model\u001b[0m\u001b[0;34m.\u001b[0m\u001b[0mcompile\u001b[0m\u001b[0;34m(\u001b[0m\u001b[0mloss\u001b[0m\u001b[0;34m=\u001b[0m\u001b[0;34m\"binary_crossentropy\"\u001b[0m\u001b[0;34m,\u001b[0m \u001b[0moptimizer\u001b[0m\u001b[0;34m=\u001b[0m\u001b[0;34m\"adam\"\u001b[0m\u001b[0;34m)\u001b[0m\u001b[0;34m\u001b[0m\u001b[0m\n",
      "\u001b[0;32m/home/david/miniconda2/lib/python2.7/site-packages/keras/legacy/interfaces.pyc\u001b[0m in \u001b[0;36mwrapper\u001b[0;34m(*args, **kwargs)\u001b[0m\n\u001b[1;32m     85\u001b[0m                 warnings.warn('Update your `' + object_name +\n\u001b[1;32m     86\u001b[0m                               '` call to the Keras 2 API: ' + signature, stacklevel=2)\n\u001b[0;32m---> 87\u001b[0;31m             \u001b[0;32mreturn\u001b[0m \u001b[0mfunc\u001b[0m\u001b[0;34m(\u001b[0m\u001b[0;34m*\u001b[0m\u001b[0margs\u001b[0m\u001b[0;34m,\u001b[0m \u001b[0;34m**\u001b[0m\u001b[0mkwargs\u001b[0m\u001b[0;34m)\u001b[0m\u001b[0;34m\u001b[0m\u001b[0m\n\u001b[0m\u001b[1;32m     88\u001b[0m         \u001b[0mwrapper\u001b[0m\u001b[0;34m.\u001b[0m\u001b[0m_original_function\u001b[0m \u001b[0;34m=\u001b[0m \u001b[0mfunc\u001b[0m\u001b[0;34m\u001b[0m\u001b[0m\n\u001b[1;32m     89\u001b[0m         \u001b[0;32mreturn\u001b[0m \u001b[0mwrapper\u001b[0m\u001b[0;34m\u001b[0m\u001b[0m\n",
      "\u001b[0;32m/home/david/miniconda2/lib/python2.7/site-packages/keras/engine/topology.pyc\u001b[0m in \u001b[0;36m__init__\u001b[0;34m(self, inputs, outputs, name)\u001b[0m\n\u001b[1;32m   1780\u001b[0m                                 \u001b[0;34m'The following previous layers '\u001b[0m\u001b[0;34m\u001b[0m\u001b[0m\n\u001b[1;32m   1781\u001b[0m                                 \u001b[0;34m'were accessed without issue: '\u001b[0m \u001b[0;34m+\u001b[0m\u001b[0;34m\u001b[0m\u001b[0m\n\u001b[0;32m-> 1782\u001b[0;31m                                 str(layers_with_complete_input))\n\u001b[0m\u001b[1;32m   1783\u001b[0m                     \u001b[0;32mfor\u001b[0m \u001b[0mx\u001b[0m \u001b[0;32min\u001b[0m \u001b[0mnode\u001b[0m\u001b[0;34m.\u001b[0m\u001b[0moutput_tensors\u001b[0m\u001b[0;34m:\u001b[0m\u001b[0;34m\u001b[0m\u001b[0m\n\u001b[1;32m   1784\u001b[0m                         \u001b[0mcomputable_tensors\u001b[0m\u001b[0;34m.\u001b[0m\u001b[0mappend\u001b[0m\u001b[0;34m(\u001b[0m\u001b[0mx\u001b[0m\u001b[0;34m)\u001b[0m\u001b[0;34m\u001b[0m\u001b[0m\n",
      "\u001b[0;31mRuntimeError\u001b[0m: Graph disconnected: cannot obtain value for tensor lambda_1/lambda_4/input_9 at layer \"input_9\". The following previous layers were accessed without issue: ['input_6']"
     ]
    }
   ],
   "source": [
    "# embedder of two nodes\n",
    "x1 = Input(shape=(N,))\n",
    "x2 = Input(shape=(N,))\n",
    "\n",
    "# r1 = Input(shape=(1,))\n",
    "# r2 = Input(shape=(1,))\n",
    "\n",
    "# # idenity layer for Rs\n",
    "# r1 = Lambda(lambda x : x + 0, output_shape=(1,))(r1)\n",
    "# r2 = Lambda(lambda x : x + 0, output_shape=(1,))(r2)\n",
    "\n",
    "theta1 = angular_embedder(x1)\n",
    "theta2 = angular_embedder(x2)\n",
    "\n",
    "hyperbolic_distances = Lambda(hyperbolic_distance, output_shape=(1,))([r1, r2, theta1, theta2])\n",
    "probabilities = Lambda(compute_probability, output_shape=(1,))(hyperbolic_distances)\n",
    "\n",
    "probability_model = Model([x1, x2], probabilities)\n",
    "probability_model.compile(loss=\"binary_crossentropy\", optimizer=\"adam\")"
   ]
  },
  {
   "cell_type": "code",
   "execution_count": null,
   "metadata": {
    "collapsed": true
   },
   "outputs": [],
   "source": []
  }
 ],
 "metadata": {
  "kernelspec": {
   "display_name": "Python 2",
   "language": "python",
   "name": "python2"
  },
  "language_info": {
   "codemirror_mode": {
    "name": "ipython",
    "version": 2
   },
   "file_extension": ".py",
   "mimetype": "text/x-python",
   "name": "python",
   "nbconvert_exporter": "python",
   "pygments_lexer": "ipython2",
   "version": "2.7.13"
  }
 },
 "nbformat": 4,
 "nbformat_minor": 2
}
