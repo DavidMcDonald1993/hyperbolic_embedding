{
 "cells": [
  {
   "cell_type": "code",
   "execution_count": 8,
   "metadata": {
    "collapsed": false
   },
   "outputs": [],
   "source": [
    "%matplotlib inline\n",
    "import numpy as np\n",
    "from sklearn.datasets import load_iris\n",
    "import matplotlib.pyplot as plt"
   ]
  },
  {
   "cell_type": "code",
   "execution_count": 3,
   "metadata": {
    "collapsed": true
   },
   "outputs": [],
   "source": [
    "X, y = load_iris(return_X_y=True)"
   ]
  },
  {
   "cell_type": "code",
   "execution_count": 4,
   "metadata": {
    "collapsed": false
   },
   "outputs": [
    {
     "data": {
      "text/plain": [
       "(150, 4)"
      ]
     },
     "execution_count": 4,
     "metadata": {},
     "output_type": "execute_result"
    }
   ],
   "source": [
    "X.shape"
   ]
  },
  {
   "cell_type": "code",
   "execution_count": 12,
   "metadata": {
    "collapsed": false
   },
   "outputs": [],
   "source": [
    "Y =(X - np.mean(X, axis=0)) / np.std(X, axis=0)"
   ]
  },
  {
   "cell_type": "code",
   "execution_count": 5,
   "metadata": {
    "collapsed": false
   },
   "outputs": [
    {
     "data": {
      "text/plain": [
       "array([[ 4.75      ,  4.42166667,  4.35333333, ...,  2.915     ,\n",
       "         2.475     ,  2.6       ],\n",
       "       [ 4.42166667,  4.14916667,  4.055     , ...,  2.95583333,\n",
       "         2.50416667,  2.62833333],\n",
       "       [ 4.35333333,  4.055     ,  3.99      , ...,  2.68833333,\n",
       "         2.28166667,  2.39666667],\n",
       "       ..., \n",
       "       [ 2.915     ,  2.95583333,  2.68833333, ...,  4.18916667,\n",
       "         3.65083333,  3.835     ],\n",
       "       [ 2.475     ,  2.50416667,  2.28166667, ...,  3.65083333,\n",
       "         3.20916667,  3.375     ],\n",
       "       [ 2.6       ,  2.62833333,  2.39666667, ...,  3.835     ,\n",
       "         3.375     ,  3.55      ]])"
      ]
     },
     "execution_count": 5,
     "metadata": {},
     "output_type": "execute_result"
    }
   ],
   "source": [
    "np.cov(X)"
   ]
  },
  {
   "cell_type": "code",
   "execution_count": 15,
   "metadata": {
    "collapsed": false
   },
   "outputs": [
    {
     "data": {
      "text/plain": [
       "<matplotlib.collections.PathCollection at 0x7f73aedc4810>"
      ]
     },
     "execution_count": 15,
     "metadata": {},
     "output_type": "execute_result"
    },
    {
     "data": {
      "image/png": "[encoded data removed]",
      "text/plain": [
       "<matplotlib.figure.Figure at 0x7f73aef16110>"
      ]
     },
     "metadata": {},
     "output_type": "display_data"
    }
   ],
   "source": [
    "plt.scatter(Y[:,0], Y[:,1], c=y)"
   ]
  },
  {
   "cell_type": "code",
   "execution_count": 14,
   "metadata": {
    "collapsed": false
   },
   "outputs": [
    {
     "data": {
      "text/plain": [
       "array([ 1.,  1.,  1.,  1.])"
      ]
     },
     "execution_count": 14,
     "metadata": {},
     "output_type": "execute_result"
    }
   ],
   "source": [
    "np.std(Y, axis=0)"
   ]
  },
  {
   "cell_type": "code",
   "execution_count": 25,
   "metadata": {
    "collapsed": false
   },
   "outputs": [
    {
     "data": {
      "text/plain": [
       "array([[ 1.26935536,  0.64987728,  0.94166734, ..., -0.57458312,\n",
       "        -0.14548004, -0.43589371],\n",
       "       [ 0.64987728,  0.33302068,  0.4849735 , ..., -0.29401609,\n",
       "        -0.06772633, -0.21867228],\n",
       "       [ 0.94166734,  0.4849735 ,  0.72674568, ..., -0.42778472,\n",
       "        -0.04608618, -0.27836438],\n",
       "       ..., \n",
       "       [-0.57458312, -0.29401609, -0.42778472, ...,  0.2708685 ,\n",
       "         0.0786054 ,  0.19208669],\n",
       "       [-0.14548004, -0.06772633, -0.04608618, ...,  0.0786054 ,\n",
       "         0.17668562,  0.14455133],\n",
       "       [-0.43589371, -0.21867228, -0.27836438, ...,  0.19208669,\n",
       "         0.14455133,  0.22229033]])"
      ]
     },
     "execution_count": 25,
     "metadata": {},
     "output_type": "execute_result"
    }
   ],
   "source": [
    "np.cov(Y)"
   ]
  },
  {
   "cell_type": "code",
   "execution_count": 27,
   "metadata": {
    "collapsed": false
   },
   "outputs": [
    {
     "data": {
      "text/plain": [
       "array([[ 5.39928824,  4.42344996,  5.19563181, ..., -3.32821623,\n",
       "        -2.71593861, -2.25190021],\n",
       "       [ 4.42344996,  4.84502161,  5.14045674, ..., -3.37645747,\n",
       "        -3.74703658, -2.12396162],\n",
       "       [ 5.19563181,  5.14045674,  5.71204152, ..., -3.67371614,\n",
       "        -3.5342941 , -2.24180675],\n",
       "       ..., \n",
       "       [-3.32821623, -3.37645747, -3.67371614, ...,  2.4304273 ,\n",
       "         2.53428835,  1.52833846],\n",
       "       [-2.71593861, -3.74703658, -3.5342941 , ...,  2.53428835,\n",
       "         3.79554269,  1.78629099],\n",
       "       [-2.25190021, -2.12396162, -2.24180675, ...,  1.52833846,\n",
       "         1.78629099,  1.22716339]])"
      ]
     },
     "execution_count": 27,
     "metadata": {},
     "output_type": "execute_result"
    }
   ],
   "source": [
    "Y.dot(Y.T)"
   ]
  },
  {
   "cell_type": "code",
   "execution_count": 29,
   "metadata": {
    "collapsed": false
   },
   "outputs": [],
   "source": [
    "from sklearn.decomposition import PCA"
   ]
  },
  {
   "cell_type": "code",
   "execution_count": 55,
   "metadata": {
    "collapsed": true
   },
   "outputs": [],
   "source": [
    "pca = PCA(n_components=4)\n",
    "Z = pca.fit_transform(Y)"
   ]
  },
  {
   "cell_type": "code",
   "execution_count": 60,
   "metadata": {
    "collapsed": false
   },
   "outputs": [
    {
     "data": {
      "text/plain": [
       "<matplotlib.collections.PathCollection at 0x7f73ac053790>"
      ]
     },
     "execution_count": 60,
     "metadata": {},
     "output_type": "execute_result"
    },
    {
     "data": {
      "image/png": "[encoded data removed]",
      "text/plain": [
       "<matplotlib.figure.Figure at 0x7f73ac0af310>"
      ]
     },
     "metadata": {},
     "output_type": "display_data"
    }
   ],
   "source": [
    "plt.scatter(Zn[:,0], Zn[:,1], c=y)"
   ]
  },
  {
   "cell_type": "code",
   "execution_count": 56,
   "metadata": {
    "collapsed": false
   },
   "outputs": [],
   "source": [
    "U = pca.components_.T"
   ]
  },
  {
   "cell_type": "code",
   "execution_count": 57,
   "metadata": {
    "collapsed": false
   },
   "outputs": [
    {
     "data": {
      "text/plain": [
       "array([[ 0.52237162,  0.37231836, -0.72101681, -0.26199559],\n",
       "       [-0.26335492,  0.92555649,  0.24203288,  0.12413481],\n",
       "       [ 0.58125401,  0.02109478,  0.14089226,  0.80115427],\n",
       "       [ 0.56561105,  0.06541577,  0.6338014 , -0.52354627]])"
      ]
     },
     "execution_count": 57,
     "metadata": {},
     "output_type": "execute_result"
    }
   ],
   "source": [
    "U"
   ]
  },
  {
   "cell_type": "code",
   "execution_count": 58,
   "metadata": {
    "collapsed": false
   },
   "outputs": [
    {
     "data": {
      "text/plain": [
       "array([[  1.00000000e+00,   1.94289029e-16,  -2.77555756e-17,\n",
       "         -2.22044605e-16],\n",
       "       [  1.94289029e-16,   1.00000000e+00,   1.38777878e-17,\n",
       "          2.77555756e-17],\n",
       "       [ -2.77555756e-17,   1.38777878e-17,   1.00000000e+00,\n",
       "          1.11022302e-16],\n",
       "       [ -2.22044605e-16,   2.77555756e-17,   1.11022302e-16,\n",
       "          1.00000000e+00]])"
      ]
     },
     "execution_count": 58,
     "metadata": {},
     "output_type": "execute_result"
    }
   ],
   "source": [
    "U.dot(U.T)"
   ]
  },
  {
   "cell_type": "code",
   "execution_count": 59,
   "metadata": {
    "collapsed": false
   },
   "outputs": [
    {
     "data": {
      "text/plain": [
       "array([[  1.00000000e+00,   3.46944695e-17,   5.55111512e-17,\n",
       "          5.55111512e-17],\n",
       "       [  3.46944695e-17,   1.00000000e+00,  -1.66533454e-16,\n",
       "         -1.38777878e-17],\n",
       "       [  5.55111512e-17,  -1.66533454e-16,   1.00000000e+00,\n",
       "          5.55111512e-17],\n",
       "       [  5.55111512e-17,  -1.38777878e-17,   5.55111512e-17,\n",
       "          1.00000000e+00]])"
      ]
     },
     "execution_count": 59,
     "metadata": {},
     "output_type": "execute_result"
    }
   ],
   "source": [
    "U.T.dot(U)"
   ]
  },
  {
   "cell_type": "code",
   "execution_count": 61,
   "metadata": {
    "collapsed": false
   },
   "outputs": [
    {
     "data": {
      "text/plain": [
       "array([ 2.91081808,  0.92122093,  0.14735328,  0.02060771])"
      ]
     },
     "execution_count": 61,
     "metadata": {},
     "output_type": "execute_result"
    }
   ],
   "source": [
    "pca.explained_variance_"
   ]
  },
  {
   "cell_type": "code",
   "execution_count": 62,
   "metadata": {
    "collapsed": false
   },
   "outputs": [],
   "source": [
    "Zn = Z / np.sqrt(pca.explained_variance_)"
   ]
  },
  {
   "cell_type": "code",
   "execution_count": 63,
   "metadata": {
    "collapsed": false
   },
   "outputs": [
    {
     "data": {
      "text/plain": [
       "array([[  1.00671141e+00,   3.81522740e-17,  -1.58709734e-16,\n",
       "         -3.27851095e-17],\n",
       "       [  3.81522740e-17,   1.00671141e+00,   1.56520956e-16,\n",
       "          4.03061253e-17],\n",
       "       [ -1.58709734e-16,   1.56520956e-16,   1.00671141e+00,\n",
       "          9.09041671e-17],\n",
       "       [ -3.27851095e-17,   4.03061253e-17,   9.09041671e-17,\n",
       "          1.00671141e+00]])"
      ]
     },
     "execution_count": 63,
     "metadata": {},
     "output_type": "execute_result"
    }
   ],
   "source": [
    "np.cov(Zn.T)"
   ]
  },
  {
   "cell_type": "code",
   "execution_count": 71,
   "metadata": {
    "collapsed": false
   },
   "outputs": [],
   "source": [
    "Zn = Zn.dot(U)"
   ]
  },
  {
   "cell_type": "code",
   "execution_count": 72,
   "metadata": {
    "collapsed": false
   },
   "outputs": [
    {
     "data": {
      "text/plain": [
       "array([[  1.00671141e+00,   3.81499455e-16,   2.25770186e-16,\n",
       "         -2.54829714e-16],\n",
       "       [  3.81499455e-16,   1.00671141e+00,  -4.26020144e-16,\n",
       "         -7.84234720e-17],\n",
       "       [  2.25770186e-16,  -4.26020144e-16,   1.00671141e+00,\n",
       "          8.99727720e-17],\n",
       "       [ -2.54829714e-16,  -7.84234720e-17,   8.99727720e-17,\n",
       "          1.00671141e+00]])"
      ]
     },
     "execution_count": 72,
     "metadata": {},
     "output_type": "execute_result"
    }
   ],
   "source": [
    "np.cov(Zn.T)"
   ]
  },
  {
   "cell_type": "code",
   "execution_count": null,
   "metadata": {
    "collapsed": true
   },
   "outputs": [],
   "source": []
  }
 ],
 "metadata": {
  "anaconda-cloud": {},
  "kernelspec": {
   "display_name": "Python [default]",
   "language": "python",
   "name": "python2"
  },
  "language_info": {
   "codemirror_mode": {
    "name": "ipython",
    "version": 2
   },
   "file_extension": ".py",
   "mimetype": "text/x-python",
   "name": "python",
   "nbconvert_exporter": "python",
   "pygments_lexer": "ipython2",
   "version": "2.7.13"
  }
 },
 "nbformat": 4,
 "nbformat_minor": 2
}
